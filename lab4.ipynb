{
 "cells": [
  {
   "cell_type": "code",
   "execution_count": 1,
   "metadata": {
    "deletable": false,
    "editable": false
   },
   "outputs": [],
   "source": [
    "# Initialize Otter\n",
    "import otter\n",
    "grader = otter.Notebook(\"lab4.ipynb\")"
   ]
  },
  {
   "cell_type": "markdown",
   "metadata": {},
   "source": [
    "# Lab 4: Putting it all together in a mini project\n",
    "\n",
    "**This lab is an optional group lab.** You can choose to work alone of in a group of up to four students. You are in charge of how you want to work and who you want to work with. Maybe you really want to go through all the steps of the ML process yourself or maybe you want to practice your collaboration skills, it is up to you! Just remember to indicate who your group members are (if any) when you submit on Gradescope. If you choose to work in a group, you only need to use one of your GitHub repos."
   ]
  },
  {
   "cell_type": "markdown",
   "metadata": {},
   "source": [
    "<!-- BEGIN QUESTION -->\n",
    "\n",
    "<div class=\"alert alert-info\">\n",
    "\n",
    "## Submission instructions\n",
    "rubric={mechanics}\n",
    "\n",
    "<p>You receive marks for submitting your lab correctly, please follow these instructions:</p>\n",
    "\n",
    "<ul>\n",
    "  <li><a href=\"https://ubc-mds.github.io/resources_pages/general_lab_instructions/\">\n",
    "      Follow the general lab instructions.</a></li>\n",
    "  <li><a href=\"https://github.com/UBC-MDS/public/tree/master/rubric\">\n",
    "      Click here to view a description of the rubrics used to grade the questions</a></li>\n",
    "  <li>Make at least three commits.</li>\n",
    "  <li>Push your <code>.ipynb</code> file to your GitHub repository for this lab and upload it to Gradescope.</li>\n",
    "    <ul>\n",
    "      <li>Before submitting, make sure you restart the kernel and rerun all cells.</li>\n",
    "    </ul>\n",
    "  <li>Also upload a <code>.pdf</code> export of the notebook to facilitate grading of manual questions (preferably WebPDF, you can select two files when uploading to gradescope)</li>\n",
    "  <li>Don't change any variable names that are given to you, don't move cells around, and don't include any code to install packages in the notebook.</li>\n",
    "  <li>The data you download for this lab <b>SHOULD NOT BE PUSHED TO YOUR REPOSITORY</b> (there is also a <code>.gitignore</code> in the repo to prevent this).</li>\n",
    "  <li>Include a clickable link to your GitHub repo for the lab just below this cell\n",
    "    <ul>\n",
    "      <li>It should look something like this https://github.ubc.ca/MDS-2020-21/DSCI_531_labX_yourcwl.</li>\n",
    "    </ul>\n",
    "  </li>\n",
    "</ul>\n",
    "</div>\n",
    "\n",
    "_Points:_ 2"
   ]
  },
  {
   "cell_type": "markdown",
   "metadata": {},
   "source": [
    "https://github.ubc.ca/MDS-2022-23/DSCI_573_lab4_mormf728"
   ]
  },
  {
   "cell_type": "markdown",
   "metadata": {},
   "source": [
    "<!-- END QUESTION -->\n",
    "\n",
    "## Introduction <a name=\"in\"></a>\n",
    "\n",
    "In this lab you will be working on an open-ended mini-project, where you will put all the different things you have learned so far in 571 and 573 together to solve an interesting problem.\n",
    "\n",
    "A few notes and tips when you work on this mini-project: \n",
    "\n",
    "#### Tips\n",
    "1. Since this mini-project is open-ended there might be some situations where you'll have to use your own judgment and make your own decisions (as you would be doing when you work as a data scientist). Make sure you explain your decisions whenever necessary. \n",
    "2. **Do not include everything you ever tried in your submission** -- it's fine just to have your final code. That said, your code should be reproducible and well-documented. For example, if you chose your hyperparameters based on some hyperparameter optimization experiment, you should leave in the code for that experiment so that someone else could re-run it and obtain the same hyperparameters, rather than mysteriously just setting the hyperparameters to some (carefully chosen) values in your code. \n",
    "3. If you realize that you are repeating a lot of code try to organize it in functions. Clear presentation of your code, experiments, and results is the key to be successful in this lab. You may use code from lecture notes or previous lab solutions with appropriate attributions. \n",
    "\n",
    "#### Assessment\n",
    "We don't have some secret target score that you need to achieve to get a good grade. **You'll be assessed on demonstration of mastery of course topics, clear presentation, and the quality of your analysis and results.** For example, if you just have a bunch of code and no text or figures, that's not good. If you instead do a bunch of sane things and you have clearly motivated your choices, but still get lower model performance than your friend, don't sweat it.\n",
    "\n",
    "\n",
    "#### A final note\n",
    "Finally, the style of this \"project\" question is different from other assignments. It'll be up to you to decide when you're \"done\" -- in fact, this is one of the hardest parts of real projects. But please don't spend WAY too much time on this... perhaps \"several hours\" but not \"many hours\" is a good guideline for a high quality submission. Of course if you're having fun you're welcome to spend as much time as you want! But, if so, try not to do it out of perfectionism or getting the best possible grade. Do it because you're learning and enjoying it. Students from the past cohorts have found such kind of labs useful and fun and we hope you enjoy it as well. "
   ]
  },
  {
   "cell_type": "markdown",
   "metadata": {},
   "source": [
    "<!-- BEGIN QUESTION -->\n",
    "\n",
    "<div class=\"alert alert-info\">\n",
    "\n",
    "## 1. Pick your problem and explain the prediction problem <a name=\"1\"></a>\n",
    "rubric={reasoning}\n",
    "\n",
    "In this mini project, you will pick one of the following problems: \n",
    "\n",
    "1. A classification problem of predicting whether a credit card client will default or not. For this problem, you will use [Default of Credit Card Clients Dataset](https://www.kaggle.com/uciml/default-of-credit-card-clients-dataset). In this data set, there are 30,000 examples and 24 features, and the goal is to estimate whether a person will default (fail to pay) their credit card bills; this column is labeled \"default.payment.next.month\" in the data. The rest of the columns can be used as features. You may take some ideas and compare your results with [the associated research paper](https://www.sciencedirect.com/science/article/pii/S0957417407006719), which is available through [the UBC library](https://www.library.ubc.ca/). \n",
    "\n",
    "OR \n",
    "\n",
    "2. A regression problem of predicting `reviews_per_month`, as a proxy for the popularity of the listing with [New York City Airbnb listings from 2019 dataset](https://www.kaggle.com/dgomonov/new-york-city-airbnb-open-data). Airbnb could use this sort of model to predict how popular future listings might be before they are posted, perhaps to help guide hosts create more appealing listings. In reality they might instead use something like vacancy rate or average rating as their target, but we do not have that available here.\n",
    "\n",
    "**Your tasks:**\n",
    "\n",
    "1. Spend some time understanding the problem and what each feature means. Write a few sentences on your initial thoughts on the problem and the dataset. \n",
    "2. Download the dataset and read it as a pandas dataframe. \n",
    "3. Carry out any preliminary preprocessing, if needed (e.g., changing feature names, handling of NaN values etc.)\n",
    "    \n",
    "</div>\n",
    "\n",
    "_Points:_ 3"
   ]
  },
  {
   "cell_type": "markdown",
   "metadata": {},
   "source": [
    "It is a classification problem with tabular data. The data set includes demographic information of each client and their histories of payment of the past 6 months. Success in predicting whether a client will default or not is valuable as it enables banks to assess the risks earlier and impose necessary measures to clients are with high chance of defaulting."
   ]
  },
  {
   "cell_type": "code",
   "execution_count": 2,
   "metadata": {},
   "outputs": [],
   "source": [
    "import numpy as np\n",
    "import pandas as pd\n",
    "from sklearn.model_selection import cross_val_score, cross_validate, train_test_split, GridSearchCV, RandomizedSearchCV\n",
    "from sklearn.pipeline import Pipeline, make_pipeline\n",
    "from sklearn.neighbors import KNeighborsClassifier\n",
    "from sklearn.svm import SVC, LinearSVC\n",
    "from sklearn.ensemble import RandomForestClassifier\n",
    "from sklearn.naive_bayes import GaussianNB\n",
    "from sklearn.linear_model import LogisticRegression\n",
    "from sklearn.feature_selection import RFE\n",
    "from sklearn.metrics import classification_report, confusion_matrix, precision_recall_curve\n",
    "from joblib import dump, load\n",
    "import os\n",
    "import altair as alt\n",
    "alt.renderers.enable('mimetype')\n",
    "alt.data_transformers.enable('data_server')\n",
    "\n",
    "from functions import *"
   ]
  },
  {
   "cell_type": "code",
   "execution_count": 3,
   "metadata": {
    "tags": []
   },
   "outputs": [],
   "source": [
    "data_full = pd.read_csv( 'UCI_Credit_Card.csv')\n",
    "data_full = data_full.rename( columns = { 'PAY_0': 'PAY_1', 'default.payment.next.month': 'default'})"
   ]
  },
  {
   "cell_type": "markdown",
   "metadata": {},
   "source": [
    "<!-- END QUESTION -->\n",
    "\n",
    "<!-- BEGIN QUESTION -->\n",
    "\n",
    "<div class=\"alert alert-info\">\n",
    "\n",
    "## 2. Data splitting <a name=\"2\"></a>\n",
    "rubric={reasoning}\n",
    "\n",
    "**Your tasks:**\n",
    "\n",
    "1. Split the data into train and test portions.\n",
    "\n",
    "> Make the decision on the `test_size` based on the capacity of your laptop. \n",
    "    \n",
    "</div>\n",
    "\n",
    "_Points:_ 1"
   ]
  },
  {
   "cell_type": "code",
   "execution_count": 4,
   "metadata": {
    "tags": []
   },
   "outputs": [],
   "source": [
    "train_df, test_df = train_test_split( data_full, train_size = 0.2, random_state = 69)"
   ]
  },
  {
   "cell_type": "markdown",
   "metadata": {},
   "source": [
    "<!-- END QUESTION -->\n",
    "\n",
    "<!-- BEGIN QUESTION -->\n",
    "\n",
    "<div class=\"alert alert-info\">\n",
    "\n",
    "## 3. EDA <a name=\"3\"></a>\n",
    "rubric={viz,reasoning}\n",
    "    \n",
    "Perform exploratory data analysis on the train set.\n",
    "\n",
    "**Your tasks:**\n",
    "\n",
    "1. Include at least two summary statistics and two visualizations that you find useful, and accompany each one with a sentence explaining it.\n",
    "2. Summarize your initial observations about the data. \n",
    "3. Pick appropriate metric/metrics for assessment. \n",
    "    \n",
    "</div>\n",
    "\n",
    "_Points:_ 6"
   ]
  },
  {
   "cell_type": "markdown",
   "metadata": {},
   "source": [
    "_Type your answer here, replacing this text._"
   ]
  },
  {
   "cell_type": "code",
   "execution_count": 5,
   "metadata": {
    "tags": []
   },
   "outputs": [
    {
     "data": {
      "application/vnd.vegalite.v4+json": {
       "$schema": "https://vega.github.io/schema/vega-lite/v4.17.0.json",
       "config": {
        "view": {
         "continuousHeight": 300,
         "continuousWidth": 400
        }
       },
       "data": {
        "url": "http://localhost:56599/d2b9823680dd1bf88a35388bb03f985c.json"
       },
       "encoding": {
        "x": {
         "aggregate": "count",
         "type": "quantitative"
        },
        "y": {
         "field": "default",
         "type": "nominal"
        }
       },
       "height": 100,
       "mark": "bar",
       "title": "Distribution of Target Variable: default",
       "width": 300
      },
      "image/png": "[encoded data removed]",
      "text/plain": [
       "<VegaLite 4 object>\n",
       "\n",
       "If you see this message, it means the renderer has not been properly enabled\n",
       "for the frontend that you are using. For more information, see\n",
       "https://altair-viz.github.io/user_guide/troubleshooting.html\n"
      ]
     },
     "execution_count": 5,
     "metadata": {},
     "output_type": "execute_result"
    }
   ],
   "source": [
    "alt.Chart( train_df, title = 'Distribution of Target Variable: default').mark_bar().encode(\n",
    "    x = 'count()',\n",
    "    y = 'default:N'\n",
    ").properties(\n",
    "    height = 100,\n",
    "    width = 300)"
   ]
  },
  {
   "cell_type": "markdown",
   "metadata": {},
   "source": [
    "It can be seen that there is class imbalance in the target variable. More clients do not default."
   ]
  },
  {
   "cell_type": "code",
   "execution_count": 6,
   "metadata": {},
   "outputs": [],
   "source": [
    "\n",
    "def hist( train_df, feat = None, feat_list = None, repeat = False, title = '', n_bins = 20):\n",
    "    if repeat == False:\n",
    "        chart = alt.Chart( train_df).mark_bar().encode(\n",
    "            alt.X( feat, type='quantitative', bin = alt.Bin( maxbins = n_bins)),\n",
    "            alt.Y( 'count()', stack=False, title=''),\n",
    "            alt.Color( 'default', type='ordinal', scale=alt.Scale(scheme='category10'))\n",
    "        ).properties(\n",
    "            height=100,\n",
    "            width=1300\n",
    "        ).facet( 'default', columns = 1)\n",
    "        return chart\n",
    "    if repeat == True:\n",
    "        chart_list_0 = []\n",
    "        chart_list_1 = []\n",
    "        chart_list_concat = []\n",
    "        for feat in feat_list:\n",
    "            chart_tmp_0 = alt.Chart( train_df.query('default==0')).mark_bar().encode(\n",
    "                alt.X( feat, type='quantitative', bin = alt.Bin( maxbins = n_bins), scale = alt.Scale( domain = ( min( train_df[ feat].min()-1, 0), train_df[ feat].max()+1))),\n",
    "                alt.Y( 'count()', stack=False, title=''),\n",
    "                alt.Color( 'default', type='ordinal', scale=alt.Scale(scheme='category10'))\n",
    "            ).properties(\n",
    "                height=100,\n",
    "                width=300\n",
    "            )\n",
    "            chart_tmp_1 = alt.Chart( train_df.query('default==1')).mark_bar().encode(\n",
    "                alt.X( feat, type='quantitative', bin = alt.Bin( maxbins = n_bins), scale = alt.Scale( domain = ( min( train_df[ feat].min()-1, 0), train_df[ feat].max()+1))),\n",
    "                alt.Y( 'count()', stack=False, title=''),\n",
    "                alt.Color( 'default', type='ordinal', scale=alt.Scale(scheme='category10'))\n",
    "            ).properties(\n",
    "                height=100,\n",
    "                width=300\n",
    "            )\n",
    "            chart_list_0.append( chart_tmp_0)\n",
    "            chart_list_1.append( chart_tmp_1)\n",
    "            chart_concat = chart_tmp_0 | chart_tmp_1\n",
    "            chart_list_concat.append( chart_concat)\n",
    "        return alt.vconcat( *chart_list_concat, title = title)\n",
    "# Adopted from https://github.com/UBC-MDS/cervical-cancer-predictor/blob/main/src/cervical_cancer_data_eda.ipynb.\n",
    "# Function was written by the same author of this project (Chan)."
   ]
  },
  {
   "cell_type": "code",
   "execution_count": 7,
   "metadata": {},
   "outputs": [
    {
     "data": {
      "application/vnd.vegalite.v4+json": {
       "$schema": "https://vega.github.io/schema/vega-lite/v4.17.0.json",
       "config": {
        "view": {
         "continuousHeight": 300,
         "continuousWidth": 400
        }
       },
       "title": "Demographics",
       "vconcat": [
        {
         "hconcat": [
          {
           "data": {
            "url": "http://localhost:56599/63e561da5e5b879f2ed6fd63e5e09935.json"
           },
           "encoding": {
            "color": {
             "field": "default",
             "scale": {
              "scheme": "category10"
             },
             "type": "ordinal"
            },
            "x": {
             "bin": {
              "maxbins": 30
             },
             "field": "LIMIT_BAL",
             "scale": {
              "domain": [
               0,
               730001
              ]
             },
             "type": "quantitative"
            },
            "y": {
             "aggregate": "count",
             "stack": false,
             "title": "",
             "type": "quantitative"
            }
           },
           "height": 100,
           "mark": "bar",
           "width": 300
          },
          {
           "data": {
            "url": "http://localhost:56599/6f66e5c3691a7972f73903fd894d2f3d.json"
           },
           "encoding": {
            "color": {
             "field": "default",
             "scale": {
              "scheme": "category10"
             },
             "type": "ordinal"
            },
            "x": {
             "bin": {
              "maxbins": 30
             },
             "field": "LIMIT_BAL",
             "scale": {
              "domain": [
               0,
               730001
              ]
             },
             "type": "quantitative"
            },
            "y": {
             "aggregate": "count",
             "stack": false,
             "title": "",
             "type": "quantitative"
            }
           },
           "height": 100,
           "mark": "bar",
           "width": 300
          }
         ]
        },
        {
         "hconcat": [
          {
           "data": {
            "url": "http://localhost:56599/63e561da5e5b879f2ed6fd63e5e09935.json"
           },
           "encoding": {
            "color": {
             "field": "default",
             "scale": {
              "scheme": "category10"
             },
             "type": "ordinal"
            },
            "x": {
             "bin": {
              "maxbins": 30
             },
             "field": "AGE",
             "scale": {
              "domain": [
               0,
               73
              ]
             },
             "type": "quantitative"
            },
            "y": {
             "aggregate": "count",
             "stack": false,
             "title": "",
             "type": "quantitative"
            }
           },
           "height": 100,
           "mark": "bar",
           "width": 300
          },
          {
           "data": {
            "url": "http://localhost:56599/6f66e5c3691a7972f73903fd894d2f3d.json"
           },
           "encoding": {
            "color": {
             "field": "default",
             "scale": {
              "scheme": "category10"
             },
             "type": "ordinal"
            },
            "x": {
             "bin": {
              "maxbins": 30
             },
             "field": "AGE",
             "scale": {
              "domain": [
               0,
               73
              ]
             },
             "type": "quantitative"
            },
            "y": {
             "aggregate": "count",
             "stack": false,
             "title": "",
             "type": "quantitative"
            }
           },
           "height": 100,
           "mark": "bar",
           "width": 300
          }
         ]
        }
       ]
      },
      "image/png": "[encoded data removed]",
      "text/plain": [
       "<VegaLite 4 object>\n",
       "\n",
       "If you see this message, it means the renderer has not been properly enabled\n",
       "for the frontend that you are using. For more information, see\n",
       "https://altair-viz.github.io/user_guide/troubleshooting.html\n"
      ]
     },
     "execution_count": 7,
     "metadata": {},
     "output_type": "execute_result"
    }
   ],
   "source": [
    "hist( train_df = train_df, feat_list = [ 'LIMIT_BAL', 'AGE'], repeat = True, title = 'Demographics', n_bins = 30)"
   ]
  },
  {
   "cell_type": "markdown",
   "metadata": {},
   "source": [
    "Both amount of credit and age are positively skewed. No visual difference is observed."
   ]
  },
  {
   "cell_type": "code",
   "execution_count": 8,
   "metadata": {},
   "outputs": [
    {
     "data": {
      "application/vnd.vegalite.v4+json": {
       "$schema": "https://vega.github.io/schema/vega-lite/v4.17.0.json",
       "config": {
        "view": {
         "continuousHeight": 300,
         "continuousWidth": 400
        }
       },
       "title": "Amount of Bill Statement",
       "vconcat": [
        {
         "hconcat": [
          {
           "data": {
            "url": "http://localhost:56599/63e561da5e5b879f2ed6fd63e5e09935.json"
           },
           "encoding": {
            "color": {
             "field": "default",
             "scale": {
              "scheme": "category10"
             },
             "type": "ordinal"
            },
            "x": {
             "bin": {
              "maxbins": 50
             },
             "field": "BILL_AMT1",
             "scale": {
              "domain": [
               -14387,
               746815
              ]
             },
             "type": "quantitative"
            },
            "y": {
             "aggregate": "count",
             "stack": false,
             "title": "",
             "type": "quantitative"
            }
           },
           "height": 100,
           "mark": "bar",
           "width": 300
          },
          {
           "data": {
            "url": "http://localhost:56599/6f66e5c3691a7972f73903fd894d2f3d.json"
           },
           "encoding": {
            "color": {
             "field": "default",
             "scale": {
              "scheme": "category10"
             },
             "type": "ordinal"
            },
            "x": {
             "bin": {
              "maxbins": 50
             },
             "field": "BILL_AMT1",
             "scale": {
              "domain": [
               -14387,
               746815
              ]
             },
             "type": "quantitative"
            },
            "y": {
             "aggregate": "count",
             "stack": false,
             "title": "",
             "type": "quantitative"
            }
           },
           "height": 100,
           "mark": "bar",
           "width": 300
          }
         ]
        },
        {
         "hconcat": [
          {
           "data": {
            "url": "http://localhost:56599/63e561da5e5b879f2ed6fd63e5e09935.json"
           },
           "encoding": {
            "color": {
             "field": "default",
             "scale": {
              "scheme": "category10"
             },
             "type": "ordinal"
            },
            "x": {
             "bin": {
              "maxbins": 50
             },
             "field": "BILL_AMT2",
             "scale": {
              "domain": [
               -26215,
               586826
              ]
             },
             "type": "quantitative"
            },
            "y": {
             "aggregate": "count",
             "stack": false,
             "title": "",
             "type": "quantitative"
            }
           },
           "height": 100,
           "mark": "bar",
           "width": 300
          },
          {
           "data": {
            "url": "http://localhost:56599/6f66e5c3691a7972f73903fd894d2f3d.json"
           },
           "encoding": {
            "color": {
             "field": "default",
             "scale": {
              "scheme": "category10"
             },
             "type": "ordinal"
            },
            "x": {
             "bin": {
              "maxbins": 50
             },
             "field": "BILL_AMT2",
             "scale": {
              "domain": [
               -26215,
               586826
              ]
             },
             "type": "quantitative"
            },
            "y": {
             "aggregate": "count",
             "stack": false,
             "title": "",
             "type": "quantitative"
            }
           },
           "height": 100,
           "mark": "bar",
           "width": 300
          }
         ]
        },
        {
         "hconcat": [
          {
           "data": {
            "url": "http://localhost:56599/63e561da5e5b879f2ed6fd63e5e09935.json"
           },
           "encoding": {
            "color": {
             "field": "default",
             "scale": {
              "scheme": "category10"
             },
             "type": "ordinal"
            },
            "x": {
             "bin": {
              "maxbins": 50
             },
             "field": "BILL_AMT3",
             "scale": {
              "domain": [
               -61507,
               577016
              ]
             },
             "type": "quantitative"
            },
            "y": {
             "aggregate": "count",
             "stack": false,
             "title": "",
             "type": "quantitative"
            }
           },
           "height": 100,
           "mark": "bar",
           "width": 300
          },
          {
           "data": {
            "url": "http://localhost:56599/6f66e5c3691a7972f73903fd894d2f3d.json"
           },
           "encoding": {
            "color": {
             "field": "default",
             "scale": {
              "scheme": "category10"
             },
             "type": "ordinal"
            },
            "x": {
             "bin": {
              "maxbins": 50
             },
             "field": "BILL_AMT3",
             "scale": {
              "domain": [
               -61507,
               577016
              ]
             },
             "type": "quantitative"
            },
            "y": {
             "aggregate": "count",
             "stack": false,
             "title": "",
             "type": "quantitative"
            }
           },
           "height": 100,
           "mark": "bar",
           "width": 300
          }
         ]
        },
        {
         "hconcat": [
          {
           "data": {
            "url": "http://localhost:56599/63e561da5e5b879f2ed6fd63e5e09935.json"
           },
           "encoding": {
            "color": {
             "field": "default",
             "scale": {
              "scheme": "category10"
             },
             "type": "ordinal"
            },
            "x": {
             "bin": {
              "maxbins": 50
             },
             "field": "BILL_AMT4",
             "scale": {
              "domain": [
               -20321,
               572806
              ]
             },
             "type": "quantitative"
            },
            "y": {
             "aggregate": "count",
             "stack": false,
             "title": "",
             "type": "quantitative"
            }
           },
           "height": 100,
           "mark": "bar",
           "width": 300
          },
          {
           "data": {
            "url": "http://localhost:56599/6f66e5c3691a7972f73903fd894d2f3d.json"
           },
           "encoding": {
            "color": {
             "field": "default",
             "scale": {
              "scheme": "category10"
             },
             "type": "ordinal"
            },
            "x": {
             "bin": {
              "maxbins": 50
             },
             "field": "BILL_AMT4",
             "scale": {
              "domain": [
               -20321,
               572806
              ]
             },
             "type": "quantitative"
            },
            "y": {
             "aggregate": "count",
             "stack": false,
             "title": "",
             "type": "quantitative"
            }
           },
           "height": 100,
           "mark": "bar",
           "width": 300
          }
         ]
        },
        {
         "hconcat": [
          {
           "data": {
            "url": "http://localhost:56599/63e561da5e5b879f2ed6fd63e5e09935.json"
           },
           "encoding": {
            "color": {
             "field": "default",
             "scale": {
              "scheme": "category10"
             },
             "type": "ordinal"
            },
            "x": {
             "bin": {
              "maxbins": 50
             },
             "field": "BILL_AMT5",
             "scale": {
              "domain": [
               -37595,
               823541
              ]
             },
             "type": "quantitative"
            },
            "y": {
             "aggregate": "count",
             "stack": false,
             "title": "",
             "type": "quantitative"
            }
           },
           "height": 100,
           "mark": "bar",
           "width": 300
          },
          {
           "data": {
            "url": "http://localhost:56599/6f66e5c3691a7972f73903fd894d2f3d.json"
           },
           "encoding": {
            "color": {
             "field": "default",
             "scale": {
              "scheme": "category10"
             },
             "type": "ordinal"
            },
            "x": {
             "bin": {
              "maxbins": 50
             },
             "field": "BILL_AMT5",
             "scale": {
              "domain": [
               -37595,
               823541
              ]
             },
             "type": "quantitative"
            },
            "y": {
             "aggregate": "count",
             "stack": false,
             "title": "",
             "type": "quantitative"
            }
           },
           "height": 100,
           "mark": "bar",
           "width": 300
          }
         ]
        },
        {
         "hconcat": [
          {
           "data": {
            "url": "http://localhost:56599/63e561da5e5b879f2ed6fd63e5e09935.json"
           },
           "encoding": {
            "color": {
             "field": "default",
             "scale": {
              "scheme": "category10"
             },
             "type": "ordinal"
            },
            "x": {
             "bin": {
              "maxbins": 50
             },
             "field": "BILL_AMT6",
             "scale": {
              "domain": [
               -45735,
               527567
              ]
             },
             "type": "quantitative"
            },
            "y": {
             "aggregate": "count",
             "stack": false,
             "title": "",
             "type": "quantitative"
            }
           },
           "height": 100,
           "mark": "bar",
           "width": 300
          },
          {
           "data": {
            "url": "http://localhost:56599/6f66e5c3691a7972f73903fd894d2f3d.json"
           },
           "encoding": {
            "color": {
             "field": "default",
             "scale": {
              "scheme": "category10"
             },
             "type": "ordinal"
            },
            "x": {
             "bin": {
              "maxbins": 50
             },
             "field": "BILL_AMT6",
             "scale": {
              "domain": [
               -45735,
               527567
              ]
             },
             "type": "quantitative"
            },
            "y": {
             "aggregate": "count",
             "stack": false,
             "title": "",
             "type": "quantitative"
            }
           },
           "height": 100,
           "mark": "bar",
           "width": 300
          }
         ]
        }
       ]
      },
      "image/png": "[encoded data removed]",
      "text/plain": [
       "<VegaLite 4 object>\n",
       "\n",
       "If you see this message, it means the renderer has not been properly enabled\n",
       "for the frontend that you are using. For more information, see\n",
       "https://altair-viz.github.io/user_guide/troubleshooting.html\n"
      ]
     },
     "execution_count": 8,
     "metadata": {},
     "output_type": "execute_result"
    }
   ],
   "source": [
    "hist( train_df = train_df, feat_list = [ 'BILL_AMT1', 'BILL_AMT2', 'BILL_AMT3', 'BILL_AMT4', 'BILL_AMT5', 'BILL_AMT6'],\n",
    "     repeat = True, title = 'Amount of Bill Statement', n_bins = 50)"
   ]
  },
  {
   "cell_type": "markdown",
   "metadata": {},
   "source": [
    "All amounts of bill statements are positively skewed. No visual difference is observed."
   ]
  },
  {
   "cell_type": "code",
   "execution_count": 9,
   "metadata": {},
   "outputs": [
    {
     "data": {
      "application/vnd.vegalite.v4+json": {
       "$schema": "https://vega.github.io/schema/vega-lite/v4.17.0.json",
       "config": {
        "view": {
         "continuousHeight": 300,
         "continuousWidth": 400
        }
       },
       "title": "Amount of Payment",
       "vconcat": [
        {
         "hconcat": [
          {
           "data": {
            "url": "http://localhost:56599/63e561da5e5b879f2ed6fd63e5e09935.json"
           },
           "encoding": {
            "color": {
             "field": "default",
             "scale": {
              "scheme": "category10"
             },
             "type": "ordinal"
            },
            "x": {
             "bin": {
              "maxbins": 50
             },
             "field": "PAY_AMT1",
             "scale": {
              "domain": [
               -1,
               493359
              ]
             },
             "type": "quantitative"
            },
            "y": {
             "aggregate": "count",
             "stack": false,
             "title": "",
             "type": "quantitative"
            }
           },
           "height": 100,
           "mark": "bar",
           "width": 300
          },
          {
           "data": {
            "url": "http://localhost:56599/6f66e5c3691a7972f73903fd894d2f3d.json"
           },
           "encoding": {
            "color": {
             "field": "default",
             "scale": {
              "scheme": "category10"
             },
             "type": "ordinal"
            },
            "x": {
             "bin": {
              "maxbins": 50
             },
             "field": "PAY_AMT1",
             "scale": {
              "domain": [
               -1,
               493359
              ]
             },
             "type": "quantitative"
            },
            "y": {
             "aggregate": "count",
             "stack": false,
             "title": "",
             "type": "quantitative"
            }
           },
           "height": 100,
           "mark": "bar",
           "width": 300
          }
         ]
        },
        {
         "hconcat": [
          {
           "data": {
            "url": "http://localhost:56599/63e561da5e5b879f2ed6fd63e5e09935.json"
           },
           "encoding": {
            "color": {
             "field": "default",
             "scale": {
              "scheme": "category10"
             },
             "type": "ordinal"
            },
            "x": {
             "bin": {
              "maxbins": 50
             },
             "field": "PAY_AMT2",
             "scale": {
              "domain": [
               -1,
               1227083
              ]
             },
             "type": "quantitative"
            },
            "y": {
             "aggregate": "count",
             "stack": false,
             "title": "",
             "type": "quantitative"
            }
           },
           "height": 100,
           "mark": "bar",
           "width": 300
          },
          {
           "data": {
            "url": "http://localhost:56599/6f66e5c3691a7972f73903fd894d2f3d.json"
           },
           "encoding": {
            "color": {
             "field": "default",
             "scale": {
              "scheme": "category10"
             },
             "type": "ordinal"
            },
            "x": {
             "bin": {
              "maxbins": 50
             },
             "field": "PAY_AMT2",
             "scale": {
              "domain": [
               -1,
               1227083
              ]
             },
             "type": "quantitative"
            },
            "y": {
             "aggregate": "count",
             "stack": false,
             "title": "",
             "type": "quantitative"
            }
           },
           "height": 100,
           "mark": "bar",
           "width": 300
          }
         ]
        },
        {
         "hconcat": [
          {
           "data": {
            "url": "http://localhost:56599/63e561da5e5b879f2ed6fd63e5e09935.json"
           },
           "encoding": {
            "color": {
             "field": "default",
             "scale": {
              "scheme": "category10"
             },
             "type": "ordinal"
            },
            "x": {
             "bin": {
              "maxbins": 50
             },
             "field": "PAY_AMT3",
             "scale": {
              "domain": [
               -1,
               508230
              ]
             },
             "type": "quantitative"
            },
            "y": {
             "aggregate": "count",
             "stack": false,
             "title": "",
             "type": "quantitative"
            }
           },
           "height": 100,
           "mark": "bar",
           "width": 300
          },
          {
           "data": {
            "url": "http://localhost:56599/6f66e5c3691a7972f73903fd894d2f3d.json"
           },
           "encoding": {
            "color": {
             "field": "default",
             "scale": {
              "scheme": "category10"
             },
             "type": "ordinal"
            },
            "x": {
             "bin": {
              "maxbins": 50
             },
             "field": "PAY_AMT3",
             "scale": {
              "domain": [
               -1,
               508230
              ]
             },
             "type": "quantitative"
            },
            "y": {
             "aggregate": "count",
             "stack": false,
             "title": "",
             "type": "quantitative"
            }
           },
           "height": 100,
           "mark": "bar",
           "width": 300
          }
         ]
        },
        {
         "hconcat": [
          {
           "data": {
            "url": "http://localhost:56599/63e561da5e5b879f2ed6fd63e5e09935.json"
           },
           "encoding": {
            "color": {
             "field": "default",
             "scale": {
              "scheme": "category10"
             },
             "type": "ordinal"
            },
            "x": {
             "bin": {
              "maxbins": 50
             },
             "field": "PAY_AMT4",
             "scale": {
              "domain": [
               -1,
               432131
              ]
             },
             "type": "quantitative"
            },
            "y": {
             "aggregate": "count",
             "stack": false,
             "title": "",
             "type": "quantitative"
            }
           },
           "height": 100,
           "mark": "bar",
           "width": 300
          },
          {
           "data": {
            "url": "http://localhost:56599/6f66e5c3691a7972f73903fd894d2f3d.json"
           },
           "encoding": {
            "color": {
             "field": "default",
             "scale": {
              "scheme": "category10"
             },
             "type": "ordinal"
            },
            "x": {
             "bin": {
              "maxbins": 50
             },
             "field": "PAY_AMT4",
             "scale": {
              "domain": [
               -1,
               432131
              ]
             },
             "type": "quantitative"
            },
            "y": {
             "aggregate": "count",
             "stack": false,
             "title": "",
             "type": "quantitative"
            }
           },
           "height": 100,
           "mark": "bar",
           "width": 300
          }
         ]
        },
        {
         "hconcat": [
          {
           "data": {
            "url": "http://localhost:56599/63e561da5e5b879f2ed6fd63e5e09935.json"
           },
           "encoding": {
            "color": {
             "field": "default",
             "scale": {
              "scheme": "category10"
             },
             "type": "ordinal"
            },
            "x": {
             "bin": {
              "maxbins": 50
             },
             "field": "PAY_AMT5",
             "scale": {
              "domain": [
               -1,
               330983
              ]
             },
             "type": "quantitative"
            },
            "y": {
             "aggregate": "count",
             "stack": false,
             "title": "",
             "type": "quantitative"
            }
           },
           "height": 100,
           "mark": "bar",
           "width": 300
          },
          {
           "data": {
            "url": "http://localhost:56599/6f66e5c3691a7972f73903fd894d2f3d.json"
           },
           "encoding": {
            "color": {
             "field": "default",
             "scale": {
              "scheme": "category10"
             },
             "type": "ordinal"
            },
            "x": {
             "bin": {
              "maxbins": 50
             },
             "field": "PAY_AMT5",
             "scale": {
              "domain": [
               -1,
               330983
              ]
             },
             "type": "quantitative"
            },
            "y": {
             "aggregate": "count",
             "stack": false,
             "title": "",
             "type": "quantitative"
            }
           },
           "height": 100,
           "mark": "bar",
           "width": 300
          }
         ]
        },
        {
         "hconcat": [
          {
           "data": {
            "url": "http://localhost:56599/63e561da5e5b879f2ed6fd63e5e09935.json"
           },
           "encoding": {
            "color": {
             "field": "default",
             "scale": {
              "scheme": "category10"
             },
             "type": "ordinal"
            },
            "x": {
             "bin": {
              "maxbins": 50
             },
             "field": "PAY_AMT6",
             "scale": {
              "domain": [
               -1,
               528667
              ]
             },
             "type": "quantitative"
            },
            "y": {
             "aggregate": "count",
             "stack": false,
             "title": "",
             "type": "quantitative"
            }
           },
           "height": 100,
           "mark": "bar",
           "width": 300
          },
          {
           "data": {
            "url": "http://localhost:56599/6f66e5c3691a7972f73903fd894d2f3d.json"
           },
           "encoding": {
            "color": {
             "field": "default",
             "scale": {
              "scheme": "category10"
             },
             "type": "ordinal"
            },
            "x": {
             "bin": {
              "maxbins": 50
             },
             "field": "PAY_AMT6",
             "scale": {
              "domain": [
               -1,
               528667
              ]
             },
             "type": "quantitative"
            },
            "y": {
             "aggregate": "count",
             "stack": false,
             "title": "",
             "type": "quantitative"
            }
           },
           "height": 100,
           "mark": "bar",
           "width": 300
          }
         ]
        }
       ]
      },
      "image/png": "[encoded data removed]",
      "text/plain": [
       "<VegaLite 4 object>\n",
       "\n",
       "If you see this message, it means the renderer has not been properly enabled\n",
       "for the frontend that you are using. For more information, see\n",
       "https://altair-viz.github.io/user_guide/troubleshooting.html\n"
      ]
     },
     "execution_count": 9,
     "metadata": {},
     "output_type": "execute_result"
    }
   ],
   "source": [
    "hist( train_df = train_df, feat_list = [ 'PAY_AMT1', 'PAY_AMT2', 'PAY_AMT3', 'PAY_AMT4', 'PAY_AMT5', 'PAY_AMT6'],\n",
    "     repeat = True, title = 'Amount of Payment', n_bins = 50)"
   ]
  },
  {
   "cell_type": "markdown",
   "metadata": {},
   "source": [
    "Amounts of payments are heavily positively skewed. No visual difference is observed."
   ]
  },
  {
   "cell_type": "code",
   "execution_count": 10,
   "metadata": {},
   "outputs": [
    {
     "data": {
      "application/vnd.vegalite.v4+json": {
       "$schema": "https://vega.github.io/schema/vega-lite/v4.17.0.json",
       "config": {
        "view": {
         "continuousHeight": 300,
         "continuousWidth": 400
        }
       },
       "title": "Demographics",
       "vconcat": [
        {
         "hconcat": [
          {
           "data": {
            "url": "http://localhost:56599/63e561da5e5b879f2ed6fd63e5e09935.json"
           },
           "encoding": {
            "color": {
             "field": "default",
             "scale": {
              "scheme": "category10"
             },
             "type": "ordinal"
            },
            "x": {
             "aggregate": "count",
             "stack": false,
             "title": "",
             "type": "quantitative"
            },
            "y": {
             "field": "SEX",
             "scale": {
              "domain": [
               1,
               2
              ]
             },
             "type": "nominal"
            }
           },
           "height": 100,
           "mark": "bar",
           "width": 300
          },
          {
           "data": {
            "url": "http://localhost:56599/6f66e5c3691a7972f73903fd894d2f3d.json"
           },
           "encoding": {
            "color": {
             "field": "default",
             "scale": {
              "scheme": "category10"
             },
             "type": "ordinal"
            },
            "x": {
             "aggregate": "count",
             "stack": false,
             "title": "",
             "type": "quantitative"
            },
            "y": {
             "field": "SEX",
             "scale": {
              "domain": [
               1,
               2
              ]
             },
             "type": "nominal"
            }
           },
           "height": 100,
           "mark": "bar",
           "width": 300
          }
         ]
        },
        {
         "hconcat": [
          {
           "data": {
            "url": "http://localhost:56599/63e561da5e5b879f2ed6fd63e5e09935.json"
           },
           "encoding": {
            "color": {
             "field": "default",
             "scale": {
              "scheme": "category10"
             },
             "type": "ordinal"
            },
            "x": {
             "aggregate": "count",
             "stack": false,
             "title": "",
             "type": "quantitative"
            },
            "y": {
             "field": "EDUCATION",
             "scale": {
              "domain": [
               0,
               1,
               2,
               3,
               4,
               5,
               6
              ]
             },
             "type": "nominal"
            }
           },
           "height": 100,
           "mark": "bar",
           "width": 300
          },
          {
           "data": {
            "url": "http://localhost:56599/6f66e5c3691a7972f73903fd894d2f3d.json"
           },
           "encoding": {
            "color": {
             "field": "default",
             "scale": {
              "scheme": "category10"
             },
             "type": "ordinal"
            },
            "x": {
             "aggregate": "count",
             "stack": false,
             "title": "",
             "type": "quantitative"
            },
            "y": {
             "field": "EDUCATION",
             "scale": {
              "domain": [
               0,
               1,
               2,
               3,
               4,
               5,
               6
              ]
             },
             "type": "nominal"
            }
           },
           "height": 100,
           "mark": "bar",
           "width": 300
          }
         ]
        },
        {
         "hconcat": [
          {
           "data": {
            "url": "http://localhost:56599/63e561da5e5b879f2ed6fd63e5e09935.json"
           },
           "encoding": {
            "color": {
             "field": "default",
             "scale": {
              "scheme": "category10"
             },
             "type": "ordinal"
            },
            "x": {
             "aggregate": "count",
             "stack": false,
             "title": "",
             "type": "quantitative"
            },
            "y": {
             "field": "MARRIAGE",
             "scale": {
              "domain": [
               0,
               1,
               2,
               3
              ]
             },
             "type": "nominal"
            }
           },
           "height": 100,
           "mark": "bar",
           "width": 300
          },
          {
           "data": {
            "url": "http://localhost:56599/6f66e5c3691a7972f73903fd894d2f3d.json"
           },
           "encoding": {
            "color": {
             "field": "default",
             "scale": {
              "scheme": "category10"
             },
             "type": "ordinal"
            },
            "x": {
             "aggregate": "count",
             "stack": false,
             "title": "",
             "type": "quantitative"
            },
            "y": {
             "field": "MARRIAGE",
             "scale": {
              "domain": [
               0,
               1,
               2,
               3
              ]
             },
             "type": "nominal"
            }
           },
           "height": 100,
           "mark": "bar",
           "width": 300
          }
         ]
        }
       ]
      },
      "image/png": "[encoded data removed]",
      "text/plain": [
       "<VegaLite 4 object>\n",
       "\n",
       "If you see this message, it means the renderer has not been properly enabled\n",
       "for the frontend that you are using. For more information, see\n",
       "https://altair-viz.github.io/user_guide/troubleshooting.html\n"
      ]
     },
     "execution_count": 10,
     "metadata": {},
     "output_type": "execute_result"
    }
   ],
   "source": [
    "bar( train_df = train_df, feat_list = [ ('SEX', [ 1, 2]), ('EDUCATION', [ 0, 1, 2, 3, 4, 5, 6]),\n",
    "                                      ( 'MARRIAGE', [ 0, 1, 2, 3])],\n",
    "     repeat = True, title = 'Demographics')"
   ]
  },
  {
   "cell_type": "markdown",
   "metadata": {},
   "source": [
    "There are some missing values, undocumented. More data cleaning should be done. No visual difference is observed."
   ]
  },
  {
   "cell_type": "markdown",
   "metadata": {},
   "source": [
    "0 means missing value?"
   ]
  },
  {
   "cell_type": "code",
   "execution_count": 11,
   "metadata": {},
   "outputs": [
    {
     "data": {
      "application/vnd.vegalite.v4+json": {
       "$schema": "https://vega.github.io/schema/vega-lite/v4.17.0.json",
       "config": {
        "view": {
         "continuousHeight": 300,
         "continuousWidth": 400
        }
       },
       "title": "Repayment status",
       "vconcat": [
        {
         "hconcat": [
          {
           "data": {
            "url": "http://localhost:56599/63e561da5e5b879f2ed6fd63e5e09935.json"
           },
           "encoding": {
            "color": {
             "field": "default",
             "scale": {
              "scheme": "category10"
             },
             "type": "ordinal"
            },
            "x": {
             "aggregate": "count",
             "stack": false,
             "title": "",
             "type": "quantitative"
            },
            "y": {
             "field": "PAY_1",
             "scale": {
              "domain": [
               -2,
               -1,
               0,
               1,
               2,
               3,
               4,
               5,
               6,
               7,
               8
              ]
             },
             "type": "nominal"
            }
           },
           "height": 100,
           "mark": "bar",
           "width": 300
          },
          {
           "data": {
            "url": "http://localhost:56599/6f66e5c3691a7972f73903fd894d2f3d.json"
           },
           "encoding": {
            "color": {
             "field": "default",
             "scale": {
              "scheme": "category10"
             },
             "type": "ordinal"
            },
            "x": {
             "aggregate": "count",
             "stack": false,
             "title": "",
             "type": "quantitative"
            },
            "y": {
             "field": "PAY_1",
             "scale": {
              "domain": [
               -2,
               -1,
               0,
               1,
               2,
               3,
               4,
               5,
               6,
               7,
               8
              ]
             },
             "type": "nominal"
            }
           },
           "height": 100,
           "mark": "bar",
           "width": 300
          }
         ]
        },
        {
         "hconcat": [
          {
           "data": {
            "url": "http://localhost:56599/63e561da5e5b879f2ed6fd63e5e09935.json"
           },
           "encoding": {
            "color": {
             "field": "default",
             "scale": {
              "scheme": "category10"
             },
             "type": "ordinal"
            },
            "x": {
             "aggregate": "count",
             "stack": false,
             "title": "",
             "type": "quantitative"
            },
            "y": {
             "field": "PAY_2",
             "scale": {
              "domain": [
               -2,
               -1,
               0,
               1,
               2,
               3,
               4,
               5,
               6,
               7,
               8
              ]
             },
             "type": "nominal"
            }
           },
           "height": 100,
           "mark": "bar",
           "width": 300
          },
          {
           "data": {
            "url": "http://localhost:56599/6f66e5c3691a7972f73903fd894d2f3d.json"
           },
           "encoding": {
            "color": {
             "field": "default",
             "scale": {
              "scheme": "category10"
             },
             "type": "ordinal"
            },
            "x": {
             "aggregate": "count",
             "stack": false,
             "title": "",
             "type": "quantitative"
            },
            "y": {
             "field": "PAY_2",
             "scale": {
              "domain": [
               -2,
               -1,
               0,
               1,
               2,
               3,
               4,
               5,
               6,
               7,
               8
              ]
             },
             "type": "nominal"
            }
           },
           "height": 100,
           "mark": "bar",
           "width": 300
          }
         ]
        },
        {
         "hconcat": [
          {
           "data": {
            "url": "http://localhost:56599/63e561da5e5b879f2ed6fd63e5e09935.json"
           },
           "encoding": {
            "color": {
             "field": "default",
             "scale": {
              "scheme": "category10"
             },
             "type": "ordinal"
            },
            "x": {
             "aggregate": "count",
             "stack": false,
             "title": "",
             "type": "quantitative"
            },
            "y": {
             "field": "PAY_3",
             "scale": {
              "domain": [
               -2,
               -1,
               0,
               1,
               2,
               3,
               4,
               5,
               6,
               7,
               8
              ]
             },
             "type": "nominal"
            }
           },
           "height": 100,
           "mark": "bar",
           "width": 300
          },
          {
           "data": {
            "url": "http://localhost:56599/6f66e5c3691a7972f73903fd894d2f3d.json"
           },
           "encoding": {
            "color": {
             "field": "default",
             "scale": {
              "scheme": "category10"
             },
             "type": "ordinal"
            },
            "x": {
             "aggregate": "count",
             "stack": false,
             "title": "",
             "type": "quantitative"
            },
            "y": {
             "field": "PAY_3",
             "scale": {
              "domain": [
               -2,
               -1,
               0,
               1,
               2,
               3,
               4,
               5,
               6,
               7,
               8
              ]
             },
             "type": "nominal"
            }
           },
           "height": 100,
           "mark": "bar",
           "width": 300
          }
         ]
        },
        {
         "hconcat": [
          {
           "data": {
            "url": "http://localhost:56599/63e561da5e5b879f2ed6fd63e5e09935.json"
           },
           "encoding": {
            "color": {
             "field": "default",
             "scale": {
              "scheme": "category10"
             },
             "type": "ordinal"
            },
            "x": {
             "aggregate": "count",
             "stack": false,
             "title": "",
             "type": "quantitative"
            },
            "y": {
             "field": "PAY_4",
             "scale": {
              "domain": [
               -2,
               -1,
               0,
               1,
               2,
               3,
               4,
               5,
               6,
               7,
               8
              ]
             },
             "type": "nominal"
            }
           },
           "height": 100,
           "mark": "bar",
           "width": 300
          },
          {
           "data": {
            "url": "http://localhost:56599/6f66e5c3691a7972f73903fd894d2f3d.json"
           },
           "encoding": {
            "color": {
             "field": "default",
             "scale": {
              "scheme": "category10"
             },
             "type": "ordinal"
            },
            "x": {
             "aggregate": "count",
             "stack": false,
             "title": "",
             "type": "quantitative"
            },
            "y": {
             "field": "PAY_4",
             "scale": {
              "domain": [
               -2,
               -1,
               0,
               1,
               2,
               3,
               4,
               5,
               6,
               7,
               8
              ]
             },
             "type": "nominal"
            }
           },
           "height": 100,
           "mark": "bar",
           "width": 300
          }
         ]
        },
        {
         "hconcat": [
          {
           "data": {
            "url": "http://localhost:56599/63e561da5e5b879f2ed6fd63e5e09935.json"
           },
           "encoding": {
            "color": {
             "field": "default",
             "scale": {
              "scheme": "category10"
             },
             "type": "ordinal"
            },
            "x": {
             "aggregate": "count",
             "stack": false,
             "title": "",
             "type": "quantitative"
            },
            "y": {
             "field": "PAY_5",
             "scale": {
              "domain": [
               -2,
               -1,
               0,
               1,
               2,
               3,
               4,
               5,
               6,
               7,
               8
              ]
             },
             "type": "nominal"
            }
           },
           "height": 100,
           "mark": "bar",
           "width": 300
          },
          {
           "data": {
            "url": "http://localhost:56599/6f66e5c3691a7972f73903fd894d2f3d.json"
           },
           "encoding": {
            "color": {
             "field": "default",
             "scale": {
              "scheme": "category10"
             },
             "type": "ordinal"
            },
            "x": {
             "aggregate": "count",
             "stack": false,
             "title": "",
             "type": "quantitative"
            },
            "y": {
             "field": "PAY_5",
             "scale": {
              "domain": [
               -2,
               -1,
               0,
               1,
               2,
               3,
               4,
               5,
               6,
               7,
               8
              ]
             },
             "type": "nominal"
            }
           },
           "height": 100,
           "mark": "bar",
           "width": 300
          }
         ]
        },
        {
         "hconcat": [
          {
           "data": {
            "url": "http://localhost:56599/63e561da5e5b879f2ed6fd63e5e09935.json"
           },
           "encoding": {
            "color": {
             "field": "default",
             "scale": {
              "scheme": "category10"
             },
             "type": "ordinal"
            },
            "x": {
             "aggregate": "count",
             "stack": false,
             "title": "",
             "type": "quantitative"
            },
            "y": {
             "field": "PAY_6",
             "scale": {
              "domain": [
               -2,
               -1,
               0,
               1,
               2,
               3,
               4,
               5,
               6,
               7,
               8
              ]
             },
             "type": "nominal"
            }
           },
           "height": 100,
           "mark": "bar",
           "width": 300
          },
          {
           "data": {
            "url": "http://localhost:56599/6f66e5c3691a7972f73903fd894d2f3d.json"
           },
           "encoding": {
            "color": {
             "field": "default",
             "scale": {
              "scheme": "category10"
             },
             "type": "ordinal"
            },
            "x": {
             "aggregate": "count",
             "stack": false,
             "title": "",
             "type": "quantitative"
            },
            "y": {
             "field": "PAY_6",
             "scale": {
              "domain": [
               -2,
               -1,
               0,
               1,
               2,
               3,
               4,
               5,
               6,
               7,
               8
              ]
             },
             "type": "nominal"
            }
           },
           "height": 100,
           "mark": "bar",
           "width": 300
          }
         ]
        }
       ]
      },
      "image/png": "[encoded data removed]",
      "text/plain": [
       "<VegaLite 4 object>\n",
       "\n",
       "If you see this message, it means the renderer has not been properly enabled\n",
       "for the frontend that you are using. For more information, see\n",
       "https://altair-viz.github.io/user_guide/troubleshooting.html\n"
      ]
     },
     "execution_count": 11,
     "metadata": {},
     "output_type": "execute_result"
    }
   ],
   "source": [
    "bar( train_df = train_df, feat_list = [ ('PAY_1', list( range( -2, 9))),\n",
    "                                       ('PAY_2', list( range( -2, 9))),\n",
    "                                       ('PAY_3', list( range( -2, 9))),\n",
    "                                       ('PAY_4', list( range( -2, 9))),\n",
    "                                       ('PAY_5', list( range( -2, 9))),\n",
    "                                       ('PAY_6', list( range( -2, 9)))],\n",
    "     repeat = True, title = 'Repayment status')"
   ]
  },
  {
   "cell_type": "markdown",
   "metadata": {},
   "source": [
    "There are some missing values, undocumented. More data cleaning should be done. No visual difference is observed."
   ]
  },
  {
   "cell_type": "markdown",
   "metadata": {},
   "source": [
    "what does -2 mean?"
   ]
  },
  {
   "cell_type": "markdown",
   "metadata": {},
   "source": [
    "<!-- END QUESTION -->\n",
    "\n",
    "<!-- BEGIN QUESTION -->\n",
    "\n",
    "<div class=\"alert alert-warning\">\n",
    "\n",
    "## 4. Feature engineering (Challenging)\n",
    "rubric={reasoning}\n",
    "\n",
    "**Your tasks:**\n",
    "\n",
    "1. Carry out feature engineering. In other words, extract new features relevant for the problem and work with your new feature set in the following exercises. You may have to go back and forth between feature engineering and preprocessing.\n",
    "    \n",
    "</div>\n",
    "\n",
    "_Points:_ 0.5"
   ]
  },
  {
   "cell_type": "code",
   "execution_count": 12,
   "metadata": {
    "tags": []
   },
   "outputs": [
    {
     "data": {
      "text/plain": [
       "Ellipsis"
      ]
     },
     "execution_count": 12,
     "metadata": {},
     "output_type": "execute_result"
    }
   ],
   "source": [
    "..."
   ]
  },
  {
   "cell_type": "markdown",
   "metadata": {},
   "source": [
    "<!-- END QUESTION -->\n",
    "\n",
    "<!-- BEGIN QUESTION -->\n",
    "\n",
    "<div class=\"alert alert-info\">\n",
    "\n",
    "## 5. Preprocessing and transformations <a name=\"5\"></a>\n",
    "rubric={accuracy,reasoning}\n",
    "\n",
    "**Your tasks:**\n",
    "\n",
    "1. Identify different feature types and the transformations you would apply on each feature type. \n",
    "2. Define a column transformer, if necessary. \n",
    "    \n",
    "</div>\n",
    "\n",
    "_Points:_ 4"
   ]
  },
  {
   "cell_type": "code",
   "execution_count": null,
   "metadata": {
    "tags": []
   },
   "outputs": [],
   "source": [
    "cols_"
   ]
  },
  {
   "cell_type": "markdown",
   "metadata": {},
   "source": [
    "<!-- END QUESTION -->\n",
    "\n",
    "<!-- BEGIN QUESTION -->\n",
    "\n",
    "<div class=\"alert alert-info\">\n",
    "\n",
    "## 6. Baseline model <a name=\"6\"></a>\n",
    "rubric={accuracy}\n",
    "\n",
    "**Your tasks:**\n",
    "1. Train a baseline model for your task and report its performance.\n",
    "    \n",
    "</div>\n",
    "\n",
    "_Points:_ 2"
   ]
  },
  {
   "cell_type": "code",
   "execution_count": null,
   "metadata": {
    "tags": []
   },
   "outputs": [],
   "source": [
    "..."
   ]
  },
  {
   "cell_type": "markdown",
   "metadata": {},
   "source": [
    "<!-- END QUESTION -->\n",
    "\n",
    "<!-- BEGIN QUESTION -->\n",
    "\n",
    "<div class=\"alert alert-info\">\n",
    "\n",
    "## 7. Linear models <a name=\"7\"></a>\n",
    "rubric={accuracy,reasoning}\n",
    "\n",
    "**Your tasks:**\n",
    "\n",
    "1. Try a linear model as a first real attempt. \n",
    "2. Carry out hyperparameter tuning to explore different values for the regularization hyperparameter. \n",
    "3. Report cross-validation scores along with standard deviation. \n",
    "4. Summarize your results.\n",
    "    \n",
    "</div>\n",
    "\n",
    "_Points:_ 8"
   ]
  },
  {
   "cell_type": "markdown",
   "metadata": {},
   "source": [
    "_Type your answer here, replacing this text._"
   ]
  },
  {
   "cell_type": "code",
   "execution_count": null,
   "metadata": {
    "tags": []
   },
   "outputs": [],
   "source": [
    "..."
   ]
  },
  {
   "cell_type": "markdown",
   "metadata": {},
   "source": [
    "<!-- END QUESTION -->\n",
    "\n",
    "<!-- BEGIN QUESTION -->\n",
    "\n",
    "<div class=\"alert alert-info\">\n",
    "\n",
    "## 8. Different models <a name=\"8\"></a>\n",
    "rubric={accuracy,reasoning}\n",
    "\n",
    "**Your tasks:**\n",
    "1. Try out three other models aside from the linear model. \n",
    "2. Summarize your results in terms of overfitting/underfitting and fit and score times. Can you beat the performance of the linear model? \n",
    "    \n",
    "</div>\n",
    "\n",
    "_Points:_ 10"
   ]
  },
  {
   "cell_type": "markdown",
   "metadata": {},
   "source": [
    "_Type your answer here, replacing this text._"
   ]
  },
  {
   "cell_type": "code",
   "execution_count": null,
   "metadata": {
    "tags": []
   },
   "outputs": [],
   "source": [
    "..."
   ]
  },
  {
   "cell_type": "markdown",
   "metadata": {},
   "source": [
    "<!-- END QUESTION -->\n",
    "\n",
    "<!-- BEGIN QUESTION -->\n",
    "\n",
    "<div class=\"alert alert-warning\">\n",
    "\n",
    "## 9. Feature selection (Challenging)\n",
    "rubric={reasoning}\n",
    "\n",
    "**Your tasks:**\n",
    "\n",
    "Make some attempts to select relevant features. You may try `RFECV`, forward selection or L1 regularization for this. Do the results improve with feature selection? Summarize your results. If you see improvements in the results, keep feature selection in your pipeline. If not, you may abandon it in the next exercises unless you think there are other benefits with using less features.\n",
    "    \n",
    "</div>\n",
    "\n",
    "_Points:_ 0.5"
   ]
  },
  {
   "cell_type": "markdown",
   "metadata": {},
   "source": [
    "_Type your answer here, replacing this text._"
   ]
  },
  {
   "cell_type": "code",
   "execution_count": null,
   "metadata": {
    "tags": []
   },
   "outputs": [],
   "source": [
    "..."
   ]
  },
  {
   "cell_type": "markdown",
   "metadata": {},
   "source": [
    "<!-- END QUESTION -->\n",
    "\n",
    "<!-- BEGIN QUESTION -->\n",
    "\n",
    "<div class=\"alert alert-info\">\n",
    "\n",
    "## 10. Hyperparameter optimization\n",
    "rubric={accuracy,reasoning}\n",
    "\n",
    "**Your tasks:**\n",
    "\n",
    "Make some attempts to optimize hyperparameters for the models you've tried and summarize your results. In at least one case you should be optimizing multiple hyperparameters for a single model. You may use `sklearn`'s methods for hyperparameter optimization or fancier Bayesian optimization methods. \n",
    "  - [GridSearchCV](http://scikit-learn.org/stable/modules/generated/sklearn.model_selection.GridSearchCV.html)   \n",
    "  - [RandomizedSearchCV](http://scikit-learn.org/stable/modules/generated/sklearn.model_selection.RandomizedSearchCV.html)\n",
    "  - [scikit-optimize](https://github.com/scikit-optimize/scikit-optimize) \n",
    "    \n",
    "</div>\n",
    "\n",
    "_Points:_ 6"
   ]
  },
  {
   "cell_type": "markdown",
   "metadata": {},
   "source": [
    "_Type your answer here, replacing this text._"
   ]
  },
  {
   "cell_type": "code",
   "execution_count": null,
   "metadata": {
    "tags": []
   },
   "outputs": [],
   "source": [
    "..."
   ]
  },
  {
   "cell_type": "markdown",
   "metadata": {},
   "source": [
    "<!-- END QUESTION -->\n",
    "\n",
    "<!-- BEGIN QUESTION -->\n",
    "\n",
    "<div class=\"alert alert-info\">\n",
    "\n",
    "## 11. Interpretation and feature importances <a name=\"1\"></a>\n",
    "rubric={accuracy,reasoning}\n",
    "\n",
    "**Your tasks:**\n",
    "\n",
    "1. Use the methods we saw in class (e.g., `eli5`, `shap`) (or any other methods of your choice) to examine the most important features of one of the non-linear models. \n",
    "2. Summarize your observations. \n",
    "    \n",
    "</div>\n",
    "\n",
    "_Points:_ 8"
   ]
  },
  {
   "cell_type": "markdown",
   "metadata": {},
   "source": [
    "_Type your answer here, replacing this text._"
   ]
  },
  {
   "cell_type": "code",
   "execution_count": null,
   "metadata": {
    "tags": []
   },
   "outputs": [],
   "source": [
    "..."
   ]
  },
  {
   "cell_type": "markdown",
   "metadata": {},
   "source": [
    "<!-- END QUESTION -->\n",
    "\n",
    "<!-- BEGIN QUESTION -->\n",
    "\n",
    "<div class=\"alert alert-info\">\n",
    "\n",
    "## 12. Results on the test set <a name=\"12\"></a>\n",
    "rubric={accuracy,reasoning}\n",
    "\n",
    "**Your tasks:**\n",
    "\n",
    "1. Try your best performing model on the test data and report test scores. \n",
    "2. Do the test scores agree with the validation scores from before? To what extent do you trust your results? Do you think you've had issues with optimization bias? \n",
    "3. Take one or two test predictions and explain them with SHAP force plots.  \n",
    "    \n",
    "</div>\n",
    "\n",
    "_Points:_ 6"
   ]
  },
  {
   "cell_type": "markdown",
   "metadata": {},
   "source": [
    "_Type your answer here, replacing this text._"
   ]
  },
  {
   "cell_type": "code",
   "execution_count": null,
   "metadata": {
    "tags": []
   },
   "outputs": [],
   "source": [
    "..."
   ]
  },
  {
   "cell_type": "markdown",
   "metadata": {},
   "source": [
    "<!-- END QUESTION -->\n",
    "\n",
    "<!-- BEGIN QUESTION -->\n",
    "\n",
    "<div class=\"alert alert-info\">\n",
    "\n",
    "## 13. Summary of results <a name=\"13\"></a>\n",
    "rubric={reasoning}\n",
    "\n",
    "Imagine that you want to present the summary of these results to your boss and co-workers. \n",
    "\n",
    "**Your tasks:**\n",
    "\n",
    "1. Create a table summarizing important results. \n",
    "2. Write concluding remarks.\n",
    "3. Discuss other ideas that you did not try but could potentially improve the performance/interpretability . \n",
    "3. Report your final test score along with the metric you used at the top of this notebook.\n",
    "    \n",
    "</div>\n",
    "\n",
    "_Points:_ 8"
   ]
  },
  {
   "cell_type": "markdown",
   "metadata": {},
   "source": [
    "_Type your answer here, replacing this text._"
   ]
  },
  {
   "cell_type": "code",
   "execution_count": null,
   "metadata": {
    "tags": []
   },
   "outputs": [],
   "source": [
    "..."
   ]
  },
  {
   "cell_type": "markdown",
   "metadata": {},
   "source": [
    "<!-- END QUESTION -->\n",
    "\n",
    "<!-- BEGIN QUESTION -->\n",
    "\n",
    "<div class=\"alert alert-warning\">\n",
    "\n",
    "## 14. Creating a data analysis pipeline (Challenging)\n",
    "rubric={reasoning}\n",
    "\n",
    "**Your tasks:**\n",
    "- In 522 you learned how build a reproducible data analysis pipeline. Convert this notebook into scripts and create a reproducible data analysis pipeline with appropriate documentation. Submit your project folder in addition to this notebook on GitHub and briefly comment on your organization in the text box below.\n",
    "    \n",
    "</div>\n",
    "\n",
    "_Points:_ 2"
   ]
  },
  {
   "cell_type": "markdown",
   "metadata": {},
   "source": [
    "_Type your answer here, replacing this text._"
   ]
  },
  {
   "cell_type": "markdown",
   "metadata": {},
   "source": [
    "<!-- END QUESTION -->\n",
    "\n",
    "<!-- BEGIN QUESTION -->\n",
    "\n",
    "<div class=\"alert alert-warning\">\n",
    "\n",
    "## 15. Your takeaway from the course (Challenging)\n",
    "rubric={reasoning}\n",
    "\n",
    "**Your tasks:**\n",
    "\n",
    "What is your biggest takeaway from this course? \n",
    "    \n",
    "</div>\n",
    "\n",
    "_Points:_ 0.25"
   ]
  },
  {
   "cell_type": "markdown",
   "metadata": {},
   "source": [
    "_Type your answer here, replacing this text._"
   ]
  },
  {
   "cell_type": "markdown",
   "metadata": {},
   "source": [
    "<!-- END QUESTION -->\n",
    "\n",
    "<div class=\"alert alert-danger\" style=\"color:black\">\n",
    "    \n",
    "**Restart, run all and export a PDF before submitting**\n",
    "    \n",
    "Before submitting,\n",
    "don't forget to run all cells in your notebook\n",
    "to make sure there are no errors\n",
    "and so that the TAs can see your plots on Gradescope.\n",
    "You can do this by clicking the ▶▶ button\n",
    "or going to `Kernel -> Restart Kernel and Run All Cells...` in the menu.\n",
    "This is not only important for MDS,\n",
    "but a good habit you should get into before ever committing a notebook to GitHub,\n",
    "so that your collaborators can run it from top to bottom\n",
    "without issues.\n",
    "    \n",
    "After running all the cells,\n",
    "export a PDF of the notebook (preferably the WebPDF export)\n",
    "and upload this PDF together with the ipynb file to Gradescope\n",
    "(you can select two files when uploading to Gradescope)\n",
    "</div>"
   ]
  },
  {
   "cell_type": "markdown",
   "metadata": {
    "tags": [
     "feedback"
    ]
   },
   "source": [
    "---\n",
    "\n",
    "## Help us improve the labs\n",
    "\n",
    "The MDS program is continually looking to improve our courses, including lab questions and content. The following optional questions will not affect your grade in any way nor will they be used for anything other than program improvement:\n",
    "\n",
    "1. Approximately how many hours did you spend working or thinking about this assignment (including lab time)?\n",
    "\n",
    "#Ans:\n",
    "\n",
    "2. Do you have any feedback on the lab you be willing to share? For example, any part or question that you particularly liked or disliked?\n",
    "\n",
    "#Ans:"
   ]
  }
 ],
 "metadata": {
  "kernelspec": {
   "display_name": "Python [conda env:573]",
   "language": "python",
   "name": "conda-env-573-py"
  },
  "language_info": {
   "codemirror_mode": {
    "name": "ipython",
    "version": 3
   },
   "file_extension": ".py",
   "mimetype": "text/x-python",
   "name": "python",
   "nbconvert_exporter": "python",
   "pygments_lexer": "ipython3",
   "version": "3.10.6"
  },
  "otter": {
   "OK_FORMAT": true,
   "tests": {}
  }
 },
 "nbformat": 4,
 "nbformat_minor": 4
}
