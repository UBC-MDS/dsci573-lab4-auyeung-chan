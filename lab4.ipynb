{
 "cells": [
  {
   "cell_type": "code",
   "execution_count": 1,
   "metadata": {
    "deletable": false,
    "editable": false
   },
   "outputs": [],
   "source": [
    "# Initialize Otter\n",
    "import otter\n",
    "grader = otter.Notebook(\"lab4.ipynb\")"
   ]
  },
  {
   "cell_type": "markdown",
   "metadata": {},
   "source": [
    "# Lab 4: Putting it all together in a mini project\n",
    "\n",
    "**This lab is an optional group lab.** You can choose to work alone of in a group of up to four students. You are in charge of how you want to work and who you want to work with. Maybe you really want to go through all the steps of the ML process yourself or maybe you want to practice your collaboration skills, it is up to you! Just remember to indicate who your group members are (if any) when you submit on Gradescope. If you choose to work in a group, you only need to use one of your GitHub repos."
   ]
  },
  {
   "cell_type": "markdown",
   "metadata": {},
   "source": [
    "<!-- BEGIN QUESTION -->\n",
    "\n",
    "<div class=\"alert alert-info\">\n",
    "\n",
    "## Submission instructions\n",
    "rubric={mechanics}\n",
    "\n",
    "<p>You receive marks for submitting your lab correctly, please follow these instructions:</p>\n",
    "\n",
    "<ul>\n",
    "  <li><a href=\"https://ubc-mds.github.io/resources_pages/general_lab_instructions/\">\n",
    "      Follow the general lab instructions.</a></li>\n",
    "  <li><a href=\"https://github.com/UBC-MDS/public/tree/master/rubric\">\n",
    "      Click here to view a description of the rubrics used to grade the questions</a></li>\n",
    "  <li>Make at least three commits.</li>\n",
    "  <li>Push your <code>.ipynb</code> file to your GitHub repository for this lab and upload it to Gradescope.</li>\n",
    "    <ul>\n",
    "      <li>Before submitting, make sure you restart the kernel and rerun all cells.</li>\n",
    "    </ul>\n",
    "  <li>Also upload a <code>.pdf</code> export of the notebook to facilitate grading of manual questions (preferably WebPDF, you can select two files when uploading to gradescope)</li>\n",
    "  <li>Don't change any variable names that are given to you, don't move cells around, and don't include any code to install packages in the notebook.</li>\n",
    "  <li>The data you download for this lab <b>SHOULD NOT BE PUSHED TO YOUR REPOSITORY</b> (there is also a <code>.gitignore</code> in the repo to prevent this).</li>\n",
    "  <li>Include a clickable link to your GitHub repo for the lab just below this cell\n",
    "    <ul>\n",
    "      <li>It should look something like this https://github.ubc.ca/MDS-2020-21/DSCI_531_labX_yourcwl.</li>\n",
    "    </ul>\n",
    "  </li>\n",
    "</ul>\n",
    "</div>\n",
    "\n",
    "_Points:_ 2"
   ]
  },
  {
   "cell_type": "markdown",
   "metadata": {},
   "source": [
    "https://github.com/UBC-MDS/dsci573-lab4-auyeung-chan"
   ]
  },
  {
   "cell_type": "markdown",
   "metadata": {},
   "source": [
    "<!-- END QUESTION -->\n",
    "\n",
    "## Introduction <a name=\"in\"></a>\n",
    "\n",
    "In this lab you will be working on an open-ended mini-project, where you will put all the different things you have learned so far in 571 and 573 together to solve an interesting problem.\n",
    "\n",
    "A few notes and tips when you work on this mini-project: \n",
    "\n",
    "#### Tips\n",
    "1. Since this mini-project is open-ended there might be some situations where you'll have to use your own judgment and make your own decisions (as you would be doing when you work as a data scientist). Make sure you explain your decisions whenever necessary. \n",
    "2. **Do not include everything you ever tried in your submission** -- it's fine just to have your final code. That said, your code should be reproducible and well-documented. For example, if you chose your hyperparameters based on some hyperparameter optimization experiment, you should leave in the code for that experiment so that someone else could re-run it and obtain the same hyperparameters, rather than mysteriously just setting the hyperparameters to some (carefully chosen) values in your code. \n",
    "3. If you realize that you are repeating a lot of code try to organize it in functions. Clear presentation of your code, experiments, and results is the key to be successful in this lab. You may use code from lecture notes or previous lab solutions with appropriate attributions. \n",
    "\n",
    "#### Assessment\n",
    "We don't have some secret target score that you need to achieve to get a good grade. **You'll be assessed on demonstration of mastery of course topics, clear presentation, and the quality of your analysis and results.** For example, if you just have a bunch of code and no text or figures, that's not good. If you instead do a bunch of sane things and you have clearly motivated your choices, but still get lower model performance than your friend, don't sweat it.\n",
    "\n",
    "\n",
    "#### A final note\n",
    "Finally, the style of this \"project\" question is different from other assignments. It'll be up to you to decide when you're \"done\" -- in fact, this is one of the hardest parts of real projects. But please don't spend WAY too much time on this... perhaps \"several hours\" but not \"many hours\" is a good guideline for a high quality submission. Of course if you're having fun you're welcome to spend as much time as you want! But, if so, try not to do it out of perfectionism or getting the best possible grade. Do it because you're learning and enjoying it. Students from the past cohorts have found such kind of labs useful and fun and we hope you enjoy it as well. "
   ]
  },
  {
   "cell_type": "markdown",
   "metadata": {},
   "source": [
    "<!-- BEGIN QUESTION -->\n",
    "\n",
    "<div class=\"alert alert-info\">\n",
    "\n",
    "## 1. Pick your problem and explain the prediction problem <a name=\"1\"></a>\n",
    "rubric={reasoning}\n",
    "\n",
    "In this mini project, you will pick one of the following problems: \n",
    "\n",
    "1. A classification problem of predicting whether a credit card client will default or not. For this problem, you will use [Default of Credit Card Clients Dataset](https://www.kaggle.com/uciml/default-of-credit-card-clients-dataset). In this data set, there are 30,000 examples and 24 features, and the goal is to estimate whether a person will default (fail to pay) their credit card bills; this column is labeled \"default.payment.next.month\" in the data. The rest of the columns can be used as features. You may take some ideas and compare your results with [the associated research paper](https://www.sciencedirect.com/science/article/pii/S0957417407006719), which is available through [the UBC library](https://www.library.ubc.ca/). \n",
    "\n",
    "OR \n",
    "\n",
    "2. A regression problem of predicting `reviews_per_month`, as a proxy for the popularity of the listing with [New York City Airbnb listings from 2019 dataset](https://www.kaggle.com/dgomonov/new-york-city-airbnb-open-data). Airbnb could use this sort of model to predict how popular future listings might be before they are posted, perhaps to help guide hosts create more appealing listings. In reality they might instead use something like vacancy rate or average rating as their target, but we do not have that available here.\n",
    "\n",
    "**Your tasks:**\n",
    "\n",
    "1. Spend some time understanding the problem and what each feature means. Write a few sentences on your initial thoughts on the problem and the dataset. \n",
    "2. Download the dataset and read it as a pandas dataframe. \n",
    "3. Carry out any preliminary preprocessing, if needed (e.g., changing feature names, handling of NaN values etc.)\n",
    "    \n",
    "</div>\n",
    "\n",
    "_Points:_ 3"
   ]
  },
  {
   "cell_type": "markdown",
   "metadata": {},
   "source": [
    "It is a classification problem with tabular data. The data set includes demographic information of each client and their histories of payment of the past 6 months. Success in predicting whether a client will default or not is valuable as it enables banks to assess the risks earlier and impose necessary measures to clients are with high chance of defaulting."
   ]
  },
  {
   "cell_type": "code",
   "execution_count": 2,
   "metadata": {},
   "outputs": [],
   "source": [
    "import numpy as np\n",
    "import pandas as pd\n",
    "from sklearn.model_selection import cross_val_score, cross_validate, train_test_split, GridSearchCV, RandomizedSearchCV\n",
    "from sklearn.preprocessing import StandardScaler, FunctionTransformer, OneHotEncoder\n",
    "from sklearn.pipeline import Pipeline, make_pipeline\n",
    "from sklearn.compose import make_column_transformer\n",
    "from sklearn.neighbors import KNeighborsClassifier\n",
    "from sklearn.svm import SVC, LinearSVC\n",
    "from sklearn.ensemble import RandomForestClassifier\n",
    "from sklearn.naive_bayes import GaussianNB\n",
    "from sklearn.linear_model import LogisticRegression\n",
    "from sklearn.feature_selection import RFE\n",
    "from sklearn.metrics import classification_report, confusion_matrix, precision_recall_curve\n",
    "from joblib import dump, load\n",
    "from scipy.stats import lognorm, loguniform, randint\n",
    "import os\n",
    "import altair as alt\n",
    "alt.renderers.enable('mimetype')\n",
    "alt.data_transformers.enable('data_server')\n",
    "\n",
    "from functions import *"
   ]
  },
  {
   "cell_type": "code",
   "execution_count": 3,
   "metadata": {
    "tags": []
   },
   "outputs": [],
   "source": [
    "data_full = pd.read_csv( 'UCI_Credit_Card.csv')\n",
    "data_full = data_full.rename( columns = { 'PAY_0': 'PAY_1', 'default.payment.next.month': 'default'})"
   ]
  },
  {
   "cell_type": "markdown",
   "metadata": {},
   "source": [
    "<!-- END QUESTION -->\n",
    "\n",
    "<!-- BEGIN QUESTION -->\n",
    "\n",
    "<div class=\"alert alert-info\">\n",
    "\n",
    "## 2. Data splitting <a name=\"2\"></a>\n",
    "rubric={reasoning}\n",
    "\n",
    "**Your tasks:**\n",
    "\n",
    "1. Split the data into train and test portions.\n",
    "\n",
    "> Make the decision on the `test_size` based on the capacity of your laptop. \n",
    "    \n",
    "</div>\n",
    "\n",
    "_Points:_ 1"
   ]
  },
  {
   "cell_type": "code",
   "execution_count": 4,
   "metadata": {
    "tags": []
   },
   "outputs": [],
   "source": [
    "train_df, test_df = train_test_split( data_full, train_size = 0.2, random_state = 69)"
   ]
  },
  {
   "cell_type": "markdown",
   "metadata": {},
   "source": [
    "<!-- END QUESTION -->\n",
    "\n",
    "<!-- BEGIN QUESTION -->\n",
    "\n",
    "<div class=\"alert alert-info\">\n",
    "\n",
    "## 3. EDA <a name=\"3\"></a>\n",
    "rubric={viz,reasoning}\n",
    "    \n",
    "Perform exploratory data analysis on the train set.\n",
    "\n",
    "**Your tasks:**\n",
    "\n",
    "1. Include at least two summary statistics and two visualizations that you find useful, and accompany each one with a sentence explaining it.\n",
    "2. Summarize your initial observations about the data. \n",
    "3. Pick appropriate metric/metrics for assessment. \n",
    "    \n",
    "</div>\n",
    "\n",
    "_Points:_ 6"
   ]
  },
  {
   "cell_type": "markdown",
   "metadata": {},
   "source": [
    "For features related to bill statement amounts and payment amounts, they are highly positively skewed with negative values. It implies that they cannot be simply fixed by logarithmic transformation. For the target variable, there is obvious class imbalance. To balance both the ability to identify defaulting clients and the cost of having false alarms, we will choose f1 score as our main metric for assessment, together with precision and recall for references."
   ]
  },
  {
   "cell_type": "code",
   "execution_count": 5,
   "metadata": {
    "tags": []
   },
   "outputs": [
    {
     "data": {
      "application/vnd.vegalite.v4+json": {
       "$schema": "https://vega.github.io/schema/vega-lite/v4.17.0.json",
       "config": {
        "view": {
         "continuousHeight": 300,
         "continuousWidth": 400
        }
       },
       "data": {
        "url": "http://localhost:52156/d2b9823680dd1bf88a35388bb03f985c.json"
       },
       "encoding": {
        "x": {
         "aggregate": "count",
         "type": "quantitative"
        },
        "y": {
         "field": "default",
         "type": "nominal"
        }
       },
       "height": 100,
       "mark": "bar",
       "title": "Distribution of Target Variable: default",
       "width": 300
      },
      "image/png": "[encoded data removed]",
      "text/plain": [
       "<VegaLite 4 object>\n",
       "\n",
       "If you see this message, it means the renderer has not been properly enabled\n",
       "for the frontend that you are using. For more information, see\n",
       "https://altair-viz.github.io/user_guide/troubleshooting.html\n"
      ]
     },
     "execution_count": 5,
     "metadata": {},
     "output_type": "execute_result"
    }
   ],
   "source": [
    "alt.Chart( train_df, title = 'Distribution of Target Variable: default').mark_bar().encode(\n",
    "    x = 'count()',\n",
    "    y = 'default:N'\n",
    ").properties(\n",
    "    height = 100,\n",
    "    width = 300)"
   ]
  },
  {
   "cell_type": "markdown",
   "metadata": {},
   "source": [
    "It can be seen that there is class imbalance in the target variable. More clients do not default."
   ]
  },
  {
   "cell_type": "code",
   "execution_count": 6,
   "metadata": {},
   "outputs": [
    {
     "data": {
      "application/vnd.vegalite.v4+json": {
       "$schema": "https://vega.github.io/schema/vega-lite/v4.17.0.json",
       "config": {
        "view": {
         "continuousHeight": 300,
         "continuousWidth": 400
        }
       },
       "title": "Demographics",
       "vconcat": [
        {
         "hconcat": [
          {
           "data": {
            "url": "http://localhost:52156/63e561da5e5b879f2ed6fd63e5e09935.json"
           },
           "encoding": {
            "color": {
             "field": "default",
             "scale": {
              "scheme": "category10"
             },
             "type": "ordinal"
            },
            "x": {
             "bin": {
              "maxbins": 30
             },
             "field": "LIMIT_BAL",
             "scale": {
              "domain": [
               0,
               730001
              ]
             },
             "type": "quantitative"
            },
            "y": {
             "aggregate": "count",
             "stack": false,
             "title": "",
             "type": "quantitative"
            }
           },
           "height": 100,
           "mark": "bar",
           "width": 300
          },
          {
           "data": {
            "url": "http://localhost:52156/6f66e5c3691a7972f73903fd894d2f3d.json"
           },
           "encoding": {
            "color": {
             "field": "default",
             "scale": {
              "scheme": "category10"
             },
             "type": "ordinal"
            },
            "x": {
             "bin": {
              "maxbins": 30
             },
             "field": "LIMIT_BAL",
             "scale": {
              "domain": [
               0,
               730001
              ]
             },
             "type": "quantitative"
            },
            "y": {
             "aggregate": "count",
             "stack": false,
             "title": "",
             "type": "quantitative"
            }
           },
           "height": 100,
           "mark": "bar",
           "width": 300
          }
         ]
        },
        {
         "hconcat": [
          {
           "data": {
            "url": "http://localhost:52156/63e561da5e5b879f2ed6fd63e5e09935.json"
           },
           "encoding": {
            "color": {
             "field": "default",
             "scale": {
              "scheme": "category10"
             },
             "type": "ordinal"
            },
            "x": {
             "bin": {
              "maxbins": 30
             },
             "field": "AGE",
             "scale": {
              "domain": [
               0,
               73
              ]
             },
             "type": "quantitative"
            },
            "y": {
             "aggregate": "count",
             "stack": false,
             "title": "",
             "type": "quantitative"
            }
           },
           "height": 100,
           "mark": "bar",
           "width": 300
          },
          {
           "data": {
            "url": "http://localhost:52156/6f66e5c3691a7972f73903fd894d2f3d.json"
           },
           "encoding": {
            "color": {
             "field": "default",
             "scale": {
              "scheme": "category10"
             },
             "type": "ordinal"
            },
            "x": {
             "bin": {
              "maxbins": 30
             },
             "field": "AGE",
             "scale": {
              "domain": [
               0,
               73
              ]
             },
             "type": "quantitative"
            },
            "y": {
             "aggregate": "count",
             "stack": false,
             "title": "",
             "type": "quantitative"
            }
           },
           "height": 100,
           "mark": "bar",
           "width": 300
          }
         ]
        }
       ]
      },
      "image/png": "[encoded data removed]",
      "text/plain": [
       "<VegaLite 4 object>\n",
       "\n",
       "If you see this message, it means the renderer has not been properly enabled\n",
       "for the frontend that you are using. For more information, see\n",
       "https://altair-viz.github.io/user_guide/troubleshooting.html\n"
      ]
     },
     "execution_count": 6,
     "metadata": {},
     "output_type": "execute_result"
    }
   ],
   "source": [
    "hist( train_df = train_df, feat_list = [ 'LIMIT_BAL', 'AGE'], repeat = True, title = 'Demographics', n_bins = 30)"
   ]
  },
  {
   "cell_type": "markdown",
   "metadata": {},
   "source": [
    "Both amount of credit and age are positively skewed. No visual difference is observed."
   ]
  },
  {
   "cell_type": "code",
   "execution_count": 7,
   "metadata": {},
   "outputs": [
    {
     "data": {
      "application/vnd.vegalite.v4+json": {
       "$schema": "https://vega.github.io/schema/vega-lite/v4.17.0.json",
       "config": {
        "view": {
         "continuousHeight": 300,
         "continuousWidth": 400
        }
       },
       "title": "Amount of Bill Statement",
       "vconcat": [
        {
         "hconcat": [
          {
           "data": {
            "url": "http://localhost:52156/63e561da5e5b879f2ed6fd63e5e09935.json"
           },
           "encoding": {
            "color": {
             "field": "default",
             "scale": {
              "scheme": "category10"
             },
             "type": "ordinal"
            },
            "x": {
             "bin": {
              "maxbins": 50
             },
             "field": "BILL_AMT1",
             "scale": {
              "domain": [
               -14387,
               746815
              ]
             },
             "type": "quantitative"
            },
            "y": {
             "aggregate": "count",
             "stack": false,
             "title": "",
             "type": "quantitative"
            }
           },
           "height": 100,
           "mark": "bar",
           "width": 300
          },
          {
           "data": {
            "url": "http://localhost:52156/6f66e5c3691a7972f73903fd894d2f3d.json"
           },
           "encoding": {
            "color": {
             "field": "default",
             "scale": {
              "scheme": "category10"
             },
             "type": "ordinal"
            },
            "x": {
             "bin": {
              "maxbins": 50
             },
             "field": "BILL_AMT1",
             "scale": {
              "domain": [
               -14387,
               746815
              ]
             },
             "type": "quantitative"
            },
            "y": {
             "aggregate": "count",
             "stack": false,
             "title": "",
             "type": "quantitative"
            }
           },
           "height": 100,
           "mark": "bar",
           "width": 300
          }
         ]
        },
        {
         "hconcat": [
          {
           "data": {
            "url": "http://localhost:52156/63e561da5e5b879f2ed6fd63e5e09935.json"
           },
           "encoding": {
            "color": {
             "field": "default",
             "scale": {
              "scheme": "category10"
             },
             "type": "ordinal"
            },
            "x": {
             "bin": {
              "maxbins": 50
             },
             "field": "BILL_AMT2",
             "scale": {
              "domain": [
               -26215,
               586826
              ]
             },
             "type": "quantitative"
            },
            "y": {
             "aggregate": "count",
             "stack": false,
             "title": "",
             "type": "quantitative"
            }
           },
           "height": 100,
           "mark": "bar",
           "width": 300
          },
          {
           "data": {
            "url": "http://localhost:52156/6f66e5c3691a7972f73903fd894d2f3d.json"
           },
           "encoding": {
            "color": {
             "field": "default",
             "scale": {
              "scheme": "category10"
             },
             "type": "ordinal"
            },
            "x": {
             "bin": {
              "maxbins": 50
             },
             "field": "BILL_AMT2",
             "scale": {
              "domain": [
               -26215,
               586826
              ]
             },
             "type": "quantitative"
            },
            "y": {
             "aggregate": "count",
             "stack": false,
             "title": "",
             "type": "quantitative"
            }
           },
           "height": 100,
           "mark": "bar",
           "width": 300
          }
         ]
        },
        {
         "hconcat": [
          {
           "data": {
            "url": "http://localhost:52156/63e561da5e5b879f2ed6fd63e5e09935.json"
           },
           "encoding": {
            "color": {
             "field": "default",
             "scale": {
              "scheme": "category10"
             },
             "type": "ordinal"
            },
            "x": {
             "bin": {
              "maxbins": 50
             },
             "field": "BILL_AMT3",
             "scale": {
              "domain": [
               -61507,
               577016
              ]
             },
             "type": "quantitative"
            },
            "y": {
             "aggregate": "count",
             "stack": false,
             "title": "",
             "type": "quantitative"
            }
           },
           "height": 100,
           "mark": "bar",
           "width": 300
          },
          {
           "data": {
            "url": "http://localhost:52156/6f66e5c3691a7972f73903fd894d2f3d.json"
           },
           "encoding": {
            "color": {
             "field": "default",
             "scale": {
              "scheme": "category10"
             },
             "type": "ordinal"
            },
            "x": {
             "bin": {
              "maxbins": 50
             },
             "field": "BILL_AMT3",
             "scale": {
              "domain": [
               -61507,
               577016
              ]
             },
             "type": "quantitative"
            },
            "y": {
             "aggregate": "count",
             "stack": false,
             "title": "",
             "type": "quantitative"
            }
           },
           "height": 100,
           "mark": "bar",
           "width": 300
          }
         ]
        },
        {
         "hconcat": [
          {
           "data": {
            "url": "http://localhost:52156/63e561da5e5b879f2ed6fd63e5e09935.json"
           },
           "encoding": {
            "color": {
             "field": "default",
             "scale": {
              "scheme": "category10"
             },
             "type": "ordinal"
            },
            "x": {
             "bin": {
              "maxbins": 50
             },
             "field": "BILL_AMT4",
             "scale": {
              "domain": [
               -20321,
               572806
              ]
             },
             "type": "quantitative"
            },
            "y": {
             "aggregate": "count",
             "stack": false,
             "title": "",
             "type": "quantitative"
            }
           },
           "height": 100,
           "mark": "bar",
           "width": 300
          },
          {
           "data": {
            "url": "http://localhost:52156/6f66e5c3691a7972f73903fd894d2f3d.json"
           },
           "encoding": {
            "color": {
             "field": "default",
             "scale": {
              "scheme": "category10"
             },
             "type": "ordinal"
            },
            "x": {
             "bin": {
              "maxbins": 50
             },
             "field": "BILL_AMT4",
             "scale": {
              "domain": [
               -20321,
               572806
              ]
             },
             "type": "quantitative"
            },
            "y": {
             "aggregate": "count",
             "stack": false,
             "title": "",
             "type": "quantitative"
            }
           },
           "height": 100,
           "mark": "bar",
           "width": 300
          }
         ]
        },
        {
         "hconcat": [
          {
           "data": {
            "url": "http://localhost:52156/63e561da5e5b879f2ed6fd63e5e09935.json"
           },
           "encoding": {
            "color": {
             "field": "default",
             "scale": {
              "scheme": "category10"
             },
             "type": "ordinal"
            },
            "x": {
             "bin": {
              "maxbins": 50
             },
             "field": "BILL_AMT5",
             "scale": {
              "domain": [
               -37595,
               823541
              ]
             },
             "type": "quantitative"
            },
            "y": {
             "aggregate": "count",
             "stack": false,
             "title": "",
             "type": "quantitative"
            }
           },
           "height": 100,
           "mark": "bar",
           "width": 300
          },
          {
           "data": {
            "url": "http://localhost:52156/6f66e5c3691a7972f73903fd894d2f3d.json"
           },
           "encoding": {
            "color": {
             "field": "default",
             "scale": {
              "scheme": "category10"
             },
             "type": "ordinal"
            },
            "x": {
             "bin": {
              "maxbins": 50
             },
             "field": "BILL_AMT5",
             "scale": {
              "domain": [
               -37595,
               823541
              ]
             },
             "type": "quantitative"
            },
            "y": {
             "aggregate": "count",
             "stack": false,
             "title": "",
             "type": "quantitative"
            }
           },
           "height": 100,
           "mark": "bar",
           "width": 300
          }
         ]
        },
        {
         "hconcat": [
          {
           "data": {
            "url": "http://localhost:52156/63e561da5e5b879f2ed6fd63e5e09935.json"
           },
           "encoding": {
            "color": {
             "field": "default",
             "scale": {
              "scheme": "category10"
             },
             "type": "ordinal"
            },
            "x": {
             "bin": {
              "maxbins": 50
             },
             "field": "BILL_AMT6",
             "scale": {
              "domain": [
               -45735,
               527567
              ]
             },
             "type": "quantitative"
            },
            "y": {
             "aggregate": "count",
             "stack": false,
             "title": "",
             "type": "quantitative"
            }
           },
           "height": 100,
           "mark": "bar",
           "width": 300
          },
          {
           "data": {
            "url": "http://localhost:52156/6f66e5c3691a7972f73903fd894d2f3d.json"
           },
           "encoding": {
            "color": {
             "field": "default",
             "scale": {
              "scheme": "category10"
             },
             "type": "ordinal"
            },
            "x": {
             "bin": {
              "maxbins": 50
             },
             "field": "BILL_AMT6",
             "scale": {
              "domain": [
               -45735,
               527567
              ]
             },
             "type": "quantitative"
            },
            "y": {
             "aggregate": "count",
             "stack": false,
             "title": "",
             "type": "quantitative"
            }
           },
           "height": 100,
           "mark": "bar",
           "width": 300
          }
         ]
        }
       ]
      },
      "image/png": "[encoded data removed]",
      "text/plain": [
       "<VegaLite 4 object>\n",
       "\n",
       "If you see this message, it means the renderer has not been properly enabled\n",
       "for the frontend that you are using. For more information, see\n",
       "https://altair-viz.github.io/user_guide/troubleshooting.html\n"
      ]
     },
     "execution_count": 7,
     "metadata": {},
     "output_type": "execute_result"
    }
   ],
   "source": [
    "hist( train_df = train_df, feat_list = [ 'BILL_AMT1', 'BILL_AMT2', 'BILL_AMT3', 'BILL_AMT4', 'BILL_AMT5', 'BILL_AMT6'],\n",
    "     repeat = True, title = 'Amount of Bill Statement', n_bins = 50)"
   ]
  },
  {
   "cell_type": "markdown",
   "metadata": {},
   "source": [
    "All amounts of bill statements are positively skewed. No visual difference is observed."
   ]
  },
  {
   "cell_type": "code",
   "execution_count": 8,
   "metadata": {},
   "outputs": [
    {
     "data": {
      "application/vnd.vegalite.v4+json": {
       "$schema": "https://vega.github.io/schema/vega-lite/v4.17.0.json",
       "config": {
        "view": {
         "continuousHeight": 300,
         "continuousWidth": 400
        }
       },
       "title": "Amount of Payment",
       "vconcat": [
        {
         "hconcat": [
          {
           "data": {
            "url": "http://localhost:52156/63e561da5e5b879f2ed6fd63e5e09935.json"
           },
           "encoding": {
            "color": {
             "field": "default",
             "scale": {
              "scheme": "category10"
             },
             "type": "ordinal"
            },
            "x": {
             "bin": {
              "maxbins": 50
             },
             "field": "PAY_AMT1",
             "scale": {
              "domain": [
               -1,
               493359
              ]
             },
             "type": "quantitative"
            },
            "y": {
             "aggregate": "count",
             "stack": false,
             "title": "",
             "type": "quantitative"
            }
           },
           "height": 100,
           "mark": "bar",
           "width": 300
          },
          {
           "data": {
            "url": "http://localhost:52156/6f66e5c3691a7972f73903fd894d2f3d.json"
           },
           "encoding": {
            "color": {
             "field": "default",
             "scale": {
              "scheme": "category10"
             },
             "type": "ordinal"
            },
            "x": {
             "bin": {
              "maxbins": 50
             },
             "field": "PAY_AMT1",
             "scale": {
              "domain": [
               -1,
               493359
              ]
             },
             "type": "quantitative"
            },
            "y": {
             "aggregate": "count",
             "stack": false,
             "title": "",
             "type": "quantitative"
            }
           },
           "height": 100,
           "mark": "bar",
           "width": 300
          }
         ]
        },
        {
         "hconcat": [
          {
           "data": {
            "url": "http://localhost:52156/63e561da5e5b879f2ed6fd63e5e09935.json"
           },
           "encoding": {
            "color": {
             "field": "default",
             "scale": {
              "scheme": "category10"
             },
             "type": "ordinal"
            },
            "x": {
             "bin": {
              "maxbins": 50
             },
             "field": "PAY_AMT2",
             "scale": {
              "domain": [
               -1,
               1227083
              ]
             },
             "type": "quantitative"
            },
            "y": {
             "aggregate": "count",
             "stack": false,
             "title": "",
             "type": "quantitative"
            }
           },
           "height": 100,
           "mark": "bar",
           "width": 300
          },
          {
           "data": {
            "url": "http://localhost:52156/6f66e5c3691a7972f73903fd894d2f3d.json"
           },
           "encoding": {
            "color": {
             "field": "default",
             "scale": {
              "scheme": "category10"
             },
             "type": "ordinal"
            },
            "x": {
             "bin": {
              "maxbins": 50
             },
             "field": "PAY_AMT2",
             "scale": {
              "domain": [
               -1,
               1227083
              ]
             },
             "type": "quantitative"
            },
            "y": {
             "aggregate": "count",
             "stack": false,
             "title": "",
             "type": "quantitative"
            }
           },
           "height": 100,
           "mark": "bar",
           "width": 300
          }
         ]
        },
        {
         "hconcat": [
          {
           "data": {
            "url": "http://localhost:52156/63e561da5e5b879f2ed6fd63e5e09935.json"
           },
           "encoding": {
            "color": {
             "field": "default",
             "scale": {
              "scheme": "category10"
             },
             "type": "ordinal"
            },
            "x": {
             "bin": {
              "maxbins": 50
             },
             "field": "PAY_AMT3",
             "scale": {
              "domain": [
               -1,
               508230
              ]
             },
             "type": "quantitative"
            },
            "y": {
             "aggregate": "count",
             "stack": false,
             "title": "",
             "type": "quantitative"
            }
           },
           "height": 100,
           "mark": "bar",
           "width": 300
          },
          {
           "data": {
            "url": "http://localhost:52156/6f66e5c3691a7972f73903fd894d2f3d.json"
           },
           "encoding": {
            "color": {
             "field": "default",
             "scale": {
              "scheme": "category10"
             },
             "type": "ordinal"
            },
            "x": {
             "bin": {
              "maxbins": 50
             },
             "field": "PAY_AMT3",
             "scale": {
              "domain": [
               -1,
               508230
              ]
             },
             "type": "quantitative"
            },
            "y": {
             "aggregate": "count",
             "stack": false,
             "title": "",
             "type": "quantitative"
            }
           },
           "height": 100,
           "mark": "bar",
           "width": 300
          }
         ]
        },
        {
         "hconcat": [
          {
           "data": {
            "url": "http://localhost:52156/63e561da5e5b879f2ed6fd63e5e09935.json"
           },
           "encoding": {
            "color": {
             "field": "default",
             "scale": {
              "scheme": "category10"
             },
             "type": "ordinal"
            },
            "x": {
             "bin": {
              "maxbins": 50
             },
             "field": "PAY_AMT4",
             "scale": {
              "domain": [
               -1,
               432131
              ]
             },
             "type": "quantitative"
            },
            "y": {
             "aggregate": "count",
             "stack": false,
             "title": "",
             "type": "quantitative"
            }
           },
           "height": 100,
           "mark": "bar",
           "width": 300
          },
          {
           "data": {
            "url": "http://localhost:52156/6f66e5c3691a7972f73903fd894d2f3d.json"
           },
           "encoding": {
            "color": {
             "field": "default",
             "scale": {
              "scheme": "category10"
             },
             "type": "ordinal"
            },
            "x": {
             "bin": {
              "maxbins": 50
             },
             "field": "PAY_AMT4",
             "scale": {
              "domain": [
               -1,
               432131
              ]
             },
             "type": "quantitative"
            },
            "y": {
             "aggregate": "count",
             "stack": false,
             "title": "",
             "type": "quantitative"
            }
           },
           "height": 100,
           "mark": "bar",
           "width": 300
          }
         ]
        },
        {
         "hconcat": [
          {
           "data": {
            "url": "http://localhost:52156/63e561da5e5b879f2ed6fd63e5e09935.json"
           },
           "encoding": {
            "color": {
             "field": "default",
             "scale": {
              "scheme": "category10"
             },
             "type": "ordinal"
            },
            "x": {
             "bin": {
              "maxbins": 50
             },
             "field": "PAY_AMT5",
             "scale": {
              "domain": [
               -1,
               330983
              ]
             },
             "type": "quantitative"
            },
            "y": {
             "aggregate": "count",
             "stack": false,
             "title": "",
             "type": "quantitative"
            }
           },
           "height": 100,
           "mark": "bar",
           "width": 300
          },
          {
           "data": {
            "url": "http://localhost:52156/6f66e5c3691a7972f73903fd894d2f3d.json"
           },
           "encoding": {
            "color": {
             "field": "default",
             "scale": {
              "scheme": "category10"
             },
             "type": "ordinal"
            },
            "x": {
             "bin": {
              "maxbins": 50
             },
             "field": "PAY_AMT5",
             "scale": {
              "domain": [
               -1,
               330983
              ]
             },
             "type": "quantitative"
            },
            "y": {
             "aggregate": "count",
             "stack": false,
             "title": "",
             "type": "quantitative"
            }
           },
           "height": 100,
           "mark": "bar",
           "width": 300
          }
         ]
        },
        {
         "hconcat": [
          {
           "data": {
            "url": "http://localhost:52156/63e561da5e5b879f2ed6fd63e5e09935.json"
           },
           "encoding": {
            "color": {
             "field": "default",
             "scale": {
              "scheme": "category10"
             },
             "type": "ordinal"
            },
            "x": {
             "bin": {
              "maxbins": 50
             },
             "field": "PAY_AMT6",
             "scale": {
              "domain": [
               -1,
               528667
              ]
             },
             "type": "quantitative"
            },
            "y": {
             "aggregate": "count",
             "stack": false,
             "title": "",
             "type": "quantitative"
            }
           },
           "height": 100,
           "mark": "bar",
           "width": 300
          },
          {
           "data": {
            "url": "http://localhost:52156/6f66e5c3691a7972f73903fd894d2f3d.json"
           },
           "encoding": {
            "color": {
             "field": "default",
             "scale": {
              "scheme": "category10"
             },
             "type": "ordinal"
            },
            "x": {
             "bin": {
              "maxbins": 50
             },
             "field": "PAY_AMT6",
             "scale": {
              "domain": [
               -1,
               528667
              ]
             },
             "type": "quantitative"
            },
            "y": {
             "aggregate": "count",
             "stack": false,
             "title": "",
             "type": "quantitative"
            }
           },
           "height": 100,
           "mark": "bar",
           "width": 300
          }
         ]
        }
       ]
      },
      "image/png": "[encoded data removed]",
      "text/plain": [
       "<VegaLite 4 object>\n",
       "\n",
       "If you see this message, it means the renderer has not been properly enabled\n",
       "for the frontend that you are using. For more information, see\n",
       "https://altair-viz.github.io/user_guide/troubleshooting.html\n"
      ]
     },
     "execution_count": 8,
     "metadata": {},
     "output_type": "execute_result"
    }
   ],
   "source": [
    "hist( train_df = train_df, feat_list = [ 'PAY_AMT1', 'PAY_AMT2', 'PAY_AMT3', 'PAY_AMT4', 'PAY_AMT5', 'PAY_AMT6'],\n",
    "     repeat = True, title = 'Amount of Payment', n_bins = 50)"
   ]
  },
  {
   "cell_type": "markdown",
   "metadata": {},
   "source": [
    "Amounts of payments are heavily positively skewed. No visual difference is observed."
   ]
  },
  {
   "cell_type": "code",
   "execution_count": 9,
   "metadata": {},
   "outputs": [
    {
     "data": {
      "application/vnd.vegalite.v4+json": {
       "$schema": "https://vega.github.io/schema/vega-lite/v4.17.0.json",
       "config": {
        "view": {
         "continuousHeight": 300,
         "continuousWidth": 400
        }
       },
       "title": "Demographics",
       "vconcat": [
        {
         "hconcat": [
          {
           "data": {
            "url": "http://localhost:52156/63e561da5e5b879f2ed6fd63e5e09935.json"
           },
           "encoding": {
            "color": {
             "field": "default",
             "scale": {
              "scheme": "category10"
             },
             "type": "ordinal"
            },
            "x": {
             "aggregate": "count",
             "stack": false,
             "title": "",
             "type": "quantitative"
            },
            "y": {
             "field": "SEX",
             "scale": {
              "domain": [
               1,
               2
              ]
             },
             "type": "nominal"
            }
           },
           "height": 100,
           "mark": "bar",
           "width": 300
          },
          {
           "data": {
            "url": "http://localhost:52156/6f66e5c3691a7972f73903fd894d2f3d.json"
           },
           "encoding": {
            "color": {
             "field": "default",
             "scale": {
              "scheme": "category10"
             },
             "type": "ordinal"
            },
            "x": {
             "aggregate": "count",
             "stack": false,
             "title": "",
             "type": "quantitative"
            },
            "y": {
             "field": "SEX",
             "scale": {
              "domain": [
               1,
               2
              ]
             },
             "type": "nominal"
            }
           },
           "height": 100,
           "mark": "bar",
           "width": 300
          }
         ]
        },
        {
         "hconcat": [
          {
           "data": {
            "url": "http://localhost:52156/63e561da5e5b879f2ed6fd63e5e09935.json"
           },
           "encoding": {
            "color": {
             "field": "default",
             "scale": {
              "scheme": "category10"
             },
             "type": "ordinal"
            },
            "x": {
             "aggregate": "count",
             "stack": false,
             "title": "",
             "type": "quantitative"
            },
            "y": {
             "field": "EDUCATION",
             "scale": {
              "domain": [
               0,
               1,
               2,
               3,
               4,
               5,
               6
              ]
             },
             "type": "nominal"
            }
           },
           "height": 100,
           "mark": "bar",
           "width": 300
          },
          {
           "data": {
            "url": "http://localhost:52156/6f66e5c3691a7972f73903fd894d2f3d.json"
           },
           "encoding": {
            "color": {
             "field": "default",
             "scale": {
              "scheme": "category10"
             },
             "type": "ordinal"
            },
            "x": {
             "aggregate": "count",
             "stack": false,
             "title": "",
             "type": "quantitative"
            },
            "y": {
             "field": "EDUCATION",
             "scale": {
              "domain": [
               0,
               1,
               2,
               3,
               4,
               5,
               6
              ]
             },
             "type": "nominal"
            }
           },
           "height": 100,
           "mark": "bar",
           "width": 300
          }
         ]
        },
        {
         "hconcat": [
          {
           "data": {
            "url": "http://localhost:52156/63e561da5e5b879f2ed6fd63e5e09935.json"
           },
           "encoding": {
            "color": {
             "field": "default",
             "scale": {
              "scheme": "category10"
             },
             "type": "ordinal"
            },
            "x": {
             "aggregate": "count",
             "stack": false,
             "title": "",
             "type": "quantitative"
            },
            "y": {
             "field": "MARRIAGE",
             "scale": {
              "domain": [
               0,
               1,
               2,
               3
              ]
             },
             "type": "nominal"
            }
           },
           "height": 100,
           "mark": "bar",
           "width": 300
          },
          {
           "data": {
            "url": "http://localhost:52156/6f66e5c3691a7972f73903fd894d2f3d.json"
           },
           "encoding": {
            "color": {
             "field": "default",
             "scale": {
              "scheme": "category10"
             },
             "type": "ordinal"
            },
            "x": {
             "aggregate": "count",
             "stack": false,
             "title": "",
             "type": "quantitative"
            },
            "y": {
             "field": "MARRIAGE",
             "scale": {
              "domain": [
               0,
               1,
               2,
               3
              ]
             },
             "type": "nominal"
            }
           },
           "height": 100,
           "mark": "bar",
           "width": 300
          }
         ]
        }
       ]
      },
      "image/png": "[encoded data removed]",
      "text/plain": [
       "<VegaLite 4 object>\n",
       "\n",
       "If you see this message, it means the renderer has not been properly enabled\n",
       "for the frontend that you are using. For more information, see\n",
       "https://altair-viz.github.io/user_guide/troubleshooting.html\n"
      ]
     },
     "execution_count": 9,
     "metadata": {},
     "output_type": "execute_result"
    }
   ],
   "source": [
    "bar( train_df = train_df, feat_list = [ ('SEX', [ 1, 2]), ('EDUCATION', [ 0, 1, 2, 3, 4, 5, 6]),\n",
    "                                      ( 'MARRIAGE', [ 0, 1, 2, 3])],\n",
    "     repeat = True, title = 'Demographics')"
   ]
  },
  {
   "cell_type": "markdown",
   "metadata": {},
   "source": [
    "There are some missing values, undocumented. More data cleaning should be done. No visual difference is observed."
   ]
  },
  {
   "cell_type": "markdown",
   "metadata": {},
   "source": [
    "0 means missing value?"
   ]
  },
  {
   "cell_type": "code",
   "execution_count": 10,
   "metadata": {},
   "outputs": [
    {
     "data": {
      "application/vnd.vegalite.v4+json": {
       "$schema": "https://vega.github.io/schema/vega-lite/v4.17.0.json",
       "config": {
        "view": {
         "continuousHeight": 300,
         "continuousWidth": 400
        }
       },
       "title": "Repayment status",
       "vconcat": [
        {
         "hconcat": [
          {
           "data": {
            "url": "http://localhost:52156/63e561da5e5b879f2ed6fd63e5e09935.json"
           },
           "encoding": {
            "color": {
             "field": "default",
             "scale": {
              "scheme": "category10"
             },
             "type": "ordinal"
            },
            "x": {
             "aggregate": "count",
             "stack": false,
             "title": "",
             "type": "quantitative"
            },
            "y": {
             "field": "PAY_1",
             "scale": {
              "domain": [
               -2,
               -1,
               0,
               1,
               2,
               3,
               4,
               5,
               6,
               7,
               8
              ]
             },
             "type": "nominal"
            }
           },
           "height": 100,
           "mark": "bar",
           "width": 300
          },
          {
           "data": {
            "url": "http://localhost:52156/6f66e5c3691a7972f73903fd894d2f3d.json"
           },
           "encoding": {
            "color": {
             "field": "default",
             "scale": {
              "scheme": "category10"
             },
             "type": "ordinal"
            },
            "x": {
             "aggregate": "count",
             "stack": false,
             "title": "",
             "type": "quantitative"
            },
            "y": {
             "field": "PAY_1",
             "scale": {
              "domain": [
               -2,
               -1,
               0,
               1,
               2,
               3,
               4,
               5,
               6,
               7,
               8
              ]
             },
             "type": "nominal"
            }
           },
           "height": 100,
           "mark": "bar",
           "width": 300
          }
         ]
        },
        {
         "hconcat": [
          {
           "data": {
            "url": "http://localhost:52156/63e561da5e5b879f2ed6fd63e5e09935.json"
           },
           "encoding": {
            "color": {
             "field": "default",
             "scale": {
              "scheme": "category10"
             },
             "type": "ordinal"
            },
            "x": {
             "aggregate": "count",
             "stack": false,
             "title": "",
             "type": "quantitative"
            },
            "y": {
             "field": "PAY_2",
             "scale": {
              "domain": [
               -2,
               -1,
               0,
               1,
               2,
               3,
               4,
               5,
               6,
               7,
               8
              ]
             },
             "type": "nominal"
            }
           },
           "height": 100,
           "mark": "bar",
           "width": 300
          },
          {
           "data": {
            "url": "http://localhost:52156/6f66e5c3691a7972f73903fd894d2f3d.json"
           },
           "encoding": {
            "color": {
             "field": "default",
             "scale": {
              "scheme": "category10"
             },
             "type": "ordinal"
            },
            "x": {
             "aggregate": "count",
             "stack": false,
             "title": "",
             "type": "quantitative"
            },
            "y": {
             "field": "PAY_2",
             "scale": {
              "domain": [
               -2,
               -1,
               0,
               1,
               2,
               3,
               4,
               5,
               6,
               7,
               8
              ]
             },
             "type": "nominal"
            }
           },
           "height": 100,
           "mark": "bar",
           "width": 300
          }
         ]
        },
        {
         "hconcat": [
          {
           "data": {
            "url": "http://localhost:52156/63e561da5e5b879f2ed6fd63e5e09935.json"
           },
           "encoding": {
            "color": {
             "field": "default",
             "scale": {
              "scheme": "category10"
             },
             "type": "ordinal"
            },
            "x": {
             "aggregate": "count",
             "stack": false,
             "title": "",
             "type": "quantitative"
            },
            "y": {
             "field": "PAY_3",
             "scale": {
              "domain": [
               -2,
               -1,
               0,
               1,
               2,
               3,
               4,
               5,
               6,
               7,
               8
              ]
             },
             "type": "nominal"
            }
           },
           "height": 100,
           "mark": "bar",
           "width": 300
          },
          {
           "data": {
            "url": "http://localhost:52156/6f66e5c3691a7972f73903fd894d2f3d.json"
           },
           "encoding": {
            "color": {
             "field": "default",
             "scale": {
              "scheme": "category10"
             },
             "type": "ordinal"
            },
            "x": {
             "aggregate": "count",
             "stack": false,
             "title": "",
             "type": "quantitative"
            },
            "y": {
             "field": "PAY_3",
             "scale": {
              "domain": [
               -2,
               -1,
               0,
               1,
               2,
               3,
               4,
               5,
               6,
               7,
               8
              ]
             },
             "type": "nominal"
            }
           },
           "height": 100,
           "mark": "bar",
           "width": 300
          }
         ]
        },
        {
         "hconcat": [
          {
           "data": {
            "url": "http://localhost:52156/63e561da5e5b879f2ed6fd63e5e09935.json"
           },
           "encoding": {
            "color": {
             "field": "default",
             "scale": {
              "scheme": "category10"
             },
             "type": "ordinal"
            },
            "x": {
             "aggregate": "count",
             "stack": false,
             "title": "",
             "type": "quantitative"
            },
            "y": {
             "field": "PAY_4",
             "scale": {
              "domain": [
               -2,
               -1,
               0,
               1,
               2,
               3,
               4,
               5,
               6,
               7,
               8
              ]
             },
             "type": "nominal"
            }
           },
           "height": 100,
           "mark": "bar",
           "width": 300
          },
          {
           "data": {
            "url": "http://localhost:52156/6f66e5c3691a7972f73903fd894d2f3d.json"
           },
           "encoding": {
            "color": {
             "field": "default",
             "scale": {
              "scheme": "category10"
             },
             "type": "ordinal"
            },
            "x": {
             "aggregate": "count",
             "stack": false,
             "title": "",
             "type": "quantitative"
            },
            "y": {
             "field": "PAY_4",
             "scale": {
              "domain": [
               -2,
               -1,
               0,
               1,
               2,
               3,
               4,
               5,
               6,
               7,
               8
              ]
             },
             "type": "nominal"
            }
           },
           "height": 100,
           "mark": "bar",
           "width": 300
          }
         ]
        },
        {
         "hconcat": [
          {
           "data": {
            "url": "http://localhost:52156/63e561da5e5b879f2ed6fd63e5e09935.json"
           },
           "encoding": {
            "color": {
             "field": "default",
             "scale": {
              "scheme": "category10"
             },
             "type": "ordinal"
            },
            "x": {
             "aggregate": "count",
             "stack": false,
             "title": "",
             "type": "quantitative"
            },
            "y": {
             "field": "PAY_5",
             "scale": {
              "domain": [
               -2,
               -1,
               0,
               1,
               2,
               3,
               4,
               5,
               6,
               7,
               8
              ]
             },
             "type": "nominal"
            }
           },
           "height": 100,
           "mark": "bar",
           "width": 300
          },
          {
           "data": {
            "url": "http://localhost:52156/6f66e5c3691a7972f73903fd894d2f3d.json"
           },
           "encoding": {
            "color": {
             "field": "default",
             "scale": {
              "scheme": "category10"
             },
             "type": "ordinal"
            },
            "x": {
             "aggregate": "count",
             "stack": false,
             "title": "",
             "type": "quantitative"
            },
            "y": {
             "field": "PAY_5",
             "scale": {
              "domain": [
               -2,
               -1,
               0,
               1,
               2,
               3,
               4,
               5,
               6,
               7,
               8
              ]
             },
             "type": "nominal"
            }
           },
           "height": 100,
           "mark": "bar",
           "width": 300
          }
         ]
        },
        {
         "hconcat": [
          {
           "data": {
            "url": "http://localhost:52156/63e561da5e5b879f2ed6fd63e5e09935.json"
           },
           "encoding": {
            "color": {
             "field": "default",
             "scale": {
              "scheme": "category10"
             },
             "type": "ordinal"
            },
            "x": {
             "aggregate": "count",
             "stack": false,
             "title": "",
             "type": "quantitative"
            },
            "y": {
             "field": "PAY_6",
             "scale": {
              "domain": [
               -2,
               -1,
               0,
               1,
               2,
               3,
               4,
               5,
               6,
               7,
               8
              ]
             },
             "type": "nominal"
            }
           },
           "height": 100,
           "mark": "bar",
           "width": 300
          },
          {
           "data": {
            "url": "http://localhost:52156/6f66e5c3691a7972f73903fd894d2f3d.json"
           },
           "encoding": {
            "color": {
             "field": "default",
             "scale": {
              "scheme": "category10"
             },
             "type": "ordinal"
            },
            "x": {
             "aggregate": "count",
             "stack": false,
             "title": "",
             "type": "quantitative"
            },
            "y": {
             "field": "PAY_6",
             "scale": {
              "domain": [
               -2,
               -1,
               0,
               1,
               2,
               3,
               4,
               5,
               6,
               7,
               8
              ]
             },
             "type": "nominal"
            }
           },
           "height": 100,
           "mark": "bar",
           "width": 300
          }
         ]
        }
       ]
      },
      "image/png": "[encoded data removed]",
      "text/plain": [
       "<VegaLite 4 object>\n",
       "\n",
       "If you see this message, it means the renderer has not been properly enabled\n",
       "for the frontend that you are using. For more information, see\n",
       "https://altair-viz.github.io/user_guide/troubleshooting.html\n"
      ]
     },
     "execution_count": 10,
     "metadata": {},
     "output_type": "execute_result"
    }
   ],
   "source": [
    "bar( train_df = train_df, feat_list = [ ('PAY_1', list( range( -2, 9))),\n",
    "                                       ('PAY_2', list( range( -2, 9))),\n",
    "                                       ('PAY_3', list( range( -2, 9))),\n",
    "                                       ('PAY_4', list( range( -2, 9))),\n",
    "                                       ('PAY_5', list( range( -2, 9))),\n",
    "                                       ('PAY_6', list( range( -2, 9)))],\n",
    "     repeat = True, title = 'Repayment status')"
   ]
  },
  {
   "cell_type": "markdown",
   "metadata": {},
   "source": [
    "There are some missing values, undocumented. More data cleaning should be done. No visual difference is observed."
   ]
  },
  {
   "cell_type": "markdown",
   "metadata": {},
   "source": [
    "<!-- END QUESTION -->\n",
    "\n",
    "<!-- BEGIN QUESTION -->\n",
    "\n",
    "<div class=\"alert alert-warning\">\n",
    "\n",
    "## 4. Feature engineering (Challenging)\n",
    "rubric={reasoning}\n",
    "\n",
    "**Your tasks:**\n",
    "\n",
    "1. Carry out feature engineering. In other words, extract new features relevant for the problem and work with your new feature set in the following exercises. You may have to go back and forth between feature engineering and preprocessing.\n",
    "    \n",
    "</div>\n",
    "\n",
    "_Points:_ 0.5"
   ]
  },
  {
   "cell_type": "raw",
   "metadata": {
    "tags": []
   },
   "source": [
    "..."
   ]
  },
  {
   "cell_type": "markdown",
   "metadata": {},
   "source": [
    "<!-- END QUESTION -->\n",
    "\n",
    "<!-- BEGIN QUESTION -->\n",
    "\n",
    "<div class=\"alert alert-info\">\n",
    "\n",
    "## 5. Preprocessing and transformations <a name=\"5\"></a>\n",
    "rubric={accuracy,reasoning}\n",
    "\n",
    "**Your tasks:**\n",
    "\n",
    "1. Identify different feature types and the transformations you would apply on each feature type. \n",
    "2. Define a column transformer, if necessary. \n",
    "    \n",
    "</div>\n",
    "\n",
    "_Points:_ 4"
   ]
  },
  {
   "cell_type": "code",
   "execution_count": 11,
   "metadata": {},
   "outputs": [
    {
     "data": {
      "text/html": [
       "<div>\n",
       "<style scoped>\n",
       "    .dataframe tbody tr th:only-of-type {\n",
       "        vertical-align: middle;\n",
       "    }\n",
       "\n",
       "    .dataframe tbody tr th {\n",
       "        vertical-align: top;\n",
       "    }\n",
       "\n",
       "    .dataframe thead th {\n",
       "        text-align: right;\n",
       "    }\n",
       "</style>\n",
       "<table border=\"1\" class=\"dataframe\">\n",
       "  <thead>\n",
       "    <tr style=\"text-align: right;\">\n",
       "      <th></th>\n",
       "      <th>ID</th>\n",
       "      <th>LIMIT_BAL</th>\n",
       "      <th>SEX</th>\n",
       "      <th>EDUCATION</th>\n",
       "      <th>MARRIAGE</th>\n",
       "      <th>AGE</th>\n",
       "      <th>PAY_1</th>\n",
       "      <th>PAY_2</th>\n",
       "      <th>PAY_3</th>\n",
       "      <th>PAY_4</th>\n",
       "      <th>...</th>\n",
       "      <th>BILL_AMT4</th>\n",
       "      <th>BILL_AMT5</th>\n",
       "      <th>BILL_AMT6</th>\n",
       "      <th>PAY_AMT1</th>\n",
       "      <th>PAY_AMT2</th>\n",
       "      <th>PAY_AMT3</th>\n",
       "      <th>PAY_AMT4</th>\n",
       "      <th>PAY_AMT5</th>\n",
       "      <th>PAY_AMT6</th>\n",
       "      <th>default</th>\n",
       "    </tr>\n",
       "  </thead>\n",
       "  <tbody>\n",
       "    <tr>\n",
       "      <th>count</th>\n",
       "      <td>6000.000000</td>\n",
       "      <td>6000.000000</td>\n",
       "      <td>6000.00000</td>\n",
       "      <td>6000.000000</td>\n",
       "      <td>6000.000000</td>\n",
       "      <td>6000.000000</td>\n",
       "      <td>6000.000000</td>\n",
       "      <td>6000.000000</td>\n",
       "      <td>6000.000000</td>\n",
       "      <td>6000.000000</td>\n",
       "      <td>...</td>\n",
       "      <td>6000.000000</td>\n",
       "      <td>6000.000000</td>\n",
       "      <td>6000.000000</td>\n",
       "      <td>6000.000000</td>\n",
       "      <td>6.000000e+03</td>\n",
       "      <td>6000.000000</td>\n",
       "      <td>6000.000000</td>\n",
       "      <td>6000.000000</td>\n",
       "      <td>6000.000000</td>\n",
       "      <td>6000.000000</td>\n",
       "    </tr>\n",
       "    <tr>\n",
       "      <th>mean</th>\n",
       "      <td>15080.959500</td>\n",
       "      <td>166932.666667</td>\n",
       "      <td>1.61250</td>\n",
       "      <td>1.861500</td>\n",
       "      <td>1.550833</td>\n",
       "      <td>35.417500</td>\n",
       "      <td>-0.006333</td>\n",
       "      <td>-0.135500</td>\n",
       "      <td>-0.173667</td>\n",
       "      <td>-0.206167</td>\n",
       "      <td>...</td>\n",
       "      <td>42794.654167</td>\n",
       "      <td>39930.022833</td>\n",
       "      <td>38479.007333</td>\n",
       "      <td>5765.805667</td>\n",
       "      <td>6.088104e+03</td>\n",
       "      <td>5169.488000</td>\n",
       "      <td>4875.771667</td>\n",
       "      <td>4749.341167</td>\n",
       "      <td>5059.110167</td>\n",
       "      <td>0.215500</td>\n",
       "    </tr>\n",
       "    <tr>\n",
       "      <th>std</th>\n",
       "      <td>8616.929849</td>\n",
       "      <td>129111.214658</td>\n",
       "      <td>0.48722</td>\n",
       "      <td>0.798806</td>\n",
       "      <td>0.524845</td>\n",
       "      <td>9.245635</td>\n",
       "      <td>1.154057</td>\n",
       "      <td>1.215615</td>\n",
       "      <td>1.203778</td>\n",
       "      <td>1.182467</td>\n",
       "      <td>...</td>\n",
       "      <td>63786.677037</td>\n",
       "      <td>61140.017271</td>\n",
       "      <td>59882.276611</td>\n",
       "      <td>16414.732654</td>\n",
       "      <td>2.376207e+04</td>\n",
       "      <td>16159.173269</td>\n",
       "      <td>16751.589519</td>\n",
       "      <td>15027.193006</td>\n",
       "      <td>17396.518485</td>\n",
       "      <td>0.411203</td>\n",
       "    </tr>\n",
       "    <tr>\n",
       "      <th>min</th>\n",
       "      <td>12.000000</td>\n",
       "      <td>10000.000000</td>\n",
       "      <td>1.00000</td>\n",
       "      <td>0.000000</td>\n",
       "      <td>0.000000</td>\n",
       "      <td>21.000000</td>\n",
       "      <td>-2.000000</td>\n",
       "      <td>-2.000000</td>\n",
       "      <td>-2.000000</td>\n",
       "      <td>-2.000000</td>\n",
       "      <td>...</td>\n",
       "      <td>-20320.000000</td>\n",
       "      <td>-37594.000000</td>\n",
       "      <td>-45734.000000</td>\n",
       "      <td>0.000000</td>\n",
       "      <td>0.000000e+00</td>\n",
       "      <td>0.000000</td>\n",
       "      <td>0.000000</td>\n",
       "      <td>0.000000</td>\n",
       "      <td>0.000000</td>\n",
       "      <td>0.000000</td>\n",
       "    </tr>\n",
       "    <tr>\n",
       "      <th>25%</th>\n",
       "      <td>7532.500000</td>\n",
       "      <td>50000.000000</td>\n",
       "      <td>1.00000</td>\n",
       "      <td>1.000000</td>\n",
       "      <td>1.000000</td>\n",
       "      <td>28.000000</td>\n",
       "      <td>-1.000000</td>\n",
       "      <td>-1.000000</td>\n",
       "      <td>-1.000000</td>\n",
       "      <td>-1.000000</td>\n",
       "      <td>...</td>\n",
       "      <td>2258.500000</td>\n",
       "      <td>1756.500000</td>\n",
       "      <td>1150.000000</td>\n",
       "      <td>897.250000</td>\n",
       "      <td>8.000000e+02</td>\n",
       "      <td>362.000000</td>\n",
       "      <td>291.000000</td>\n",
       "      <td>173.750000</td>\n",
       "      <td>35.000000</td>\n",
       "      <td>0.000000</td>\n",
       "    </tr>\n",
       "    <tr>\n",
       "      <th>50%</th>\n",
       "      <td>15101.000000</td>\n",
       "      <td>140000.000000</td>\n",
       "      <td>2.00000</td>\n",
       "      <td>2.000000</td>\n",
       "      <td>2.000000</td>\n",
       "      <td>34.000000</td>\n",
       "      <td>0.000000</td>\n",
       "      <td>0.000000</td>\n",
       "      <td>0.000000</td>\n",
       "      <td>0.000000</td>\n",
       "      <td>...</td>\n",
       "      <td>19121.000000</td>\n",
       "      <td>18103.500000</td>\n",
       "      <td>16725.000000</td>\n",
       "      <td>2100.000000</td>\n",
       "      <td>2.021000e+03</td>\n",
       "      <td>1743.500000</td>\n",
       "      <td>1500.000000</td>\n",
       "      <td>1500.000000</td>\n",
       "      <td>1500.000000</td>\n",
       "      <td>0.000000</td>\n",
       "    </tr>\n",
       "    <tr>\n",
       "      <th>75%</th>\n",
       "      <td>22458.000000</td>\n",
       "      <td>240000.000000</td>\n",
       "      <td>2.00000</td>\n",
       "      <td>2.000000</td>\n",
       "      <td>2.000000</td>\n",
       "      <td>41.000000</td>\n",
       "      <td>0.000000</td>\n",
       "      <td>0.000000</td>\n",
       "      <td>0.000000</td>\n",
       "      <td>0.000000</td>\n",
       "      <td>...</td>\n",
       "      <td>54866.250000</td>\n",
       "      <td>49952.000000</td>\n",
       "      <td>48335.750000</td>\n",
       "      <td>5000.000000</td>\n",
       "      <td>5.000000e+03</td>\n",
       "      <td>4300.000000</td>\n",
       "      <td>4000.000000</td>\n",
       "      <td>4000.000000</td>\n",
       "      <td>4000.000000</td>\n",
       "      <td>0.000000</td>\n",
       "    </tr>\n",
       "    <tr>\n",
       "      <th>max</th>\n",
       "      <td>29988.000000</td>\n",
       "      <td>730000.000000</td>\n",
       "      <td>2.00000</td>\n",
       "      <td>6.000000</td>\n",
       "      <td>3.000000</td>\n",
       "      <td>72.000000</td>\n",
       "      <td>8.000000</td>\n",
       "      <td>7.000000</td>\n",
       "      <td>8.000000</td>\n",
       "      <td>8.000000</td>\n",
       "      <td>...</td>\n",
       "      <td>572805.000000</td>\n",
       "      <td>823540.000000</td>\n",
       "      <td>527566.000000</td>\n",
       "      <td>493358.000000</td>\n",
       "      <td>1.227082e+06</td>\n",
       "      <td>508229.000000</td>\n",
       "      <td>432130.000000</td>\n",
       "      <td>330982.000000</td>\n",
       "      <td>528666.000000</td>\n",
       "      <td>1.000000</td>\n",
       "    </tr>\n",
       "  </tbody>\n",
       "</table>\n",
       "<p>8 rows × 25 columns</p>\n",
       "</div>"
      ],
      "text/plain": [
       "                 ID      LIMIT_BAL         SEX    EDUCATION     MARRIAGE  \\\n",
       "count   6000.000000    6000.000000  6000.00000  6000.000000  6000.000000   \n",
       "mean   15080.959500  166932.666667     1.61250     1.861500     1.550833   \n",
       "std     8616.929849  129111.214658     0.48722     0.798806     0.524845   \n",
       "min       12.000000   10000.000000     1.00000     0.000000     0.000000   \n",
       "25%     7532.500000   50000.000000     1.00000     1.000000     1.000000   \n",
       "50%    15101.000000  140000.000000     2.00000     2.000000     2.000000   \n",
       "75%    22458.000000  240000.000000     2.00000     2.000000     2.000000   \n",
       "max    29988.000000  730000.000000     2.00000     6.000000     3.000000   \n",
       "\n",
       "               AGE        PAY_1        PAY_2        PAY_3        PAY_4  ...  \\\n",
       "count  6000.000000  6000.000000  6000.000000  6000.000000  6000.000000  ...   \n",
       "mean     35.417500    -0.006333    -0.135500    -0.173667    -0.206167  ...   \n",
       "std       9.245635     1.154057     1.215615     1.203778     1.182467  ...   \n",
       "min      21.000000    -2.000000    -2.000000    -2.000000    -2.000000  ...   \n",
       "25%      28.000000    -1.000000    -1.000000    -1.000000    -1.000000  ...   \n",
       "50%      34.000000     0.000000     0.000000     0.000000     0.000000  ...   \n",
       "75%      41.000000     0.000000     0.000000     0.000000     0.000000  ...   \n",
       "max      72.000000     8.000000     7.000000     8.000000     8.000000  ...   \n",
       "\n",
       "           BILL_AMT4      BILL_AMT5      BILL_AMT6       PAY_AMT1  \\\n",
       "count    6000.000000    6000.000000    6000.000000    6000.000000   \n",
       "mean    42794.654167   39930.022833   38479.007333    5765.805667   \n",
       "std     63786.677037   61140.017271   59882.276611   16414.732654   \n",
       "min    -20320.000000  -37594.000000  -45734.000000       0.000000   \n",
       "25%      2258.500000    1756.500000    1150.000000     897.250000   \n",
       "50%     19121.000000   18103.500000   16725.000000    2100.000000   \n",
       "75%     54866.250000   49952.000000   48335.750000    5000.000000   \n",
       "max    572805.000000  823540.000000  527566.000000  493358.000000   \n",
       "\n",
       "           PAY_AMT2       PAY_AMT3       PAY_AMT4       PAY_AMT5  \\\n",
       "count  6.000000e+03    6000.000000    6000.000000    6000.000000   \n",
       "mean   6.088104e+03    5169.488000    4875.771667    4749.341167   \n",
       "std    2.376207e+04   16159.173269   16751.589519   15027.193006   \n",
       "min    0.000000e+00       0.000000       0.000000       0.000000   \n",
       "25%    8.000000e+02     362.000000     291.000000     173.750000   \n",
       "50%    2.021000e+03    1743.500000    1500.000000    1500.000000   \n",
       "75%    5.000000e+03    4300.000000    4000.000000    4000.000000   \n",
       "max    1.227082e+06  508229.000000  432130.000000  330982.000000   \n",
       "\n",
       "            PAY_AMT6      default  \n",
       "count    6000.000000  6000.000000  \n",
       "mean     5059.110167     0.215500  \n",
       "std     17396.518485     0.411203  \n",
       "min         0.000000     0.000000  \n",
       "25%        35.000000     0.000000  \n",
       "50%      1500.000000     0.000000  \n",
       "75%      4000.000000     0.000000  \n",
       "max    528666.000000     1.000000  \n",
       "\n",
       "[8 rows x 25 columns]"
      ]
     },
     "execution_count": 11,
     "metadata": {},
     "output_type": "execute_result"
    }
   ],
   "source": [
    "train_df.describe()"
   ]
  },
  {
   "cell_type": "code",
   "execution_count": 12,
   "metadata": {},
   "outputs": [],
   "source": [
    "def log_func(x):\n",
    "    return np.log(x+1)\n",
    "\n",
    "def translation_func( x):\n",
    "    return  min(x)"
   ]
  },
  {
   "cell_type": "code",
   "execution_count": 13,
   "metadata": {
    "tags": []
   },
   "outputs": [],
   "source": [
    "from sklearn.preprocessing import PowerTransformer\n",
    "\n",
    "cols_std = [ 'AGE'] # Numeric\n",
    "cols_pow_std = [ 'LIMIT_BAL', 'PAY_AMT1', 'PAY_AMT2', 'PAY_AMT3', 'PAY_AMT4', 'PAY_AMT5', 'PAY_AMT6',\n",
    "                'BILL_AMT1', 'BILL_AMT2', 'BILL_AMT3', 'BILL_AMT5', 'BILL_AMT5', 'BILL_AMT6'\n",
    "               ] # Numeric and highly skewed\n",
    "cols_cat = [ 'SEX', 'EDUCATION', 'MARRIAGE', 'PAY_1', 'PAY_2', 'PAY_3', 'PAY_4', 'PAY_5', 'PAY_6'] # Categorical data\n",
    "cols_drop = [ 'ID']\n",
    "\n",
    "\n",
    "pipe_pow_std = make_pipeline(\n",
    "    PowerTransformer(), StandardScaler())\n",
    "\n",
    "column_transformer = make_column_transformer(\n",
    "    ( StandardScaler(), cols_std),\n",
    "    ( pipe_pow_std, cols_pow_std),\n",
    "    ( OneHotEncoder(handle_unknown = 'ignore', sparse = False), cols_cat),\n",
    "    ( 'drop', cols_drop)\n",
    ")"
   ]
  },
  {
   "cell_type": "markdown",
   "metadata": {},
   "source": [
    "<!-- END QUESTION -->\n",
    "\n",
    "<!-- BEGIN QUESTION -->\n",
    "\n",
    "<div class=\"alert alert-info\">\n",
    "\n",
    "## 6. Baseline model <a name=\"6\"></a>\n",
    "rubric={accuracy}\n",
    "\n",
    "**Your tasks:**\n",
    "1. Train a baseline model for your task and report its performance.\n",
    "    \n",
    "</div>\n",
    "\n",
    "_Points:_ 2"
   ]
  },
  {
   "cell_type": "code",
   "execution_count": 19,
   "metadata": {
    "tags": []
   },
   "outputs": [
    {
     "name": "stderr",
     "output_type": "stream",
     "text": [
      "C:\\Users\\User\\miniconda3\\envs\\573\\lib\\site-packages\\sklearn\\metrics\\_classification.py:1334: UndefinedMetricWarning: Precision is ill-defined and being set to 0.0 due to no predicted samples. Use `zero_division` parameter to control this behavior.\n",
      "  _warn_prf(average, modifier, msg_start, len(result))\n",
      "C:\\Users\\User\\miniconda3\\envs\\573\\lib\\site-packages\\sklearn\\metrics\\_classification.py:1334: UndefinedMetricWarning: Precision is ill-defined and being set to 0.0 due to no predicted samples. Use `zero_division` parameter to control this behavior.\n",
      "  _warn_prf(average, modifier, msg_start, len(result))\n",
      "C:\\Users\\User\\miniconda3\\envs\\573\\lib\\site-packages\\sklearn\\metrics\\_classification.py:1334: UndefinedMetricWarning: Precision is ill-defined and being set to 0.0 due to no predicted samples. Use `zero_division` parameter to control this behavior.\n",
      "  _warn_prf(average, modifier, msg_start, len(result))\n",
      "C:\\Users\\User\\miniconda3\\envs\\573\\lib\\site-packages\\sklearn\\metrics\\_classification.py:1334: UndefinedMetricWarning: Precision is ill-defined and being set to 0.0 due to no predicted samples. Use `zero_division` parameter to control this behavior.\n",
      "  _warn_prf(average, modifier, msg_start, len(result))\n",
      "C:\\Users\\User\\miniconda3\\envs\\573\\lib\\site-packages\\sklearn\\metrics\\_classification.py:1334: UndefinedMetricWarning: Precision is ill-defined and being set to 0.0 due to no predicted samples. Use `zero_division` parameter to control this behavior.\n",
      "  _warn_prf(average, modifier, msg_start, len(result))\n",
      "C:\\Users\\User\\miniconda3\\envs\\573\\lib\\site-packages\\sklearn\\metrics\\_classification.py:1334: UndefinedMetricWarning: Precision is ill-defined and being set to 0.0 due to no predicted samples. Use `zero_division` parameter to control this behavior.\n",
      "  _warn_prf(average, modifier, msg_start, len(result))\n",
      "C:\\Users\\User\\miniconda3\\envs\\573\\lib\\site-packages\\sklearn\\metrics\\_classification.py:1334: UndefinedMetricWarning: Precision is ill-defined and being set to 0.0 due to no predicted samples. Use `zero_division` parameter to control this behavior.\n",
      "  _warn_prf(average, modifier, msg_start, len(result))\n",
      "C:\\Users\\User\\miniconda3\\envs\\573\\lib\\site-packages\\sklearn\\metrics\\_classification.py:1334: UndefinedMetricWarning: Precision is ill-defined and being set to 0.0 due to no predicted samples. Use `zero_division` parameter to control this behavior.\n",
      "  _warn_prf(average, modifier, msg_start, len(result))\n",
      "C:\\Users\\User\\miniconda3\\envs\\573\\lib\\site-packages\\sklearn\\metrics\\_classification.py:1334: UndefinedMetricWarning: Precision is ill-defined and being set to 0.0 due to no predicted samples. Use `zero_division` parameter to control this behavior.\n",
      "  _warn_prf(average, modifier, msg_start, len(result))\n",
      "C:\\Users\\User\\miniconda3\\envs\\573\\lib\\site-packages\\sklearn\\metrics\\_classification.py:1334: UndefinedMetricWarning: Precision is ill-defined and being set to 0.0 due to no predicted samples. Use `zero_division` parameter to control this behavior.\n",
      "  _warn_prf(average, modifier, msg_start, len(result))\n"
     ]
    }
   ],
   "source": [
    "from sklearn.dummy import DummyClassifier\n",
    "\n",
    "X_train, y_train = train_df.drop( 'default', axis = 1), train_df[ 'default']\n",
    "X_test, y_test = test_df.drop( 'default', axis = 1), test_df[ 'default']\n",
    "\n",
    "dummy = DummyClassifier()\n",
    "pipe_dummy = make_pipeline(\n",
    "    column_transformer, dummy)\n",
    "\n",
    "result_dict = {}\n",
    "\n",
    "cv_scoring_metrics = [ 'accuracy', 'precision', 'recall', 'f1']\n",
    "result = cross_validate( pipe_dummy, X_train, y_train, cv = 5, scoring = cv_scoring_metrics, return_train_score = True)"
   ]
  },
  {
   "cell_type": "code",
   "execution_count": 20,
   "metadata": {},
   "outputs": [
    {
     "data": {
      "text/html": [
       "<div>\n",
       "<style scoped>\n",
       "    .dataframe tbody tr th:only-of-type {\n",
       "        vertical-align: middle;\n",
       "    }\n",
       "\n",
       "    .dataframe tbody tr th {\n",
       "        vertical-align: top;\n",
       "    }\n",
       "\n",
       "    .dataframe thead th {\n",
       "        text-align: right;\n",
       "    }\n",
       "</style>\n",
       "<table border=\"1\" class=\"dataframe\">\n",
       "  <thead>\n",
       "    <tr style=\"text-align: right;\">\n",
       "      <th></th>\n",
       "      <th>mean</th>\n",
       "      <th>std</th>\n",
       "    </tr>\n",
       "  </thead>\n",
       "  <tbody>\n",
       "    <tr>\n",
       "      <th>fit_time</th>\n",
       "      <td>0.128210</td>\n",
       "      <td>0.012574</td>\n",
       "    </tr>\n",
       "    <tr>\n",
       "      <th>score_time</th>\n",
       "      <td>0.014603</td>\n",
       "      <td>0.002519</td>\n",
       "    </tr>\n",
       "    <tr>\n",
       "      <th>test_accuracy</th>\n",
       "      <td>0.784500</td>\n",
       "      <td>0.000456</td>\n",
       "    </tr>\n",
       "    <tr>\n",
       "      <th>train_accuracy</th>\n",
       "      <td>0.784500</td>\n",
       "      <td>0.000114</td>\n",
       "    </tr>\n",
       "    <tr>\n",
       "      <th>test_precision</th>\n",
       "      <td>0.000000</td>\n",
       "      <td>0.000000</td>\n",
       "    </tr>\n",
       "    <tr>\n",
       "      <th>train_precision</th>\n",
       "      <td>0.000000</td>\n",
       "      <td>0.000000</td>\n",
       "    </tr>\n",
       "    <tr>\n",
       "      <th>test_recall</th>\n",
       "      <td>0.000000</td>\n",
       "      <td>0.000000</td>\n",
       "    </tr>\n",
       "    <tr>\n",
       "      <th>train_recall</th>\n",
       "      <td>0.000000</td>\n",
       "      <td>0.000000</td>\n",
       "    </tr>\n",
       "    <tr>\n",
       "      <th>test_f1</th>\n",
       "      <td>0.000000</td>\n",
       "      <td>0.000000</td>\n",
       "    </tr>\n",
       "    <tr>\n",
       "      <th>train_f1</th>\n",
       "      <td>0.000000</td>\n",
       "      <td>0.000000</td>\n",
       "    </tr>\n",
       "  </tbody>\n",
       "</table>\n",
       "</div>"
      ],
      "text/plain": [
       "                     mean       std\n",
       "fit_time         0.128210  0.012574\n",
       "score_time       0.014603  0.002519\n",
       "test_accuracy    0.784500  0.000456\n",
       "train_accuracy   0.784500  0.000114\n",
       "test_precision   0.000000  0.000000\n",
       "train_precision  0.000000  0.000000\n",
       "test_recall      0.000000  0.000000\n",
       "train_recall     0.000000  0.000000\n",
       "test_f1          0.000000  0.000000\n",
       "train_f1         0.000000  0.000000"
      ]
     },
     "execution_count": 20,
     "metadata": {},
     "output_type": "execute_result"
    }
   ],
   "source": [
    "result_dict[ 'dummy'] = pd.DataFrame( result).agg( [ 'mean', 'std']).T\n",
    "result_dict[ 'dummy']"
   ]
  },
  {
   "cell_type": "markdown",
   "metadata": {},
   "source": [
    "<!-- END QUESTION -->\n",
    "\n",
    "<!-- BEGIN QUESTION -->\n",
    "\n",
    "<div class=\"alert alert-info\">\n",
    "\n",
    "## 7. Linear models <a name=\"7\"></a>\n",
    "rubric={accuracy,reasoning}\n",
    "\n",
    "**Your tasks:**\n",
    "\n",
    "1. Try a linear model as a first real attempt. \n",
    "2. Carry out hyperparameter tuning to explore different values for the regularization hyperparameter. \n",
    "3. Report cross-validation scores along with standard deviation. \n",
    "4. Summarize your results.\n",
    "    \n",
    "</div>\n",
    "\n",
    "_Points:_ 8"
   ]
  },
  {
   "cell_type": "markdown",
   "metadata": {},
   "source": [
    "As the discrepancies between train and validation scores are small, we reason that the model is not overfitting. The logistic regression model achives a cross-validation precision of 0.46, a recall of 0.64, and an f1 score of 0.54."
   ]
  },
  {
   "cell_type": "code",
   "execution_count": 21,
   "metadata": {
    "tags": []
   },
   "outputs": [],
   "source": [
    "param_grid = {\n",
    "    \"logisticregression__C\": loguniform(1e-3, 1e3)}\n",
    "\n",
    "pipe_lr = make_pipeline(column_transformer, LogisticRegression(max_iter = 2000, class_weight = 'balanced', random_state=69))\n",
    "\n",
    "random_search = RandomizedSearchCV(\n",
    "    pipe_lr,\n",
    "    param_grid,\n",
    "    scoring = 'f1',\n",
    "    n_iter=50,\n",
    "    n_jobs=-1,\n",
    "    random_state=69,\n",
    "    return_train_score=True,\n",
    ")"
   ]
  },
  {
   "cell_type": "code",
   "execution_count": 22,
   "metadata": {},
   "outputs": [
    {
     "name": "stdout",
     "output_type": "stream",
     "text": [
      "Best hyperparameter values:  {'logisticregression__C': 1.2004186825129166}\n"
     ]
    }
   ],
   "source": [
    "random_search.fit(X_train, y_train)\n",
    "print(\"Best hyperparameter values: \", random_search.best_params_)\n",
    "# print(\"Best score: %0.3f\" % (random_search.best_score_))"
   ]
  },
  {
   "cell_type": "code",
   "execution_count": 23,
   "metadata": {},
   "outputs": [],
   "source": [
    "best_c = random_search.best_params_['logisticregression__C']\n",
    "pipe_lr_opt = make_pipeline(column_transformer, LogisticRegression(max_iter = 2000, class_weight = 'balanced', C = best_c, random_state=69))"
   ]
  },
  {
   "cell_type": "code",
   "execution_count": 24,
   "metadata": {},
   "outputs": [],
   "source": [
    "result = cross_validate( pipe_lr_opt, X_train, y_train, cv = 5, scoring = cv_scoring_metrics, return_train_score = True)"
   ]
  },
  {
   "cell_type": "code",
   "execution_count": 25,
   "metadata": {},
   "outputs": [
    {
     "data": {
      "text/html": [
       "<div>\n",
       "<style scoped>\n",
       "    .dataframe tbody tr th:only-of-type {\n",
       "        vertical-align: middle;\n",
       "    }\n",
       "\n",
       "    .dataframe tbody tr th {\n",
       "        vertical-align: top;\n",
       "    }\n",
       "\n",
       "    .dataframe thead th {\n",
       "        text-align: right;\n",
       "    }\n",
       "</style>\n",
       "<table border=\"1\" class=\"dataframe\">\n",
       "  <thead>\n",
       "    <tr style=\"text-align: right;\">\n",
       "      <th></th>\n",
       "      <th>mean</th>\n",
       "      <th>std</th>\n",
       "    </tr>\n",
       "  </thead>\n",
       "  <tbody>\n",
       "    <tr>\n",
       "      <th>fit_time</th>\n",
       "      <td>0.797798</td>\n",
       "      <td>0.098811</td>\n",
       "    </tr>\n",
       "    <tr>\n",
       "      <th>score_time</th>\n",
       "      <td>0.039601</td>\n",
       "      <td>0.005899</td>\n",
       "    </tr>\n",
       "    <tr>\n",
       "      <th>test_accuracy</th>\n",
       "      <td>0.763000</td>\n",
       "      <td>0.020938</td>\n",
       "    </tr>\n",
       "    <tr>\n",
       "      <th>train_accuracy</th>\n",
       "      <td>0.764458</td>\n",
       "      <td>0.005062</td>\n",
       "    </tr>\n",
       "    <tr>\n",
       "      <th>test_precision</th>\n",
       "      <td>0.464589</td>\n",
       "      <td>0.034360</td>\n",
       "    </tr>\n",
       "    <tr>\n",
       "      <th>train_precision</th>\n",
       "      <td>0.466728</td>\n",
       "      <td>0.008067</td>\n",
       "    </tr>\n",
       "    <tr>\n",
       "      <th>test_recall</th>\n",
       "      <td>0.641130</td>\n",
       "      <td>0.037803</td>\n",
       "    </tr>\n",
       "    <tr>\n",
       "      <th>train_recall</th>\n",
       "      <td>0.650810</td>\n",
       "      <td>0.009510</td>\n",
       "    </tr>\n",
       "    <tr>\n",
       "      <th>test_f1</th>\n",
       "      <td>0.538582</td>\n",
       "      <td>0.035006</td>\n",
       "    </tr>\n",
       "    <tr>\n",
       "      <th>train_f1</th>\n",
       "      <td>0.543577</td>\n",
       "      <td>0.007519</td>\n",
       "    </tr>\n",
       "  </tbody>\n",
       "</table>\n",
       "</div>"
      ],
      "text/plain": [
       "                     mean       std\n",
       "fit_time         0.797798  0.098811\n",
       "score_time       0.039601  0.005899\n",
       "test_accuracy    0.763000  0.020938\n",
       "train_accuracy   0.764458  0.005062\n",
       "test_precision   0.464589  0.034360\n",
       "train_precision  0.466728  0.008067\n",
       "test_recall      0.641130  0.037803\n",
       "train_recall     0.650810  0.009510\n",
       "test_f1          0.538582  0.035006\n",
       "train_f1         0.543577  0.007519"
      ]
     },
     "execution_count": 25,
     "metadata": {},
     "output_type": "execute_result"
    }
   ],
   "source": [
    "result_dict[ 'lr'] = pd.DataFrame( result).agg( [ 'mean', 'std']).T\n",
    "result_dict['lr']"
   ]
  },
  {
   "cell_type": "markdown",
   "metadata": {},
   "source": [
    "<!-- END QUESTION -->\n",
    "\n",
    "<!-- BEGIN QUESTION -->\n",
    "\n",
    "<div class=\"alert alert-info\">\n",
    "\n",
    "## 8. Different models <a name=\"8\"></a>\n",
    "rubric={accuracy,reasoning}\n",
    "\n",
    "**Your tasks:**\n",
    "1. Try out three other models aside from the linear model. \n",
    "2. Summarize your results in terms of overfitting/underfitting and fit and score times. Can you beat the performance of the linear model? \n",
    "    \n",
    "</div>\n",
    "\n",
    "_Points:_ 10"
   ]
  },
  {
   "cell_type": "markdown",
   "metadata": {},
   "source": [
    "From the cross-validation results, it is seen that all classifers are seriously overfitting as the discrepancy between the train and validation score is large, for precision, recall and f1. They all perform worse compared to the linear model."
   ]
  },
  {
   "cell_type": "code",
   "execution_count": 26,
   "metadata": {},
   "outputs": [
    {
     "name": "stdout",
     "output_type": "stream",
     "text": [
      "There are 14 numeric columns\n",
      "There are 74 categorical columns\n"
     ]
    }
   ],
   "source": [
    "column_transformer.fit( X_train)\n",
    "print( f'There are {len( cols_std + cols_pow_std)} numeric columns')\n",
    "print( f'There are {len( column_transformer.named_transformers_[ \"onehotencoder\"].get_feature_names_out())} categorical columns')"
   ]
  },
  {
   "cell_type": "code",
   "execution_count": 27,
   "metadata": {
    "tags": []
   },
   "outputs": [],
   "source": [
    "from sklearn.ensemble import RandomForestClassifier, GradientBoostingClassifier, HistGradientBoostingClassifier\n",
    "\n",
    "\n",
    "pipe_rfc = make_pipeline( column_transformer, RandomForestClassifier( n_estimators = 500, class_weight = 'balanced', n_jobs = -1, random_state = 69))\n",
    "pipe_gbc = make_pipeline( column_transformer, GradientBoostingClassifier( n_estimators = 500, random_state = 69))\n",
    "pipe_hgbc = make_pipeline( column_transformer, HistGradientBoostingClassifier( categorical_features = [ range( 14, 68)], random_state = 69))"
   ]
  },
  {
   "cell_type": "code",
   "execution_count": 28,
   "metadata": {},
   "outputs": [],
   "source": [
    "cv_rfc = pd.DataFrame( cross_validate( pipe_rfc, X_train, y_train, cv = 5, scoring = cv_scoring_metrics, return_train_score = True)\n",
    "                     ).agg( [ 'mean', 'std']).T\n",
    "cv_gbc = pd.DataFrame( cross_validate( pipe_gbc, X_train, y_train, cv = 5, scoring = cv_scoring_metrics, return_train_score = True)\n",
    "                     ).agg( [ 'mean', 'std']).T\n",
    "cv_hgbc = pd.DataFrame( cross_validate( pipe_hgbc, X_train, y_train, cv = 5, scoring = cv_scoring_metrics, return_train_score = True)\n",
    "                      ).agg( [ 'mean', 'std']).T"
   ]
  },
  {
   "cell_type": "code",
   "execution_count": 29,
   "metadata": {},
   "outputs": [
    {
     "data": {
      "text/html": [
       "<div>\n",
       "<style scoped>\n",
       "    .dataframe tbody tr th:only-of-type {\n",
       "        vertical-align: middle;\n",
       "    }\n",
       "\n",
       "    .dataframe tbody tr th {\n",
       "        vertical-align: top;\n",
       "    }\n",
       "\n",
       "    .dataframe thead tr th {\n",
       "        text-align: left;\n",
       "    }\n",
       "</style>\n",
       "<table border=\"1\" class=\"dataframe\">\n",
       "  <thead>\n",
       "    <tr>\n",
       "      <th></th>\n",
       "      <th colspan=\"2\" halign=\"left\">dummy</th>\n",
       "      <th colspan=\"2\" halign=\"left\">lr</th>\n",
       "      <th colspan=\"2\" halign=\"left\">RFC</th>\n",
       "      <th colspan=\"2\" halign=\"left\">GBC</th>\n",
       "      <th colspan=\"2\" halign=\"left\">HGBC</th>\n",
       "    </tr>\n",
       "    <tr>\n",
       "      <th></th>\n",
       "      <th>mean</th>\n",
       "      <th>std</th>\n",
       "      <th>mean</th>\n",
       "      <th>std</th>\n",
       "      <th>mean</th>\n",
       "      <th>std</th>\n",
       "      <th>mean</th>\n",
       "      <th>std</th>\n",
       "      <th>mean</th>\n",
       "      <th>std</th>\n",
       "    </tr>\n",
       "  </thead>\n",
       "  <tbody>\n",
       "    <tr>\n",
       "      <th>fit_time</th>\n",
       "      <td>0.128210</td>\n",
       "      <td>0.012574</td>\n",
       "      <td>0.797798</td>\n",
       "      <td>0.098811</td>\n",
       "      <td>3.840801</td>\n",
       "      <td>0.342403</td>\n",
       "      <td>17.557475</td>\n",
       "      <td>0.460464</td>\n",
       "      <td>5.112908</td>\n",
       "      <td>0.258781</td>\n",
       "    </tr>\n",
       "    <tr>\n",
       "      <th>score_time</th>\n",
       "      <td>0.014603</td>\n",
       "      <td>0.002519</td>\n",
       "      <td>0.039601</td>\n",
       "      <td>0.005899</td>\n",
       "      <td>0.398196</td>\n",
       "      <td>0.029353</td>\n",
       "      <td>0.032385</td>\n",
       "      <td>0.009299</td>\n",
       "      <td>0.086402</td>\n",
       "      <td>0.050106</td>\n",
       "    </tr>\n",
       "    <tr>\n",
       "      <th>test_accuracy</th>\n",
       "      <td>0.784500</td>\n",
       "      <td>0.000456</td>\n",
       "      <td>0.763000</td>\n",
       "      <td>0.020938</td>\n",
       "      <td>0.817167</td>\n",
       "      <td>0.009906</td>\n",
       "      <td>0.811833</td>\n",
       "      <td>0.011538</td>\n",
       "      <td>0.818000</td>\n",
       "      <td>0.011205</td>\n",
       "    </tr>\n",
       "    <tr>\n",
       "      <th>train_accuracy</th>\n",
       "      <td>0.784500</td>\n",
       "      <td>0.000114</td>\n",
       "      <td>0.764458</td>\n",
       "      <td>0.005062</td>\n",
       "      <td>0.999708</td>\n",
       "      <td>0.000186</td>\n",
       "      <td>0.894917</td>\n",
       "      <td>0.002782</td>\n",
       "      <td>0.922042</td>\n",
       "      <td>0.004196</td>\n",
       "    </tr>\n",
       "    <tr>\n",
       "      <th>test_precision</th>\n",
       "      <td>0.000000</td>\n",
       "      <td>0.000000</td>\n",
       "      <td>0.464589</td>\n",
       "      <td>0.034360</td>\n",
       "      <td>0.660230</td>\n",
       "      <td>0.058110</td>\n",
       "      <td>0.613728</td>\n",
       "      <td>0.054328</td>\n",
       "      <td>0.640365</td>\n",
       "      <td>0.053795</td>\n",
       "    </tr>\n",
       "    <tr>\n",
       "      <th>train_precision</th>\n",
       "      <td>0.000000</td>\n",
       "      <td>0.000000</td>\n",
       "      <td>0.466728</td>\n",
       "      <td>0.008067</td>\n",
       "      <td>0.998649</td>\n",
       "      <td>0.000863</td>\n",
       "      <td>0.903279</td>\n",
       "      <td>0.009390</td>\n",
       "      <td>0.963254</td>\n",
       "      <td>0.005397</td>\n",
       "    </tr>\n",
       "    <tr>\n",
       "      <th>test_recall</th>\n",
       "      <td>0.000000</td>\n",
       "      <td>0.000000</td>\n",
       "      <td>0.641130</td>\n",
       "      <td>0.037803</td>\n",
       "      <td>0.317850</td>\n",
       "      <td>0.014157</td>\n",
       "      <td>0.348792</td>\n",
       "      <td>0.019427</td>\n",
       "      <td>0.358840</td>\n",
       "      <td>0.023310</td>\n",
       "    </tr>\n",
       "    <tr>\n",
       "      <th>train_recall</th>\n",
       "      <td>0.000000</td>\n",
       "      <td>0.000000</td>\n",
       "      <td>0.650810</td>\n",
       "      <td>0.009510</td>\n",
       "      <td>1.000000</td>\n",
       "      <td>0.000000</td>\n",
       "      <td>0.573860</td>\n",
       "      <td>0.011344</td>\n",
       "      <td>0.663574</td>\n",
       "      <td>0.019803</td>\n",
       "    </tr>\n",
       "    <tr>\n",
       "      <th>test_f1</th>\n",
       "      <td>0.000000</td>\n",
       "      <td>0.000000</td>\n",
       "      <td>0.538582</td>\n",
       "      <td>0.035006</td>\n",
       "      <td>0.428518</td>\n",
       "      <td>0.020043</td>\n",
       "      <td>0.444292</td>\n",
       "      <td>0.025790</td>\n",
       "      <td>0.459461</td>\n",
       "      <td>0.028651</td>\n",
       "    </tr>\n",
       "    <tr>\n",
       "      <th>train_f1</th>\n",
       "      <td>0.000000</td>\n",
       "      <td>0.000000</td>\n",
       "      <td>0.543577</td>\n",
       "      <td>0.007519</td>\n",
       "      <td>0.999324</td>\n",
       "      <td>0.000432</td>\n",
       "      <td>0.701779</td>\n",
       "      <td>0.009394</td>\n",
       "      <td>0.785673</td>\n",
       "      <td>0.014003</td>\n",
       "    </tr>\n",
       "  </tbody>\n",
       "</table>\n",
       "</div>"
      ],
      "text/plain": [
       "                    dummy                  lr                 RFC            \\\n",
       "                     mean       std      mean       std      mean       std   \n",
       "fit_time         0.128210  0.012574  0.797798  0.098811  3.840801  0.342403   \n",
       "score_time       0.014603  0.002519  0.039601  0.005899  0.398196  0.029353   \n",
       "test_accuracy    0.784500  0.000456  0.763000  0.020938  0.817167  0.009906   \n",
       "train_accuracy   0.784500  0.000114  0.764458  0.005062  0.999708  0.000186   \n",
       "test_precision   0.000000  0.000000  0.464589  0.034360  0.660230  0.058110   \n",
       "train_precision  0.000000  0.000000  0.466728  0.008067  0.998649  0.000863   \n",
       "test_recall      0.000000  0.000000  0.641130  0.037803  0.317850  0.014157   \n",
       "train_recall     0.000000  0.000000  0.650810  0.009510  1.000000  0.000000   \n",
       "test_f1          0.000000  0.000000  0.538582  0.035006  0.428518  0.020043   \n",
       "train_f1         0.000000  0.000000  0.543577  0.007519  0.999324  0.000432   \n",
       "\n",
       "                       GBC                HGBC            \n",
       "                      mean       std      mean       std  \n",
       "fit_time         17.557475  0.460464  5.112908  0.258781  \n",
       "score_time        0.032385  0.009299  0.086402  0.050106  \n",
       "test_accuracy     0.811833  0.011538  0.818000  0.011205  \n",
       "train_accuracy    0.894917  0.002782  0.922042  0.004196  \n",
       "test_precision    0.613728  0.054328  0.640365  0.053795  \n",
       "train_precision   0.903279  0.009390  0.963254  0.005397  \n",
       "test_recall       0.348792  0.019427  0.358840  0.023310  \n",
       "train_recall      0.573860  0.011344  0.663574  0.019803  \n",
       "test_f1           0.444292  0.025790  0.459461  0.028651  \n",
       "train_f1          0.701779  0.009394  0.785673  0.014003  "
      ]
     },
     "execution_count": 29,
     "metadata": {},
     "output_type": "execute_result"
    }
   ],
   "source": [
    "result_dict[ 'RFC'] = cv_rfc\n",
    "result_dict[ 'GBC'] = cv_gbc\n",
    "result_dict[ 'HGBC'] = cv_hgbc\n",
    "\n",
    "pd.concat( result_dict, axis = 1)"
   ]
  },
  {
   "cell_type": "markdown",
   "metadata": {},
   "source": [
    "<!-- END QUESTION -->\n",
    "\n",
    "<!-- BEGIN QUESTION -->\n",
    "\n",
    "<div class=\"alert alert-warning\">\n",
    "\n",
    "## 9. Feature selection (Challenging)\n",
    "rubric={reasoning}\n",
    "\n",
    "**Your tasks:**\n",
    "\n",
    "Make some attempts to select relevant features. You may try `RFECV`, forward selection or L1 regularization for this. Do the results improve with feature selection? Summarize your results. If you see improvements in the results, keep feature selection in your pipeline. If not, you may abandon it in the next exercises unless you think there are other benefits with using less features.\n",
    "    \n",
    "</div>\n",
    "\n",
    "_Points:_ 0.5"
   ]
  },
  {
   "cell_type": "markdown",
   "metadata": {},
   "source": [
    "_Type your answer here, replacing this text._"
   ]
  },
  {
   "cell_type": "raw",
   "metadata": {
    "tags": []
   },
   "source": [
    "..."
   ]
  },
  {
   "cell_type": "markdown",
   "metadata": {},
   "source": [
    "<!-- END QUESTION -->\n",
    "\n",
    "<!-- BEGIN QUESTION -->\n",
    "\n",
    "<div class=\"alert alert-info\">\n",
    "\n",
    "## 10. Hyperparameter optimization\n",
    "rubric={accuracy,reasoning}\n",
    "\n",
    "**Your tasks:**\n",
    "\n",
    "Make some attempts to optimize hyperparameters for the models you've tried and summarize your results. In at least one case you should be optimizing multiple hyperparameters for a single model. You may use `sklearn`'s methods for hyperparameter optimization or fancier Bayesian optimization methods. \n",
    "  - [GridSearchCV](http://scikit-learn.org/stable/modules/generated/sklearn.model_selection.GridSearchCV.html)   \n",
    "  - [RandomizedSearchCV](http://scikit-learn.org/stable/modules/generated/sklearn.model_selection.RandomizedSearchCV.html)\n",
    "  - [scikit-optimize](https://github.com/scikit-optimize/scikit-optimize) \n",
    "    \n",
    "</div>\n",
    "\n",
    "_Points:_ 6"
   ]
  },
  {
   "cell_type": "markdown",
   "metadata": {},
   "source": [
    "Overfitting is even more serious after hyperparameter optimization. Logistic regression is still the best model."
   ]
  },
  {
   "cell_type": "code",
   "execution_count": 30,
   "metadata": {
    "tags": []
   },
   "outputs": [],
   "source": [
    "param_dist_rfc = {\n",
    "    'randomforestclassifier__max_depth': [ 10*x for x in range( 1, 11)],\n",
    "    'randomforestclassifier__max_features': [ 'sqrt', 'log2'],\n",
    "    'randomforestclassifier__criterion': [ 'gini', 'entropy', 'log_loss'],\n",
    "    'randomforestclassifier__bootstrap': [ True, False]\n",
    "}\n",
    "\n",
    "param_dist_gbc = {\n",
    "    'gradientboostingclassifier__max_depth': [ 10*x for x in range( 1, 11)],\n",
    "    'gradientboostingclassifier__max_features': [ 'sqrt', 'log2'],\n",
    "    'gradientboostingclassifier__criterion': [ 'friedman_mse', 'squared_error']\n",
    "}\n",
    "\n",
    "param_dist_hgbc = {\n",
    "    'histgradientboostingclassifier__max_depth': [ 10*x for x in range( 1, 11)],\n",
    "    'histgradientboostingclassifier__learning_rate': np.linspace( 0.1, 1, 10)\n",
    "}\n",
    "\n",
    "search_rfc = RandomizedSearchCV(\n",
    "    pipe_rfc, param_dist_rfc, n_iter = 15, cv = 3, scoring = 'f1', n_jobs=-1, return_train_score = True, random_state = 69\n",
    ")\n",
    "\n",
    "search_gbc = RandomizedSearchCV(\n",
    "    pipe_gbc, param_dist_gbc, n_iter = 15, cv = 3, scoring = 'f1', n_jobs=-1, return_train_score = True, random_state = 69\n",
    ")\n",
    "\n",
    "search_hgbc = RandomizedSearchCV(\n",
    "    pipe_hgbc, param_dist_hgbc, n_iter = 15, cv = 3, scoring = 'f1', n_jobs=-1, return_train_score = True, random_state = 69\n",
    ")"
   ]
  },
  {
   "cell_type": "code",
   "execution_count": 31,
   "metadata": {},
   "outputs": [
    {
     "data": {
      "text/html": [
       "<style>#sk-container-id-2 {color: black;background-color: white;}#sk-container-id-2 pre{padding: 0;}#sk-container-id-2 div.sk-toggleable {background-color: white;}#sk-container-id-2 label.sk-toggleable__label {cursor: pointer;display: block;width: 100%;margin-bottom: 0;padding: 0.3em;box-sizing: border-box;text-align: center;}#sk-container-id-2 label.sk-toggleable__label-arrow:before {content: \"▸\";float: left;margin-right: 0.25em;color: #696969;}#sk-container-id-2 label.sk-toggleable__label-arrow:hover:before {color: black;}#sk-container-id-2 div.sk-estimator:hover label.sk-toggleable__label-arrow:before {color: black;}#sk-container-id-2 div.sk-toggleable__content {max-height: 0;max-width: 0;overflow: hidden;text-align: left;background-color: #f0f8ff;}#sk-container-id-2 div.sk-toggleable__content pre {margin: 0.2em;color: black;border-radius: 0.25em;background-color: #f0f8ff;}#sk-container-id-2 input.sk-toggleable__control:checked~div.sk-toggleable__content {max-height: 200px;max-width: 100%;overflow: auto;}#sk-container-id-2 input.sk-toggleable__control:checked~label.sk-toggleable__label-arrow:before {content: \"▾\";}#sk-container-id-2 div.sk-estimator input.sk-toggleable__control:checked~label.sk-toggleable__label {background-color: #d4ebff;}#sk-container-id-2 div.sk-label input.sk-toggleable__control:checked~label.sk-toggleable__label {background-color: #d4ebff;}#sk-container-id-2 input.sk-hidden--visually {border: 0;clip: rect(1px 1px 1px 1px);clip: rect(1px, 1px, 1px, 1px);height: 1px;margin: -1px;overflow: hidden;padding: 0;position: absolute;width: 1px;}#sk-container-id-2 div.sk-estimator {font-family: monospace;background-color: #f0f8ff;border: 1px dotted black;border-radius: 0.25em;box-sizing: border-box;margin-bottom: 0.5em;}#sk-container-id-2 div.sk-estimator:hover {background-color: #d4ebff;}#sk-container-id-2 div.sk-parallel-item::after {content: \"\";width: 100%;border-bottom: 1px solid gray;flex-grow: 1;}#sk-container-id-2 div.sk-label:hover label.sk-toggleable__label {background-color: #d4ebff;}#sk-container-id-2 div.sk-serial::before {content: \"\";position: absolute;border-left: 1px solid gray;box-sizing: border-box;top: 0;bottom: 0;left: 50%;z-index: 0;}#sk-container-id-2 div.sk-serial {display: flex;flex-direction: column;align-items: center;background-color: white;padding-right: 0.2em;padding-left: 0.2em;position: relative;}#sk-container-id-2 div.sk-item {position: relative;z-index: 1;}#sk-container-id-2 div.sk-parallel {display: flex;align-items: stretch;justify-content: center;background-color: white;position: relative;}#sk-container-id-2 div.sk-item::before, #sk-container-id-2 div.sk-parallel-item::before {content: \"\";position: absolute;border-left: 1px solid gray;box-sizing: border-box;top: 0;bottom: 0;left: 50%;z-index: -1;}#sk-container-id-2 div.sk-parallel-item {display: flex;flex-direction: column;z-index: 1;position: relative;background-color: white;}#sk-container-id-2 div.sk-parallel-item:first-child::after {align-self: flex-end;width: 50%;}#sk-container-id-2 div.sk-parallel-item:last-child::after {align-self: flex-start;width: 50%;}#sk-container-id-2 div.sk-parallel-item:only-child::after {width: 0;}#sk-container-id-2 div.sk-dashed-wrapped {border: 1px dashed gray;margin: 0 0.4em 0.5em 0.4em;box-sizing: border-box;padding-bottom: 0.4em;background-color: white;}#sk-container-id-2 div.sk-label label {font-family: monospace;font-weight: bold;display: inline-block;line-height: 1.2em;}#sk-container-id-2 div.sk-label-container {text-align: center;}#sk-container-id-2 div.sk-container {/* jupyter's `normalize.less` sets `[hidden] { display: none; }` but bootstrap.min.css set `[hidden] { display: none !important; }` so we also need the `!important` here to be able to override the default hidden behavior on the sphinx rendered scikit-learn.org. See: https://github.com/scikit-learn/scikit-learn/issues/21755 */display: inline-block !important;position: relative;}#sk-container-id-2 div.sk-text-repr-fallback {display: none;}</style><div id=\"sk-container-id-2\" class=\"sk-top-container\"><div class=\"sk-text-repr-fallback\"><pre>RandomizedSearchCV(cv=3,\n",
       "                   estimator=Pipeline(steps=[(&#x27;columntransformer&#x27;,\n",
       "                                              ColumnTransformer(transformers=[(&#x27;standardscaler&#x27;,\n",
       "                                                                               StandardScaler(),\n",
       "                                                                               [&#x27;AGE&#x27;]),\n",
       "                                                                              (&#x27;pipeline&#x27;,\n",
       "                                                                               Pipeline(steps=[(&#x27;powertransformer&#x27;,\n",
       "                                                                                                PowerTransformer()),\n",
       "                                                                                               (&#x27;standardscaler&#x27;,\n",
       "                                                                                                StandardScaler())]),\n",
       "                                                                               [&#x27;LIMIT_BAL&#x27;,\n",
       "                                                                                &#x27;PAY_AMT1&#x27;,\n",
       "                                                                                &#x27;PAY_AMT2&#x27;,\n",
       "                                                                                &#x27;PAY_AMT3&#x27;,\n",
       "                                                                                &#x27;PAY_AMT4&#x27;,\n",
       "                                                                                &#x27;PAY_AMT5&#x27;,\n",
       "                                                                                &#x27;PAY_AMT6&#x27;,\n",
       "                                                                                &#x27;BILL_AMT1&#x27;,\n",
       "                                                                                &#x27;BILL_...\n",
       "                                              HistGradientBoostingClassifier(categorical_features=[range(14, 68)],\n",
       "                                                                             random_state=69))]),\n",
       "                   n_iter=15, n_jobs=-1,\n",
       "                   param_distributions={&#x27;histgradientboostingclassifier__learning_rate&#x27;: array([0.1, 0.2, 0.3, 0.4, 0.5, 0.6, 0.7, 0.8, 0.9, 1. ]),\n",
       "                                        &#x27;histgradientboostingclassifier__max_depth&#x27;: [10,\n",
       "                                                                                      20,\n",
       "                                                                                      30,\n",
       "                                                                                      40,\n",
       "                                                                                      50,\n",
       "                                                                                      60,\n",
       "                                                                                      70,\n",
       "                                                                                      80,\n",
       "                                                                                      90,\n",
       "                                                                                      100]},\n",
       "                   random_state=69, return_train_score=True, scoring=&#x27;f1&#x27;)</pre><b>In a Jupyter environment, please rerun this cell to show the HTML representation or trust the notebook. <br />On GitHub, the HTML representation is unable to render, please try loading this page with nbviewer.org.</b></div><div class=\"sk-container\" hidden><div class=\"sk-item sk-dashed-wrapped\"><div class=\"sk-label-container\"><div class=\"sk-label sk-toggleable\"><input class=\"sk-toggleable__control sk-hidden--visually\" id=\"sk-estimator-id-11\" type=\"checkbox\" ><label for=\"sk-estimator-id-11\" class=\"sk-toggleable__label sk-toggleable__label-arrow\">RandomizedSearchCV</label><div class=\"sk-toggleable__content\"><pre>RandomizedSearchCV(cv=3,\n",
       "                   estimator=Pipeline(steps=[(&#x27;columntransformer&#x27;,\n",
       "                                              ColumnTransformer(transformers=[(&#x27;standardscaler&#x27;,\n",
       "                                                                               StandardScaler(),\n",
       "                                                                               [&#x27;AGE&#x27;]),\n",
       "                                                                              (&#x27;pipeline&#x27;,\n",
       "                                                                               Pipeline(steps=[(&#x27;powertransformer&#x27;,\n",
       "                                                                                                PowerTransformer()),\n",
       "                                                                                               (&#x27;standardscaler&#x27;,\n",
       "                                                                                                StandardScaler())]),\n",
       "                                                                               [&#x27;LIMIT_BAL&#x27;,\n",
       "                                                                                &#x27;PAY_AMT1&#x27;,\n",
       "                                                                                &#x27;PAY_AMT2&#x27;,\n",
       "                                                                                &#x27;PAY_AMT3&#x27;,\n",
       "                                                                                &#x27;PAY_AMT4&#x27;,\n",
       "                                                                                &#x27;PAY_AMT5&#x27;,\n",
       "                                                                                &#x27;PAY_AMT6&#x27;,\n",
       "                                                                                &#x27;BILL_AMT1&#x27;,\n",
       "                                                                                &#x27;BILL_...\n",
       "                                              HistGradientBoostingClassifier(categorical_features=[range(14, 68)],\n",
       "                                                                             random_state=69))]),\n",
       "                   n_iter=15, n_jobs=-1,\n",
       "                   param_distributions={&#x27;histgradientboostingclassifier__learning_rate&#x27;: array([0.1, 0.2, 0.3, 0.4, 0.5, 0.6, 0.7, 0.8, 0.9, 1. ]),\n",
       "                                        &#x27;histgradientboostingclassifier__max_depth&#x27;: [10,\n",
       "                                                                                      20,\n",
       "                                                                                      30,\n",
       "                                                                                      40,\n",
       "                                                                                      50,\n",
       "                                                                                      60,\n",
       "                                                                                      70,\n",
       "                                                                                      80,\n",
       "                                                                                      90,\n",
       "                                                                                      100]},\n",
       "                   random_state=69, return_train_score=True, scoring=&#x27;f1&#x27;)</pre></div></div></div><div class=\"sk-parallel\"><div class=\"sk-parallel-item\"><div class=\"sk-item\"><div class=\"sk-label-container\"><div class=\"sk-label sk-toggleable\"><input class=\"sk-toggleable__control sk-hidden--visually\" id=\"sk-estimator-id-12\" type=\"checkbox\" ><label for=\"sk-estimator-id-12\" class=\"sk-toggleable__label sk-toggleable__label-arrow\">estimator: Pipeline</label><div class=\"sk-toggleable__content\"><pre>Pipeline(steps=[(&#x27;columntransformer&#x27;,\n",
       "                 ColumnTransformer(transformers=[(&#x27;standardscaler&#x27;,\n",
       "                                                  StandardScaler(), [&#x27;AGE&#x27;]),\n",
       "                                                 (&#x27;pipeline&#x27;,\n",
       "                                                  Pipeline(steps=[(&#x27;powertransformer&#x27;,\n",
       "                                                                   PowerTransformer()),\n",
       "                                                                  (&#x27;standardscaler&#x27;,\n",
       "                                                                   StandardScaler())]),\n",
       "                                                  [&#x27;LIMIT_BAL&#x27;, &#x27;PAY_AMT1&#x27;,\n",
       "                                                   &#x27;PAY_AMT2&#x27;, &#x27;PAY_AMT3&#x27;,\n",
       "                                                   &#x27;PAY_AMT4&#x27;, &#x27;PAY_AMT5&#x27;,\n",
       "                                                   &#x27;PAY_AMT6&#x27;, &#x27;BILL_AMT1&#x27;,\n",
       "                                                   &#x27;BILL_AMT2&#x27;, &#x27;BILL_AMT3&#x27;,\n",
       "                                                   &#x27;BILL_AMT5&#x27;, &#x27;BILL_AMT5&#x27;,\n",
       "                                                   &#x27;BILL_AMT6&#x27;]),\n",
       "                                                 (&#x27;onehotencoder&#x27;,\n",
       "                                                  OneHotEncoder(handle_unknown=&#x27;ignore&#x27;,\n",
       "                                                                sparse=False),\n",
       "                                                  [&#x27;SEX&#x27;, &#x27;EDUCATION&#x27;,\n",
       "                                                   &#x27;MARRIAGE&#x27;, &#x27;PAY_1&#x27;, &#x27;PAY_2&#x27;,\n",
       "                                                   &#x27;PAY_3&#x27;, &#x27;PAY_4&#x27;, &#x27;PAY_5&#x27;,\n",
       "                                                   &#x27;PAY_6&#x27;]),\n",
       "                                                 (&#x27;drop&#x27;, &#x27;drop&#x27;, [&#x27;ID&#x27;])])),\n",
       "                (&#x27;histgradientboostingclassifier&#x27;,\n",
       "                 HistGradientBoostingClassifier(categorical_features=[range(14, 68)],\n",
       "                                                random_state=69))])</pre></div></div></div><div class=\"sk-serial\"><div class=\"sk-item\"><div class=\"sk-serial\"><div class=\"sk-item sk-dashed-wrapped\"><div class=\"sk-label-container\"><div class=\"sk-label sk-toggleable\"><input class=\"sk-toggleable__control sk-hidden--visually\" id=\"sk-estimator-id-13\" type=\"checkbox\" ><label for=\"sk-estimator-id-13\" class=\"sk-toggleable__label sk-toggleable__label-arrow\">columntransformer: ColumnTransformer</label><div class=\"sk-toggleable__content\"><pre>ColumnTransformer(transformers=[(&#x27;standardscaler&#x27;, StandardScaler(), [&#x27;AGE&#x27;]),\n",
       "                                (&#x27;pipeline&#x27;,\n",
       "                                 Pipeline(steps=[(&#x27;powertransformer&#x27;,\n",
       "                                                  PowerTransformer()),\n",
       "                                                 (&#x27;standardscaler&#x27;,\n",
       "                                                  StandardScaler())]),\n",
       "                                 [&#x27;LIMIT_BAL&#x27;, &#x27;PAY_AMT1&#x27;, &#x27;PAY_AMT2&#x27;,\n",
       "                                  &#x27;PAY_AMT3&#x27;, &#x27;PAY_AMT4&#x27;, &#x27;PAY_AMT5&#x27;,\n",
       "                                  &#x27;PAY_AMT6&#x27;, &#x27;BILL_AMT1&#x27;, &#x27;BILL_AMT2&#x27;,\n",
       "                                  &#x27;BILL_AMT3&#x27;, &#x27;BILL_AMT5&#x27;, &#x27;BILL_AMT5&#x27;,\n",
       "                                  &#x27;BILL_AMT6&#x27;]),\n",
       "                                (&#x27;onehotencoder&#x27;,\n",
       "                                 OneHotEncoder(handle_unknown=&#x27;ignore&#x27;,\n",
       "                                               sparse=False),\n",
       "                                 [&#x27;SEX&#x27;, &#x27;EDUCATION&#x27;, &#x27;MARRIAGE&#x27;, &#x27;PAY_1&#x27;,\n",
       "                                  &#x27;PAY_2&#x27;, &#x27;PAY_3&#x27;, &#x27;PAY_4&#x27;, &#x27;PAY_5&#x27;,\n",
       "                                  &#x27;PAY_6&#x27;]),\n",
       "                                (&#x27;drop&#x27;, &#x27;drop&#x27;, [&#x27;ID&#x27;])])</pre></div></div></div><div class=\"sk-parallel\"><div class=\"sk-parallel-item\"><div class=\"sk-item\"><div class=\"sk-label-container\"><div class=\"sk-label sk-toggleable\"><input class=\"sk-toggleable__control sk-hidden--visually\" id=\"sk-estimator-id-14\" type=\"checkbox\" ><label for=\"sk-estimator-id-14\" class=\"sk-toggleable__label sk-toggleable__label-arrow\">standardscaler</label><div class=\"sk-toggleable__content\"><pre>[&#x27;AGE&#x27;]</pre></div></div></div><div class=\"sk-serial\"><div class=\"sk-item\"><div class=\"sk-estimator sk-toggleable\"><input class=\"sk-toggleable__control sk-hidden--visually\" id=\"sk-estimator-id-15\" type=\"checkbox\" ><label for=\"sk-estimator-id-15\" class=\"sk-toggleable__label sk-toggleable__label-arrow\">StandardScaler</label><div class=\"sk-toggleable__content\"><pre>StandardScaler()</pre></div></div></div></div></div></div><div class=\"sk-parallel-item\"><div class=\"sk-item\"><div class=\"sk-label-container\"><div class=\"sk-label sk-toggleable\"><input class=\"sk-toggleable__control sk-hidden--visually\" id=\"sk-estimator-id-16\" type=\"checkbox\" ><label for=\"sk-estimator-id-16\" class=\"sk-toggleable__label sk-toggleable__label-arrow\">pipeline</label><div class=\"sk-toggleable__content\"><pre>[&#x27;LIMIT_BAL&#x27;, &#x27;PAY_AMT1&#x27;, &#x27;PAY_AMT2&#x27;, &#x27;PAY_AMT3&#x27;, &#x27;PAY_AMT4&#x27;, &#x27;PAY_AMT5&#x27;, &#x27;PAY_AMT6&#x27;, &#x27;BILL_AMT1&#x27;, &#x27;BILL_AMT2&#x27;, &#x27;BILL_AMT3&#x27;, &#x27;BILL_AMT5&#x27;, &#x27;BILL_AMT5&#x27;, &#x27;BILL_AMT6&#x27;]</pre></div></div></div><div class=\"sk-serial\"><div class=\"sk-item\"><div class=\"sk-serial\"><div class=\"sk-item\"><div class=\"sk-estimator sk-toggleable\"><input class=\"sk-toggleable__control sk-hidden--visually\" id=\"sk-estimator-id-17\" type=\"checkbox\" ><label for=\"sk-estimator-id-17\" class=\"sk-toggleable__label sk-toggleable__label-arrow\">PowerTransformer</label><div class=\"sk-toggleable__content\"><pre>PowerTransformer()</pre></div></div></div><div class=\"sk-item\"><div class=\"sk-estimator sk-toggleable\"><input class=\"sk-toggleable__control sk-hidden--visually\" id=\"sk-estimator-id-18\" type=\"checkbox\" ><label for=\"sk-estimator-id-18\" class=\"sk-toggleable__label sk-toggleable__label-arrow\">StandardScaler</label><div class=\"sk-toggleable__content\"><pre>StandardScaler()</pre></div></div></div></div></div></div></div></div><div class=\"sk-parallel-item\"><div class=\"sk-item\"><div class=\"sk-label-container\"><div class=\"sk-label sk-toggleable\"><input class=\"sk-toggleable__control sk-hidden--visually\" id=\"sk-estimator-id-19\" type=\"checkbox\" ><label for=\"sk-estimator-id-19\" class=\"sk-toggleable__label sk-toggleable__label-arrow\">onehotencoder</label><div class=\"sk-toggleable__content\"><pre>[&#x27;SEX&#x27;, &#x27;EDUCATION&#x27;, &#x27;MARRIAGE&#x27;, &#x27;PAY_1&#x27;, &#x27;PAY_2&#x27;, &#x27;PAY_3&#x27;, &#x27;PAY_4&#x27;, &#x27;PAY_5&#x27;, &#x27;PAY_6&#x27;]</pre></div></div></div><div class=\"sk-serial\"><div class=\"sk-item\"><div class=\"sk-estimator sk-toggleable\"><input class=\"sk-toggleable__control sk-hidden--visually\" id=\"sk-estimator-id-20\" type=\"checkbox\" ><label for=\"sk-estimator-id-20\" class=\"sk-toggleable__label sk-toggleable__label-arrow\">OneHotEncoder</label><div class=\"sk-toggleable__content\"><pre>OneHotEncoder(handle_unknown=&#x27;ignore&#x27;, sparse=False)</pre></div></div></div></div></div></div><div class=\"sk-parallel-item\"><div class=\"sk-item\"><div class=\"sk-label-container\"><div class=\"sk-label sk-toggleable\"><input class=\"sk-toggleable__control sk-hidden--visually\" id=\"sk-estimator-id-21\" type=\"checkbox\" ><label for=\"sk-estimator-id-21\" class=\"sk-toggleable__label sk-toggleable__label-arrow\">drop</label><div class=\"sk-toggleable__content\"><pre>[&#x27;ID&#x27;]</pre></div></div></div><div class=\"sk-serial\"><div class=\"sk-item\"><div class=\"sk-estimator sk-toggleable\"><input class=\"sk-toggleable__control sk-hidden--visually\" id=\"sk-estimator-id-22\" type=\"checkbox\" ><label for=\"sk-estimator-id-22\" class=\"sk-toggleable__label sk-toggleable__label-arrow\">drop</label><div class=\"sk-toggleable__content\"><pre>drop</pre></div></div></div></div></div></div></div></div><div class=\"sk-item\"><div class=\"sk-estimator sk-toggleable\"><input class=\"sk-toggleable__control sk-hidden--visually\" id=\"sk-estimator-id-23\" type=\"checkbox\" ><label for=\"sk-estimator-id-23\" class=\"sk-toggleable__label sk-toggleable__label-arrow\">HistGradientBoostingClassifier</label><div class=\"sk-toggleable__content\"><pre>HistGradientBoostingClassifier(categorical_features=[range(14, 68)],\n",
       "                               random_state=69)</pre></div></div></div></div></div></div></div></div></div></div></div></div>"
      ],
      "text/plain": [
       "RandomizedSearchCV(cv=3,\n",
       "                   estimator=Pipeline(steps=[('columntransformer',\n",
       "                                              ColumnTransformer(transformers=[('standardscaler',\n",
       "                                                                               StandardScaler(),\n",
       "                                                                               ['AGE']),\n",
       "                                                                              ('pipeline',\n",
       "                                                                               Pipeline(steps=[('powertransformer',\n",
       "                                                                                                PowerTransformer()),\n",
       "                                                                                               ('standardscaler',\n",
       "                                                                                                StandardScaler())]),\n",
       "                                                                               ['LIMIT_BAL',\n",
       "                                                                                'PAY_AMT1',\n",
       "                                                                                'PAY_AMT2',\n",
       "                                                                                'PAY_AMT3',\n",
       "                                                                                'PAY_AMT4',\n",
       "                                                                                'PAY_AMT5',\n",
       "                                                                                'PAY_AMT6',\n",
       "                                                                                'BILL_AMT1',\n",
       "                                                                                'BILL_...\n",
       "                                              HistGradientBoostingClassifier(categorical_features=[range(14, 68)],\n",
       "                                                                             random_state=69))]),\n",
       "                   n_iter=15, n_jobs=-1,\n",
       "                   param_distributions={'histgradientboostingclassifier__learning_rate': array([0.1, 0.2, 0.3, 0.4, 0.5, 0.6, 0.7, 0.8, 0.9, 1. ]),\n",
       "                                        'histgradientboostingclassifier__max_depth': [10,\n",
       "                                                                                      20,\n",
       "                                                                                      30,\n",
       "                                                                                      40,\n",
       "                                                                                      50,\n",
       "                                                                                      60,\n",
       "                                                                                      70,\n",
       "                                                                                      80,\n",
       "                                                                                      90,\n",
       "                                                                                      100]},\n",
       "                   random_state=69, return_train_score=True, scoring='f1')"
      ]
     },
     "execution_count": 31,
     "metadata": {},
     "output_type": "execute_result"
    }
   ],
   "source": [
    "search_rfc.fit( X_train, y_train)\n",
    "search_gbc.fit( X_train, y_train)\n",
    "search_hgbc.fit( X_train, y_train)"
   ]
  },
  {
   "cell_type": "code",
   "execution_count": 32,
   "metadata": {},
   "outputs": [],
   "source": [
    "best_params_rfc = search_rfc.best_params_\n",
    "best_params_gbc = search_gbc.best_params_\n",
    "best_params_hgbc = search_hgbc.best_params_"
   ]
  },
  {
   "cell_type": "code",
   "execution_count": 33,
   "metadata": {},
   "outputs": [
    {
     "data": {
      "text/plain": [
       "({'randomforestclassifier__max_features': 'sqrt',\n",
       "  'randomforestclassifier__max_depth': 10,\n",
       "  'randomforestclassifier__criterion': 'log_loss',\n",
       "  'randomforestclassifier__bootstrap': False},\n",
       " {'gradientboostingclassifier__max_features': 'sqrt',\n",
       "  'gradientboostingclassifier__max_depth': 80,\n",
       "  'gradientboostingclassifier__criterion': 'squared_error'},\n",
       " {'histgradientboostingclassifier__max_depth': 40,\n",
       "  'histgradientboostingclassifier__learning_rate': 0.2})"
      ]
     },
     "execution_count": 33,
     "metadata": {},
     "output_type": "execute_result"
    }
   ],
   "source": [
    "best_params_rfc, best_params_gbc, best_params_hgbc"
   ]
  },
  {
   "cell_type": "code",
   "execution_count": 34,
   "metadata": {},
   "outputs": [],
   "source": [
    "pipe_rfc_opt = make_pipeline( column_transformer, RandomForestClassifier(\n",
    "    n_estimators = 500, class_weight = 'balanced', \n",
    "    max_features = best_params_rfc[ 'randomforestclassifier__max_features'],\n",
    "    max_depth = best_params_rfc[ 'randomforestclassifier__max_depth'],\n",
    "    criterion = best_params_rfc[ 'randomforestclassifier__criterion'],\n",
    "    bootstrap =  best_params_rfc[ 'randomforestclassifier__bootstrap'],\n",
    "    n_jobs = -1, random_state = 69))\n",
    "\n",
    "pipe_gbc_opt = make_pipeline( column_transformer, GradientBoostingClassifier(\n",
    "    max_features = best_params_gbc[ 'gradientboostingclassifier__max_features'],\n",
    "    max_depth = best_params_gbc[ 'gradientboostingclassifier__max_depth'],\n",
    "    criterion = best_params_gbc[ 'gradientboostingclassifier__criterion'],\n",
    "    n_estimators = 500, random_state = 69))\n",
    "\n",
    "pipe_hgbc_opt = make_pipeline( column_transformer, HistGradientBoostingClassifier(\n",
    "    max_depth = best_params_hgbc[ 'histgradientboostingclassifier__max_depth'],\n",
    "    learning_rate = best_params_hgbc[ 'histgradientboostingclassifier__learning_rate'],\n",
    "    categorical_features = [ range( 14, 68)], random_state = 69))\n",
    "\n",
    "cv_rfc_opt = pd.DataFrame( cross_validate( pipe_rfc_opt, X_train, y_train, cv = 5, scoring = cv_scoring_metrics, return_train_score = True)\n",
    "                     ).agg( [ 'mean', 'std']).T\n",
    "cv_gbc_opt = pd.DataFrame( cross_validate( pipe_gbc_opt, X_train, y_train, cv = 5, scoring = cv_scoring_metrics, return_train_score = True)\n",
    "                     ).agg( [ 'mean', 'std']).T\n",
    "cv_hgbc_opt = pd.DataFrame( cross_validate( pipe_hgbc_opt, X_train, y_train, cv = 5, scoring = cv_scoring_metrics, return_train_score = True)\n",
    "                      ).agg( [ 'mean', 'std']).T"
   ]
  },
  {
   "cell_type": "code",
   "execution_count": 35,
   "metadata": {},
   "outputs": [
    {
     "data": {
      "text/html": [
       "<div>\n",
       "<style scoped>\n",
       "    .dataframe tbody tr th:only-of-type {\n",
       "        vertical-align: middle;\n",
       "    }\n",
       "\n",
       "    .dataframe tbody tr th {\n",
       "        vertical-align: top;\n",
       "    }\n",
       "\n",
       "    .dataframe thead tr th {\n",
       "        text-align: left;\n",
       "    }\n",
       "</style>\n",
       "<table border=\"1\" class=\"dataframe\">\n",
       "  <thead>\n",
       "    <tr>\n",
       "      <th></th>\n",
       "      <th colspan=\"2\" halign=\"left\">dummy</th>\n",
       "      <th colspan=\"2\" halign=\"left\">lr</th>\n",
       "      <th colspan=\"2\" halign=\"left\">RFC</th>\n",
       "      <th colspan=\"2\" halign=\"left\">GBC</th>\n",
       "      <th colspan=\"2\" halign=\"left\">HGBC</th>\n",
       "      <th colspan=\"2\" halign=\"left\">RFC_opt</th>\n",
       "      <th colspan=\"2\" halign=\"left\">GBC_opt</th>\n",
       "      <th colspan=\"2\" halign=\"left\">HGBC_opt</th>\n",
       "    </tr>\n",
       "    <tr>\n",
       "      <th></th>\n",
       "      <th>mean</th>\n",
       "      <th>std</th>\n",
       "      <th>mean</th>\n",
       "      <th>std</th>\n",
       "      <th>mean</th>\n",
       "      <th>std</th>\n",
       "      <th>mean</th>\n",
       "      <th>std</th>\n",
       "      <th>mean</th>\n",
       "      <th>std</th>\n",
       "      <th>mean</th>\n",
       "      <th>std</th>\n",
       "      <th>mean</th>\n",
       "      <th>std</th>\n",
       "      <th>mean</th>\n",
       "      <th>std</th>\n",
       "    </tr>\n",
       "  </thead>\n",
       "  <tbody>\n",
       "    <tr>\n",
       "      <th>fit_time</th>\n",
       "      <td>0.128210</td>\n",
       "      <td>0.012574</td>\n",
       "      <td>0.797798</td>\n",
       "      <td>0.098811</td>\n",
       "      <td>3.840801</td>\n",
       "      <td>0.342403</td>\n",
       "      <td>17.557475</td>\n",
       "      <td>0.460464</td>\n",
       "      <td>5.112908</td>\n",
       "      <td>0.258781</td>\n",
       "      <td>5.296311</td>\n",
       "      <td>0.729763</td>\n",
       "      <td>17.739929</td>\n",
       "      <td>1.983960</td>\n",
       "      <td>5.875998</td>\n",
       "      <td>0.486026</td>\n",
       "    </tr>\n",
       "    <tr>\n",
       "      <th>score_time</th>\n",
       "      <td>0.014603</td>\n",
       "      <td>0.002519</td>\n",
       "      <td>0.039601</td>\n",
       "      <td>0.005899</td>\n",
       "      <td>0.398196</td>\n",
       "      <td>0.029353</td>\n",
       "      <td>0.032385</td>\n",
       "      <td>0.009299</td>\n",
       "      <td>0.086402</td>\n",
       "      <td>0.050106</td>\n",
       "      <td>0.428793</td>\n",
       "      <td>0.044152</td>\n",
       "      <td>0.092786</td>\n",
       "      <td>0.014657</td>\n",
       "      <td>0.074799</td>\n",
       "      <td>0.008262</td>\n",
       "    </tr>\n",
       "    <tr>\n",
       "      <th>test_accuracy</th>\n",
       "      <td>0.784500</td>\n",
       "      <td>0.000456</td>\n",
       "      <td>0.763000</td>\n",
       "      <td>0.020938</td>\n",
       "      <td>0.817167</td>\n",
       "      <td>0.009906</td>\n",
       "      <td>0.811833</td>\n",
       "      <td>0.011538</td>\n",
       "      <td>0.818000</td>\n",
       "      <td>0.011205</td>\n",
       "      <td>0.788500</td>\n",
       "      <td>0.013685</td>\n",
       "      <td>0.814667</td>\n",
       "      <td>0.009585</td>\n",
       "      <td>0.811500</td>\n",
       "      <td>0.017484</td>\n",
       "    </tr>\n",
       "    <tr>\n",
       "      <th>train_accuracy</th>\n",
       "      <td>0.784500</td>\n",
       "      <td>0.000114</td>\n",
       "      <td>0.764458</td>\n",
       "      <td>0.005062</td>\n",
       "      <td>0.999708</td>\n",
       "      <td>0.000186</td>\n",
       "      <td>0.894917</td>\n",
       "      <td>0.002782</td>\n",
       "      <td>0.922042</td>\n",
       "      <td>0.004196</td>\n",
       "      <td>0.884708</td>\n",
       "      <td>0.005023</td>\n",
       "      <td>0.999708</td>\n",
       "      <td>0.000186</td>\n",
       "      <td>0.976250</td>\n",
       "      <td>0.002398</td>\n",
       "    </tr>\n",
       "    <tr>\n",
       "      <th>test_precision</th>\n",
       "      <td>0.000000</td>\n",
       "      <td>0.000000</td>\n",
       "      <td>0.464589</td>\n",
       "      <td>0.034360</td>\n",
       "      <td>0.660230</td>\n",
       "      <td>0.058110</td>\n",
       "      <td>0.613728</td>\n",
       "      <td>0.054328</td>\n",
       "      <td>0.640365</td>\n",
       "      <td>0.053795</td>\n",
       "      <td>0.509131</td>\n",
       "      <td>0.030038</td>\n",
       "      <td>0.627085</td>\n",
       "      <td>0.049407</td>\n",
       "      <td>0.606329</td>\n",
       "      <td>0.074996</td>\n",
       "    </tr>\n",
       "    <tr>\n",
       "      <th>train_precision</th>\n",
       "      <td>0.000000</td>\n",
       "      <td>0.000000</td>\n",
       "      <td>0.466728</td>\n",
       "      <td>0.008067</td>\n",
       "      <td>0.998649</td>\n",
       "      <td>0.000863</td>\n",
       "      <td>0.903279</td>\n",
       "      <td>0.009390</td>\n",
       "      <td>0.963254</td>\n",
       "      <td>0.005397</td>\n",
       "      <td>0.706841</td>\n",
       "      <td>0.012342</td>\n",
       "      <td>1.000000</td>\n",
       "      <td>0.000000</td>\n",
       "      <td>0.996334</td>\n",
       "      <td>0.000581</td>\n",
       "    </tr>\n",
       "    <tr>\n",
       "      <th>test_recall</th>\n",
       "      <td>0.000000</td>\n",
       "      <td>0.000000</td>\n",
       "      <td>0.641130</td>\n",
       "      <td>0.037803</td>\n",
       "      <td>0.317850</td>\n",
       "      <td>0.014157</td>\n",
       "      <td>0.348792</td>\n",
       "      <td>0.019427</td>\n",
       "      <td>0.358840</td>\n",
       "      <td>0.023310</td>\n",
       "      <td>0.543683</td>\n",
       "      <td>0.024763</td>\n",
       "      <td>0.352635</td>\n",
       "      <td>0.024396</td>\n",
       "      <td>0.367325</td>\n",
       "      <td>0.034875</td>\n",
       "    </tr>\n",
       "    <tr>\n",
       "      <th>train_recall</th>\n",
       "      <td>0.000000</td>\n",
       "      <td>0.000000</td>\n",
       "      <td>0.650810</td>\n",
       "      <td>0.009510</td>\n",
       "      <td>1.000000</td>\n",
       "      <td>0.000000</td>\n",
       "      <td>0.573860</td>\n",
       "      <td>0.011344</td>\n",
       "      <td>0.663574</td>\n",
       "      <td>0.019803</td>\n",
       "      <td>0.794856</td>\n",
       "      <td>0.011065</td>\n",
       "      <td>0.998647</td>\n",
       "      <td>0.000865</td>\n",
       "      <td>0.893080</td>\n",
       "      <td>0.011174</td>\n",
       "    </tr>\n",
       "    <tr>\n",
       "      <th>test_f1</th>\n",
       "      <td>0.000000</td>\n",
       "      <td>0.000000</td>\n",
       "      <td>0.538582</td>\n",
       "      <td>0.035006</td>\n",
       "      <td>0.428518</td>\n",
       "      <td>0.020043</td>\n",
       "      <td>0.444292</td>\n",
       "      <td>0.025790</td>\n",
       "      <td>0.459461</td>\n",
       "      <td>0.028651</td>\n",
       "      <td>0.525752</td>\n",
       "      <td>0.026793</td>\n",
       "      <td>0.450441</td>\n",
       "      <td>0.022946</td>\n",
       "      <td>0.456710</td>\n",
       "      <td>0.043761</td>\n",
       "    </tr>\n",
       "    <tr>\n",
       "      <th>train_f1</th>\n",
       "      <td>0.000000</td>\n",
       "      <td>0.000000</td>\n",
       "      <td>0.543577</td>\n",
       "      <td>0.007519</td>\n",
       "      <td>0.999324</td>\n",
       "      <td>0.000432</td>\n",
       "      <td>0.701779</td>\n",
       "      <td>0.009394</td>\n",
       "      <td>0.785673</td>\n",
       "      <td>0.014003</td>\n",
       "      <td>0.748225</td>\n",
       "      <td>0.010011</td>\n",
       "      <td>0.999323</td>\n",
       "      <td>0.000433</td>\n",
       "      <td>0.941856</td>\n",
       "      <td>0.006199</td>\n",
       "    </tr>\n",
       "  </tbody>\n",
       "</table>\n",
       "</div>"
      ],
      "text/plain": [
       "                    dummy                  lr                 RFC            \\\n",
       "                     mean       std      mean       std      mean       std   \n",
       "fit_time         0.128210  0.012574  0.797798  0.098811  3.840801  0.342403   \n",
       "score_time       0.014603  0.002519  0.039601  0.005899  0.398196  0.029353   \n",
       "test_accuracy    0.784500  0.000456  0.763000  0.020938  0.817167  0.009906   \n",
       "train_accuracy   0.784500  0.000114  0.764458  0.005062  0.999708  0.000186   \n",
       "test_precision   0.000000  0.000000  0.464589  0.034360  0.660230  0.058110   \n",
       "train_precision  0.000000  0.000000  0.466728  0.008067  0.998649  0.000863   \n",
       "test_recall      0.000000  0.000000  0.641130  0.037803  0.317850  0.014157   \n",
       "train_recall     0.000000  0.000000  0.650810  0.009510  1.000000  0.000000   \n",
       "test_f1          0.000000  0.000000  0.538582  0.035006  0.428518  0.020043   \n",
       "train_f1         0.000000  0.000000  0.543577  0.007519  0.999324  0.000432   \n",
       "\n",
       "                       GBC                HGBC             RFC_opt            \\\n",
       "                      mean       std      mean       std      mean       std   \n",
       "fit_time         17.557475  0.460464  5.112908  0.258781  5.296311  0.729763   \n",
       "score_time        0.032385  0.009299  0.086402  0.050106  0.428793  0.044152   \n",
       "test_accuracy     0.811833  0.011538  0.818000  0.011205  0.788500  0.013685   \n",
       "train_accuracy    0.894917  0.002782  0.922042  0.004196  0.884708  0.005023   \n",
       "test_precision    0.613728  0.054328  0.640365  0.053795  0.509131  0.030038   \n",
       "train_precision   0.903279  0.009390  0.963254  0.005397  0.706841  0.012342   \n",
       "test_recall       0.348792  0.019427  0.358840  0.023310  0.543683  0.024763   \n",
       "train_recall      0.573860  0.011344  0.663574  0.019803  0.794856  0.011065   \n",
       "test_f1           0.444292  0.025790  0.459461  0.028651  0.525752  0.026793   \n",
       "train_f1          0.701779  0.009394  0.785673  0.014003  0.748225  0.010011   \n",
       "\n",
       "                   GBC_opt            HGBC_opt            \n",
       "                      mean       std      mean       std  \n",
       "fit_time         17.739929  1.983960  5.875998  0.486026  \n",
       "score_time        0.092786  0.014657  0.074799  0.008262  \n",
       "test_accuracy     0.814667  0.009585  0.811500  0.017484  \n",
       "train_accuracy    0.999708  0.000186  0.976250  0.002398  \n",
       "test_precision    0.627085  0.049407  0.606329  0.074996  \n",
       "train_precision   1.000000  0.000000  0.996334  0.000581  \n",
       "test_recall       0.352635  0.024396  0.367325  0.034875  \n",
       "train_recall      0.998647  0.000865  0.893080  0.011174  \n",
       "test_f1           0.450441  0.022946  0.456710  0.043761  \n",
       "train_f1          0.999323  0.000433  0.941856  0.006199  "
      ]
     },
     "execution_count": 35,
     "metadata": {},
     "output_type": "execute_result"
    }
   ],
   "source": [
    "result_dict[ 'RFC_opt'] = cv_rfc_opt\n",
    "result_dict[ 'GBC_opt'] = cv_gbc_opt\n",
    "result_dict[ 'HGBC_opt'] = cv_hgbc_opt\n",
    "\n",
    "pd.concat( result_dict, axis = 1)"
   ]
  },
  {
   "cell_type": "code",
   "execution_count": 36,
   "metadata": {},
   "outputs": [
    {
     "data": {
      "text/html": [
       "<div>\n",
       "<style scoped>\n",
       "    .dataframe tbody tr th:only-of-type {\n",
       "        vertical-align: middle;\n",
       "    }\n",
       "\n",
       "    .dataframe tbody tr th {\n",
       "        vertical-align: top;\n",
       "    }\n",
       "\n",
       "    .dataframe thead tr th {\n",
       "        text-align: left;\n",
       "    }\n",
       "</style>\n",
       "<table border=\"1\" class=\"dataframe\">\n",
       "  <thead>\n",
       "    <tr>\n",
       "      <th></th>\n",
       "      <th colspan=\"2\" halign=\"left\">LogReg</th>\n",
       "      <th colspan=\"2\" halign=\"left\">RFC_opt</th>\n",
       "      <th colspan=\"2\" halign=\"left\">GBC_opt</th>\n",
       "      <th colspan=\"2\" halign=\"left\">HGBC_opt</th>\n",
       "    </tr>\n",
       "    <tr>\n",
       "      <th></th>\n",
       "      <th>mean</th>\n",
       "      <th>std</th>\n",
       "      <th>mean</th>\n",
       "      <th>std</th>\n",
       "      <th>mean</th>\n",
       "      <th>std</th>\n",
       "      <th>mean</th>\n",
       "      <th>std</th>\n",
       "    </tr>\n",
       "  </thead>\n",
       "  <tbody>\n",
       "    <tr>\n",
       "      <th>fit_time</th>\n",
       "      <td>0.797798</td>\n",
       "      <td>0.098811</td>\n",
       "      <td>5.296311</td>\n",
       "      <td>0.729763</td>\n",
       "      <td>17.739929</td>\n",
       "      <td>1.983960</td>\n",
       "      <td>5.875998</td>\n",
       "      <td>0.486026</td>\n",
       "    </tr>\n",
       "    <tr>\n",
       "      <th>score_time</th>\n",
       "      <td>0.039601</td>\n",
       "      <td>0.005899</td>\n",
       "      <td>0.428793</td>\n",
       "      <td>0.044152</td>\n",
       "      <td>0.092786</td>\n",
       "      <td>0.014657</td>\n",
       "      <td>0.074799</td>\n",
       "      <td>0.008262</td>\n",
       "    </tr>\n",
       "    <tr>\n",
       "      <th>test_accuracy</th>\n",
       "      <td>0.763000</td>\n",
       "      <td>0.020938</td>\n",
       "      <td>0.788500</td>\n",
       "      <td>0.013685</td>\n",
       "      <td>0.814667</td>\n",
       "      <td>0.009585</td>\n",
       "      <td>0.811500</td>\n",
       "      <td>0.017484</td>\n",
       "    </tr>\n",
       "    <tr>\n",
       "      <th>train_accuracy</th>\n",
       "      <td>0.764458</td>\n",
       "      <td>0.005062</td>\n",
       "      <td>0.884708</td>\n",
       "      <td>0.005023</td>\n",
       "      <td>0.999708</td>\n",
       "      <td>0.000186</td>\n",
       "      <td>0.976250</td>\n",
       "      <td>0.002398</td>\n",
       "    </tr>\n",
       "    <tr>\n",
       "      <th>test_precision</th>\n",
       "      <td>0.464589</td>\n",
       "      <td>0.034360</td>\n",
       "      <td>0.509131</td>\n",
       "      <td>0.030038</td>\n",
       "      <td>0.627085</td>\n",
       "      <td>0.049407</td>\n",
       "      <td>0.606329</td>\n",
       "      <td>0.074996</td>\n",
       "    </tr>\n",
       "    <tr>\n",
       "      <th>train_precision</th>\n",
       "      <td>0.466728</td>\n",
       "      <td>0.008067</td>\n",
       "      <td>0.706841</td>\n",
       "      <td>0.012342</td>\n",
       "      <td>1.000000</td>\n",
       "      <td>0.000000</td>\n",
       "      <td>0.996334</td>\n",
       "      <td>0.000581</td>\n",
       "    </tr>\n",
       "    <tr>\n",
       "      <th>test_recall</th>\n",
       "      <td>0.641130</td>\n",
       "      <td>0.037803</td>\n",
       "      <td>0.543683</td>\n",
       "      <td>0.024763</td>\n",
       "      <td>0.352635</td>\n",
       "      <td>0.024396</td>\n",
       "      <td>0.367325</td>\n",
       "      <td>0.034875</td>\n",
       "    </tr>\n",
       "    <tr>\n",
       "      <th>train_recall</th>\n",
       "      <td>0.650810</td>\n",
       "      <td>0.009510</td>\n",
       "      <td>0.794856</td>\n",
       "      <td>0.011065</td>\n",
       "      <td>0.998647</td>\n",
       "      <td>0.000865</td>\n",
       "      <td>0.893080</td>\n",
       "      <td>0.011174</td>\n",
       "    </tr>\n",
       "    <tr>\n",
       "      <th>test_f1</th>\n",
       "      <td>0.538582</td>\n",
       "      <td>0.035006</td>\n",
       "      <td>0.525752</td>\n",
       "      <td>0.026793</td>\n",
       "      <td>0.450441</td>\n",
       "      <td>0.022946</td>\n",
       "      <td>0.456710</td>\n",
       "      <td>0.043761</td>\n",
       "    </tr>\n",
       "    <tr>\n",
       "      <th>train_f1</th>\n",
       "      <td>0.543577</td>\n",
       "      <td>0.007519</td>\n",
       "      <td>0.748225</td>\n",
       "      <td>0.010011</td>\n",
       "      <td>0.999323</td>\n",
       "      <td>0.000433</td>\n",
       "      <td>0.941856</td>\n",
       "      <td>0.006199</td>\n",
       "    </tr>\n",
       "  </tbody>\n",
       "</table>\n",
       "</div>"
      ],
      "text/plain": [
       "                   LogReg             RFC_opt              GBC_opt            \\\n",
       "                     mean       std      mean       std       mean       std   \n",
       "fit_time         0.797798  0.098811  5.296311  0.729763  17.739929  1.983960   \n",
       "score_time       0.039601  0.005899  0.428793  0.044152   0.092786  0.014657   \n",
       "test_accuracy    0.763000  0.020938  0.788500  0.013685   0.814667  0.009585   \n",
       "train_accuracy   0.764458  0.005062  0.884708  0.005023   0.999708  0.000186   \n",
       "test_precision   0.464589  0.034360  0.509131  0.030038   0.627085  0.049407   \n",
       "train_precision  0.466728  0.008067  0.706841  0.012342   1.000000  0.000000   \n",
       "test_recall      0.641130  0.037803  0.543683  0.024763   0.352635  0.024396   \n",
       "train_recall     0.650810  0.009510  0.794856  0.011065   0.998647  0.000865   \n",
       "test_f1          0.538582  0.035006  0.525752  0.026793   0.450441  0.022946   \n",
       "train_f1         0.543577  0.007519  0.748225  0.010011   0.999323  0.000433   \n",
       "\n",
       "                 HGBC_opt            \n",
       "                     mean       std  \n",
       "fit_time         5.875998  0.486026  \n",
       "score_time       0.074799  0.008262  \n",
       "test_accuracy    0.811500  0.017484  \n",
       "train_accuracy   0.976250  0.002398  \n",
       "test_precision   0.606329  0.074996  \n",
       "train_precision  0.996334  0.000581  \n",
       "test_recall      0.367325  0.034875  \n",
       "train_recall     0.893080  0.011174  \n",
       "test_f1          0.456710  0.043761  \n",
       "train_f1         0.941856  0.006199  "
      ]
     },
     "execution_count": 36,
     "metadata": {},
     "output_type": "execute_result"
    }
   ],
   "source": [
    "result_dict_opt = {\n",
    "    'LogReg': pd.DataFrame( result).agg( [ 'mean', 'std']).T,\n",
    "    'RFC_opt': cv_rfc_opt,\n",
    "    'GBC_opt': cv_gbc_opt,\n",
    "    'HGBC_opt': cv_hgbc_opt}\n",
    "pd.concat( result_dict_opt, axis = 1)"
   ]
  },
  {
   "cell_type": "markdown",
   "metadata": {},
   "source": [
    "<!-- END QUESTION -->\n",
    "\n",
    "<!-- BEGIN QUESTION -->\n",
    "\n",
    "<div class=\"alert alert-info\">\n",
    "\n",
    "## 11. Interpretation and feature importances <a name=\"1\"></a>\n",
    "rubric={accuracy,reasoning}\n",
    "\n",
    "**Your tasks:**\n",
    "\n",
    "1. Use the methods we saw in class (e.g., `eli5`, `shap`) (or any other methods of your choice) to examine the most important features of one of the non-linear models. \n",
    "2. Summarize your observations. \n",
    "    \n",
    "</div>\n",
    "\n",
    "_Points:_ 8"
   ]
  },
  {
   "cell_type": "markdown",
   "metadata": {},
   "source": [
    "_Type your answer here, replacing this text._"
   ]
  },
  {
   "cell_type": "code",
   "execution_count": 37,
   "metadata": {},
   "outputs": [
    {
     "data": {
      "text/html": [
       "<style>#sk-container-id-3 {color: black;background-color: white;}#sk-container-id-3 pre{padding: 0;}#sk-container-id-3 div.sk-toggleable {background-color: white;}#sk-container-id-3 label.sk-toggleable__label {cursor: pointer;display: block;width: 100%;margin-bottom: 0;padding: 0.3em;box-sizing: border-box;text-align: center;}#sk-container-id-3 label.sk-toggleable__label-arrow:before {content: \"▸\";float: left;margin-right: 0.25em;color: #696969;}#sk-container-id-3 label.sk-toggleable__label-arrow:hover:before {color: black;}#sk-container-id-3 div.sk-estimator:hover label.sk-toggleable__label-arrow:before {color: black;}#sk-container-id-3 div.sk-toggleable__content {max-height: 0;max-width: 0;overflow: hidden;text-align: left;background-color: #f0f8ff;}#sk-container-id-3 div.sk-toggleable__content pre {margin: 0.2em;color: black;border-radius: 0.25em;background-color: #f0f8ff;}#sk-container-id-3 input.sk-toggleable__control:checked~div.sk-toggleable__content {max-height: 200px;max-width: 100%;overflow: auto;}#sk-container-id-3 input.sk-toggleable__control:checked~label.sk-toggleable__label-arrow:before {content: \"▾\";}#sk-container-id-3 div.sk-estimator input.sk-toggleable__control:checked~label.sk-toggleable__label {background-color: #d4ebff;}#sk-container-id-3 div.sk-label input.sk-toggleable__control:checked~label.sk-toggleable__label {background-color: #d4ebff;}#sk-container-id-3 input.sk-hidden--visually {border: 0;clip: rect(1px 1px 1px 1px);clip: rect(1px, 1px, 1px, 1px);height: 1px;margin: -1px;overflow: hidden;padding: 0;position: absolute;width: 1px;}#sk-container-id-3 div.sk-estimator {font-family: monospace;background-color: #f0f8ff;border: 1px dotted black;border-radius: 0.25em;box-sizing: border-box;margin-bottom: 0.5em;}#sk-container-id-3 div.sk-estimator:hover {background-color: #d4ebff;}#sk-container-id-3 div.sk-parallel-item::after {content: \"\";width: 100%;border-bottom: 1px solid gray;flex-grow: 1;}#sk-container-id-3 div.sk-label:hover label.sk-toggleable__label {background-color: #d4ebff;}#sk-container-id-3 div.sk-serial::before {content: \"\";position: absolute;border-left: 1px solid gray;box-sizing: border-box;top: 0;bottom: 0;left: 50%;z-index: 0;}#sk-container-id-3 div.sk-serial {display: flex;flex-direction: column;align-items: center;background-color: white;padding-right: 0.2em;padding-left: 0.2em;position: relative;}#sk-container-id-3 div.sk-item {position: relative;z-index: 1;}#sk-container-id-3 div.sk-parallel {display: flex;align-items: stretch;justify-content: center;background-color: white;position: relative;}#sk-container-id-3 div.sk-item::before, #sk-container-id-3 div.sk-parallel-item::before {content: \"\";position: absolute;border-left: 1px solid gray;box-sizing: border-box;top: 0;bottom: 0;left: 50%;z-index: -1;}#sk-container-id-3 div.sk-parallel-item {display: flex;flex-direction: column;z-index: 1;position: relative;background-color: white;}#sk-container-id-3 div.sk-parallel-item:first-child::after {align-self: flex-end;width: 50%;}#sk-container-id-3 div.sk-parallel-item:last-child::after {align-self: flex-start;width: 50%;}#sk-container-id-3 div.sk-parallel-item:only-child::after {width: 0;}#sk-container-id-3 div.sk-dashed-wrapped {border: 1px dashed gray;margin: 0 0.4em 0.5em 0.4em;box-sizing: border-box;padding-bottom: 0.4em;background-color: white;}#sk-container-id-3 div.sk-label label {font-family: monospace;font-weight: bold;display: inline-block;line-height: 1.2em;}#sk-container-id-3 div.sk-label-container {text-align: center;}#sk-container-id-3 div.sk-container {/* jupyter's `normalize.less` sets `[hidden] { display: none; }` but bootstrap.min.css set `[hidden] { display: none !important; }` so we also need the `!important` here to be able to override the default hidden behavior on the sphinx rendered scikit-learn.org. See: https://github.com/scikit-learn/scikit-learn/issues/21755 */display: inline-block !important;position: relative;}#sk-container-id-3 div.sk-text-repr-fallback {display: none;}</style><div id=\"sk-container-id-3\" class=\"sk-top-container\"><div class=\"sk-text-repr-fallback\"><pre>Pipeline(steps=[(&#x27;columntransformer&#x27;,\n",
       "                 ColumnTransformer(transformers=[(&#x27;standardscaler&#x27;,\n",
       "                                                  StandardScaler(), [&#x27;AGE&#x27;]),\n",
       "                                                 (&#x27;pipeline&#x27;,\n",
       "                                                  Pipeline(steps=[(&#x27;powertransformer&#x27;,\n",
       "                                                                   PowerTransformer()),\n",
       "                                                                  (&#x27;standardscaler&#x27;,\n",
       "                                                                   StandardScaler())]),\n",
       "                                                  [&#x27;LIMIT_BAL&#x27;, &#x27;PAY_AMT1&#x27;,\n",
       "                                                   &#x27;PAY_AMT2&#x27;, &#x27;PAY_AMT3&#x27;,\n",
       "                                                   &#x27;PAY_AMT4&#x27;, &#x27;PAY_AMT5&#x27;,\n",
       "                                                   &#x27;PAY_AMT6&#x27;, &#x27;BILL_AMT1&#x27;,\n",
       "                                                   &#x27;BILL_AMT2&#x27;, &#x27;BILL_AMT3&#x27;,\n",
       "                                                   &#x27;BILL_AMT5&#x27;, &#x27;BIL...\n",
       "                                                   &#x27;BILL_AMT6&#x27;]),\n",
       "                                                 (&#x27;onehotencoder&#x27;,\n",
       "                                                  OneHotEncoder(handle_unknown=&#x27;ignore&#x27;,\n",
       "                                                                sparse=False),\n",
       "                                                  [&#x27;SEX&#x27;, &#x27;EDUCATION&#x27;,\n",
       "                                                   &#x27;MARRIAGE&#x27;, &#x27;PAY_1&#x27;, &#x27;PAY_2&#x27;,\n",
       "                                                   &#x27;PAY_3&#x27;, &#x27;PAY_4&#x27;, &#x27;PAY_5&#x27;,\n",
       "                                                   &#x27;PAY_6&#x27;]),\n",
       "                                                 (&#x27;drop&#x27;, &#x27;drop&#x27;, [&#x27;ID&#x27;])])),\n",
       "                (&#x27;randomforestclassifier&#x27;,\n",
       "                 RandomForestClassifier(bootstrap=False,\n",
       "                                        class_weight=&#x27;balanced&#x27;,\n",
       "                                        criterion=&#x27;log_loss&#x27;, max_depth=10,\n",
       "                                        n_estimators=500, n_jobs=-1,\n",
       "                                        random_state=69))])</pre><b>In a Jupyter environment, please rerun this cell to show the HTML representation or trust the notebook. <br />On GitHub, the HTML representation is unable to render, please try loading this page with nbviewer.org.</b></div><div class=\"sk-container\" hidden><div class=\"sk-item sk-dashed-wrapped\"><div class=\"sk-label-container\"><div class=\"sk-label sk-toggleable\"><input class=\"sk-toggleable__control sk-hidden--visually\" id=\"sk-estimator-id-24\" type=\"checkbox\" ><label for=\"sk-estimator-id-24\" class=\"sk-toggleable__label sk-toggleable__label-arrow\">Pipeline</label><div class=\"sk-toggleable__content\"><pre>Pipeline(steps=[(&#x27;columntransformer&#x27;,\n",
       "                 ColumnTransformer(transformers=[(&#x27;standardscaler&#x27;,\n",
       "                                                  StandardScaler(), [&#x27;AGE&#x27;]),\n",
       "                                                 (&#x27;pipeline&#x27;,\n",
       "                                                  Pipeline(steps=[(&#x27;powertransformer&#x27;,\n",
       "                                                                   PowerTransformer()),\n",
       "                                                                  (&#x27;standardscaler&#x27;,\n",
       "                                                                   StandardScaler())]),\n",
       "                                                  [&#x27;LIMIT_BAL&#x27;, &#x27;PAY_AMT1&#x27;,\n",
       "                                                   &#x27;PAY_AMT2&#x27;, &#x27;PAY_AMT3&#x27;,\n",
       "                                                   &#x27;PAY_AMT4&#x27;, &#x27;PAY_AMT5&#x27;,\n",
       "                                                   &#x27;PAY_AMT6&#x27;, &#x27;BILL_AMT1&#x27;,\n",
       "                                                   &#x27;BILL_AMT2&#x27;, &#x27;BILL_AMT3&#x27;,\n",
       "                                                   &#x27;BILL_AMT5&#x27;, &#x27;BIL...\n",
       "                                                   &#x27;BILL_AMT6&#x27;]),\n",
       "                                                 (&#x27;onehotencoder&#x27;,\n",
       "                                                  OneHotEncoder(handle_unknown=&#x27;ignore&#x27;,\n",
       "                                                                sparse=False),\n",
       "                                                  [&#x27;SEX&#x27;, &#x27;EDUCATION&#x27;,\n",
       "                                                   &#x27;MARRIAGE&#x27;, &#x27;PAY_1&#x27;, &#x27;PAY_2&#x27;,\n",
       "                                                   &#x27;PAY_3&#x27;, &#x27;PAY_4&#x27;, &#x27;PAY_5&#x27;,\n",
       "                                                   &#x27;PAY_6&#x27;]),\n",
       "                                                 (&#x27;drop&#x27;, &#x27;drop&#x27;, [&#x27;ID&#x27;])])),\n",
       "                (&#x27;randomforestclassifier&#x27;,\n",
       "                 RandomForestClassifier(bootstrap=False,\n",
       "                                        class_weight=&#x27;balanced&#x27;,\n",
       "                                        criterion=&#x27;log_loss&#x27;, max_depth=10,\n",
       "                                        n_estimators=500, n_jobs=-1,\n",
       "                                        random_state=69))])</pre></div></div></div><div class=\"sk-serial\"><div class=\"sk-item sk-dashed-wrapped\"><div class=\"sk-label-container\"><div class=\"sk-label sk-toggleable\"><input class=\"sk-toggleable__control sk-hidden--visually\" id=\"sk-estimator-id-25\" type=\"checkbox\" ><label for=\"sk-estimator-id-25\" class=\"sk-toggleable__label sk-toggleable__label-arrow\">columntransformer: ColumnTransformer</label><div class=\"sk-toggleable__content\"><pre>ColumnTransformer(transformers=[(&#x27;standardscaler&#x27;, StandardScaler(), [&#x27;AGE&#x27;]),\n",
       "                                (&#x27;pipeline&#x27;,\n",
       "                                 Pipeline(steps=[(&#x27;powertransformer&#x27;,\n",
       "                                                  PowerTransformer()),\n",
       "                                                 (&#x27;standardscaler&#x27;,\n",
       "                                                  StandardScaler())]),\n",
       "                                 [&#x27;LIMIT_BAL&#x27;, &#x27;PAY_AMT1&#x27;, &#x27;PAY_AMT2&#x27;,\n",
       "                                  &#x27;PAY_AMT3&#x27;, &#x27;PAY_AMT4&#x27;, &#x27;PAY_AMT5&#x27;,\n",
       "                                  &#x27;PAY_AMT6&#x27;, &#x27;BILL_AMT1&#x27;, &#x27;BILL_AMT2&#x27;,\n",
       "                                  &#x27;BILL_AMT3&#x27;, &#x27;BILL_AMT5&#x27;, &#x27;BILL_AMT5&#x27;,\n",
       "                                  &#x27;BILL_AMT6&#x27;]),\n",
       "                                (&#x27;onehotencoder&#x27;,\n",
       "                                 OneHotEncoder(handle_unknown=&#x27;ignore&#x27;,\n",
       "                                               sparse=False),\n",
       "                                 [&#x27;SEX&#x27;, &#x27;EDUCATION&#x27;, &#x27;MARRIAGE&#x27;, &#x27;PAY_1&#x27;,\n",
       "                                  &#x27;PAY_2&#x27;, &#x27;PAY_3&#x27;, &#x27;PAY_4&#x27;, &#x27;PAY_5&#x27;,\n",
       "                                  &#x27;PAY_6&#x27;]),\n",
       "                                (&#x27;drop&#x27;, &#x27;drop&#x27;, [&#x27;ID&#x27;])])</pre></div></div></div><div class=\"sk-parallel\"><div class=\"sk-parallel-item\"><div class=\"sk-item\"><div class=\"sk-label-container\"><div class=\"sk-label sk-toggleable\"><input class=\"sk-toggleable__control sk-hidden--visually\" id=\"sk-estimator-id-26\" type=\"checkbox\" ><label for=\"sk-estimator-id-26\" class=\"sk-toggleable__label sk-toggleable__label-arrow\">standardscaler</label><div class=\"sk-toggleable__content\"><pre>[&#x27;AGE&#x27;]</pre></div></div></div><div class=\"sk-serial\"><div class=\"sk-item\"><div class=\"sk-estimator sk-toggleable\"><input class=\"sk-toggleable__control sk-hidden--visually\" id=\"sk-estimator-id-27\" type=\"checkbox\" ><label for=\"sk-estimator-id-27\" class=\"sk-toggleable__label sk-toggleable__label-arrow\">StandardScaler</label><div class=\"sk-toggleable__content\"><pre>StandardScaler()</pre></div></div></div></div></div></div><div class=\"sk-parallel-item\"><div class=\"sk-item\"><div class=\"sk-label-container\"><div class=\"sk-label sk-toggleable\"><input class=\"sk-toggleable__control sk-hidden--visually\" id=\"sk-estimator-id-28\" type=\"checkbox\" ><label for=\"sk-estimator-id-28\" class=\"sk-toggleable__label sk-toggleable__label-arrow\">pipeline</label><div class=\"sk-toggleable__content\"><pre>[&#x27;LIMIT_BAL&#x27;, &#x27;PAY_AMT1&#x27;, &#x27;PAY_AMT2&#x27;, &#x27;PAY_AMT3&#x27;, &#x27;PAY_AMT4&#x27;, &#x27;PAY_AMT5&#x27;, &#x27;PAY_AMT6&#x27;, &#x27;BILL_AMT1&#x27;, &#x27;BILL_AMT2&#x27;, &#x27;BILL_AMT3&#x27;, &#x27;BILL_AMT5&#x27;, &#x27;BILL_AMT5&#x27;, &#x27;BILL_AMT6&#x27;]</pre></div></div></div><div class=\"sk-serial\"><div class=\"sk-item\"><div class=\"sk-serial\"><div class=\"sk-item\"><div class=\"sk-estimator sk-toggleable\"><input class=\"sk-toggleable__control sk-hidden--visually\" id=\"sk-estimator-id-29\" type=\"checkbox\" ><label for=\"sk-estimator-id-29\" class=\"sk-toggleable__label sk-toggleable__label-arrow\">PowerTransformer</label><div class=\"sk-toggleable__content\"><pre>PowerTransformer()</pre></div></div></div><div class=\"sk-item\"><div class=\"sk-estimator sk-toggleable\"><input class=\"sk-toggleable__control sk-hidden--visually\" id=\"sk-estimator-id-30\" type=\"checkbox\" ><label for=\"sk-estimator-id-30\" class=\"sk-toggleable__label sk-toggleable__label-arrow\">StandardScaler</label><div class=\"sk-toggleable__content\"><pre>StandardScaler()</pre></div></div></div></div></div></div></div></div><div class=\"sk-parallel-item\"><div class=\"sk-item\"><div class=\"sk-label-container\"><div class=\"sk-label sk-toggleable\"><input class=\"sk-toggleable__control sk-hidden--visually\" id=\"sk-estimator-id-31\" type=\"checkbox\" ><label for=\"sk-estimator-id-31\" class=\"sk-toggleable__label sk-toggleable__label-arrow\">onehotencoder</label><div class=\"sk-toggleable__content\"><pre>[&#x27;SEX&#x27;, &#x27;EDUCATION&#x27;, &#x27;MARRIAGE&#x27;, &#x27;PAY_1&#x27;, &#x27;PAY_2&#x27;, &#x27;PAY_3&#x27;, &#x27;PAY_4&#x27;, &#x27;PAY_5&#x27;, &#x27;PAY_6&#x27;]</pre></div></div></div><div class=\"sk-serial\"><div class=\"sk-item\"><div class=\"sk-estimator sk-toggleable\"><input class=\"sk-toggleable__control sk-hidden--visually\" id=\"sk-estimator-id-32\" type=\"checkbox\" ><label for=\"sk-estimator-id-32\" class=\"sk-toggleable__label sk-toggleable__label-arrow\">OneHotEncoder</label><div class=\"sk-toggleable__content\"><pre>OneHotEncoder(handle_unknown=&#x27;ignore&#x27;, sparse=False)</pre></div></div></div></div></div></div><div class=\"sk-parallel-item\"><div class=\"sk-item\"><div class=\"sk-label-container\"><div class=\"sk-label sk-toggleable\"><input class=\"sk-toggleable__control sk-hidden--visually\" id=\"sk-estimator-id-33\" type=\"checkbox\" ><label for=\"sk-estimator-id-33\" class=\"sk-toggleable__label sk-toggleable__label-arrow\">drop</label><div class=\"sk-toggleable__content\"><pre>[&#x27;ID&#x27;]</pre></div></div></div><div class=\"sk-serial\"><div class=\"sk-item\"><div class=\"sk-estimator sk-toggleable\"><input class=\"sk-toggleable__control sk-hidden--visually\" id=\"sk-estimator-id-34\" type=\"checkbox\" ><label for=\"sk-estimator-id-34\" class=\"sk-toggleable__label sk-toggleable__label-arrow\">drop</label><div class=\"sk-toggleable__content\"><pre>drop</pre></div></div></div></div></div></div></div></div><div class=\"sk-item\"><div class=\"sk-estimator sk-toggleable\"><input class=\"sk-toggleable__control sk-hidden--visually\" id=\"sk-estimator-id-35\" type=\"checkbox\" ><label for=\"sk-estimator-id-35\" class=\"sk-toggleable__label sk-toggleable__label-arrow\">RandomForestClassifier</label><div class=\"sk-toggleable__content\"><pre>RandomForestClassifier(bootstrap=False, class_weight=&#x27;balanced&#x27;,\n",
       "                       criterion=&#x27;log_loss&#x27;, max_depth=10, n_estimators=500,\n",
       "                       n_jobs=-1, random_state=69)</pre></div></div></div></div></div></div></div>"
      ],
      "text/plain": [
       "Pipeline(steps=[('columntransformer',\n",
       "                 ColumnTransformer(transformers=[('standardscaler',\n",
       "                                                  StandardScaler(), ['AGE']),\n",
       "                                                 ('pipeline',\n",
       "                                                  Pipeline(steps=[('powertransformer',\n",
       "                                                                   PowerTransformer()),\n",
       "                                                                  ('standardscaler',\n",
       "                                                                   StandardScaler())]),\n",
       "                                                  ['LIMIT_BAL', 'PAY_AMT1',\n",
       "                                                   'PAY_AMT2', 'PAY_AMT3',\n",
       "                                                   'PAY_AMT4', 'PAY_AMT5',\n",
       "                                                   'PAY_AMT6', 'BILL_AMT1',\n",
       "                                                   'BILL_AMT2', 'BILL_AMT3',\n",
       "                                                   'BILL_AMT5', 'BIL...\n",
       "                                                   'BILL_AMT6']),\n",
       "                                                 ('onehotencoder',\n",
       "                                                  OneHotEncoder(handle_unknown='ignore',\n",
       "                                                                sparse=False),\n",
       "                                                  ['SEX', 'EDUCATION',\n",
       "                                                   'MARRIAGE', 'PAY_1', 'PAY_2',\n",
       "                                                   'PAY_3', 'PAY_4', 'PAY_5',\n",
       "                                                   'PAY_6']),\n",
       "                                                 ('drop', 'drop', ['ID'])])),\n",
       "                ('randomforestclassifier',\n",
       "                 RandomForestClassifier(bootstrap=False,\n",
       "                                        class_weight='balanced',\n",
       "                                        criterion='log_loss', max_depth=10,\n",
       "                                        n_estimators=500, n_jobs=-1,\n",
       "                                        random_state=69))])"
      ]
     },
     "execution_count": 37,
     "metadata": {},
     "output_type": "execute_result"
    }
   ],
   "source": [
    "pipe_rfc_opt.fit(X_train, y_train)"
   ]
  },
  {
   "cell_type": "code",
   "execution_count": 38,
   "metadata": {
    "tags": []
   },
   "outputs": [
    {
     "data": {
      "text/html": [
       "\n",
       "    <style>\n",
       "    table.eli5-weights tr:hover {\n",
       "        filter: brightness(85%);\n",
       "    }\n",
       "</style>\n",
       "\n",
       "\n",
       "\n",
       "    \n",
       "\n",
       "    \n",
       "\n",
       "    \n",
       "\n",
       "    \n",
       "\n",
       "    \n",
       "\n",
       "    \n",
       "\n",
       "\n",
       "    \n",
       "\n",
       "    \n",
       "\n",
       "    \n",
       "\n",
       "    \n",
       "\n",
       "    \n",
       "\n",
       "    \n",
       "\n",
       "\n",
       "    \n",
       "\n",
       "    \n",
       "\n",
       "    \n",
       "\n",
       "    \n",
       "\n",
       "    \n",
       "        <table class=\"eli5-weights eli5-feature-importances\" style=\"border-collapse: collapse; border: none; margin-top: 0em; table-layout: auto;\">\n",
       "    <thead>\n",
       "    <tr style=\"border: none;\">\n",
       "        <th style=\"padding: 0 1em 0 0.5em; text-align: right; border: none;\">Weight</th>\n",
       "        <th style=\"padding: 0 0.5em 0 0.5em; text-align: left; border: none;\">Feature</th>\n",
       "    </tr>\n",
       "    </thead>\n",
       "    <tbody>\n",
       "    \n",
       "        <tr style=\"background-color: hsl(120, 100.00%, 80.00%); border: none;\">\n",
       "            <td style=\"padding: 0 1em 0 0.5em; text-align: right; border: none;\">\n",
       "                0.1031\n",
       "                \n",
       "                    &plusmn; 0.1651\n",
       "                \n",
       "            </td>\n",
       "            <td style=\"padding: 0 0.5em 0 0.5em; text-align: left; border: none;\">\n",
       "                PAY_1_2\n",
       "            </td>\n",
       "        </tr>\n",
       "    \n",
       "        <tr style=\"background-color: hsl(120, 100.00%, 86.15%); border: none;\">\n",
       "            <td style=\"padding: 0 1em 0 0.5em; text-align: right; border: none;\">\n",
       "                0.0610\n",
       "                \n",
       "                    &plusmn; 0.1444\n",
       "                \n",
       "            </td>\n",
       "            <td style=\"padding: 0 0.5em 0 0.5em; text-align: left; border: none;\">\n",
       "                PAY_2_2\n",
       "            </td>\n",
       "        </tr>\n",
       "    \n",
       "        <tr style=\"background-color: hsl(120, 100.00%, 87.98%); border: none;\">\n",
       "            <td style=\"padding: 0 1em 0 0.5em; text-align: right; border: none;\">\n",
       "                0.0498\n",
       "                \n",
       "                    &plusmn; 0.0490\n",
       "                \n",
       "            </td>\n",
       "            <td style=\"padding: 0 0.5em 0 0.5em; text-align: left; border: none;\">\n",
       "                PAY_AMT1\n",
       "            </td>\n",
       "        </tr>\n",
       "    \n",
       "        <tr style=\"background-color: hsl(120, 100.00%, 88.29%); border: none;\">\n",
       "            <td style=\"padding: 0 1em 0 0.5em; text-align: right; border: none;\">\n",
       "                0.0480\n",
       "                \n",
       "                    &plusmn; 0.0443\n",
       "                \n",
       "            </td>\n",
       "            <td style=\"padding: 0 0.5em 0 0.5em; text-align: left; border: none;\">\n",
       "                LIMIT_BAL\n",
       "            </td>\n",
       "        </tr>\n",
       "    \n",
       "        <tr style=\"background-color: hsl(120, 100.00%, 88.62%); border: none;\">\n",
       "            <td style=\"padding: 0 1em 0 0.5em; text-align: right; border: none;\">\n",
       "                0.0461\n",
       "                \n",
       "                    &plusmn; 0.0941\n",
       "                \n",
       "            </td>\n",
       "            <td style=\"padding: 0 0.5em 0 0.5em; text-align: left; border: none;\">\n",
       "                PAY_1_0\n",
       "            </td>\n",
       "        </tr>\n",
       "    \n",
       "        <tr style=\"background-color: hsl(120, 100.00%, 89.60%); border: none;\">\n",
       "            <td style=\"padding: 0 1em 0 0.5em; text-align: right; border: none;\">\n",
       "                0.0405\n",
       "                \n",
       "                    &plusmn; 0.0375\n",
       "                \n",
       "            </td>\n",
       "            <td style=\"padding: 0 0.5em 0 0.5em; text-align: left; border: none;\">\n",
       "                PAY_AMT2\n",
       "            </td>\n",
       "        </tr>\n",
       "    \n",
       "        <tr style=\"background-color: hsl(120, 100.00%, 89.65%); border: none;\">\n",
       "            <td style=\"padding: 0 1em 0 0.5em; text-align: right; border: none;\">\n",
       "                0.0403\n",
       "                \n",
       "                    &plusmn; 0.1215\n",
       "                \n",
       "            </td>\n",
       "            <td style=\"padding: 0 0.5em 0 0.5em; text-align: left; border: none;\">\n",
       "                PAY_3_2\n",
       "            </td>\n",
       "        </tr>\n",
       "    \n",
       "        <tr style=\"background-color: hsl(120, 100.00%, 89.80%); border: none;\">\n",
       "            <td style=\"padding: 0 1em 0 0.5em; text-align: right; border: none;\">\n",
       "                0.0394\n",
       "                \n",
       "                    &plusmn; 0.0399\n",
       "                \n",
       "            </td>\n",
       "            <td style=\"padding: 0 0.5em 0 0.5em; text-align: left; border: none;\">\n",
       "                PAY_AMT3\n",
       "            </td>\n",
       "        </tr>\n",
       "    \n",
       "        <tr style=\"background-color: hsl(120, 100.00%, 90.15%); border: none;\">\n",
       "            <td style=\"padding: 0 1em 0 0.5em; text-align: right; border: none;\">\n",
       "                0.0375\n",
       "                \n",
       "                    &plusmn; 0.1032\n",
       "                \n",
       "            </td>\n",
       "            <td style=\"padding: 0 0.5em 0 0.5em; text-align: left; border: none;\">\n",
       "                PAY_4_2\n",
       "            </td>\n",
       "        </tr>\n",
       "    \n",
       "        <tr style=\"background-color: hsl(120, 100.00%, 90.20%); border: none;\">\n",
       "            <td style=\"padding: 0 1em 0 0.5em; text-align: right; border: none;\">\n",
       "                0.0372\n",
       "                \n",
       "                    &plusmn; 0.0309\n",
       "                \n",
       "            </td>\n",
       "            <td style=\"padding: 0 0.5em 0 0.5em; text-align: left; border: none;\">\n",
       "                BILL_AMT1\n",
       "            </td>\n",
       "        </tr>\n",
       "    \n",
       "        <tr style=\"background-color: hsl(120, 100.00%, 90.58%); border: none;\">\n",
       "            <td style=\"padding: 0 1em 0 0.5em; text-align: right; border: none;\">\n",
       "                0.0352\n",
       "                \n",
       "                    &plusmn; 0.0283\n",
       "                \n",
       "            </td>\n",
       "            <td style=\"padding: 0 0.5em 0 0.5em; text-align: left; border: none;\">\n",
       "                BILL_AMT2\n",
       "            </td>\n",
       "        </tr>\n",
       "    \n",
       "        <tr style=\"background-color: hsl(120, 100.00%, 90.68%); border: none;\">\n",
       "            <td style=\"padding: 0 1em 0 0.5em; text-align: right; border: none;\">\n",
       "                0.0346\n",
       "                \n",
       "                    &plusmn; 0.0335\n",
       "                \n",
       "            </td>\n",
       "            <td style=\"padding: 0 0.5em 0 0.5em; text-align: left; border: none;\">\n",
       "                PAY_AMT6\n",
       "            </td>\n",
       "        </tr>\n",
       "    \n",
       "        <tr style=\"background-color: hsl(120, 100.00%, 90.90%); border: none;\">\n",
       "            <td style=\"padding: 0 1em 0 0.5em; text-align: right; border: none;\">\n",
       "                0.0335\n",
       "                \n",
       "                    &plusmn; 0.0299\n",
       "                \n",
       "            </td>\n",
       "            <td style=\"padding: 0 0.5em 0 0.5em; text-align: left; border: none;\">\n",
       "                PAY_AMT5\n",
       "            </td>\n",
       "        </tr>\n",
       "    \n",
       "        <tr style=\"background-color: hsl(120, 100.00%, 91.13%); border: none;\">\n",
       "            <td style=\"padding: 0 1em 0 0.5em; text-align: right; border: none;\">\n",
       "                0.0323\n",
       "                \n",
       "                    &plusmn; 0.0299\n",
       "                \n",
       "            </td>\n",
       "            <td style=\"padding: 0 0.5em 0 0.5em; text-align: left; border: none;\">\n",
       "                BILL_AMT3\n",
       "            </td>\n",
       "        </tr>\n",
       "    \n",
       "        <tr style=\"background-color: hsl(120, 100.00%, 91.17%); border: none;\">\n",
       "            <td style=\"padding: 0 1em 0 0.5em; text-align: right; border: none;\">\n",
       "                0.0321\n",
       "                \n",
       "                    &plusmn; 0.0270\n",
       "                \n",
       "            </td>\n",
       "            <td style=\"padding: 0 0.5em 0 0.5em; text-align: left; border: none;\">\n",
       "                BILL_AMT5\n",
       "            </td>\n",
       "        </tr>\n",
       "    \n",
       "        <tr style=\"background-color: hsl(120, 100.00%, 91.25%); border: none;\">\n",
       "            <td style=\"padding: 0 1em 0 0.5em; text-align: right; border: none;\">\n",
       "                0.0317\n",
       "                \n",
       "                    &plusmn; 0.0294\n",
       "                \n",
       "            </td>\n",
       "            <td style=\"padding: 0 0.5em 0 0.5em; text-align: left; border: none;\">\n",
       "                BILL_AMT5\n",
       "            </td>\n",
       "        </tr>\n",
       "    \n",
       "        <tr style=\"background-color: hsl(120, 100.00%, 91.33%); border: none;\">\n",
       "            <td style=\"padding: 0 1em 0 0.5em; text-align: right; border: none;\">\n",
       "                0.0312\n",
       "                \n",
       "                    &plusmn; 0.0282\n",
       "                \n",
       "            </td>\n",
       "            <td style=\"padding: 0 0.5em 0 0.5em; text-align: left; border: none;\">\n",
       "                BILL_AMT6\n",
       "            </td>\n",
       "        </tr>\n",
       "    \n",
       "        <tr style=\"background-color: hsl(120, 100.00%, 91.34%); border: none;\">\n",
       "            <td style=\"padding: 0 1em 0 0.5em; text-align: right; border: none;\">\n",
       "                0.0312\n",
       "                \n",
       "                    &plusmn; 0.0305\n",
       "                \n",
       "            </td>\n",
       "            <td style=\"padding: 0 0.5em 0 0.5em; text-align: left; border: none;\">\n",
       "                PAY_AMT4\n",
       "            </td>\n",
       "        </tr>\n",
       "    \n",
       "        <tr style=\"background-color: hsl(120, 100.00%, 91.59%); border: none;\">\n",
       "            <td style=\"padding: 0 1em 0 0.5em; text-align: right; border: none;\">\n",
       "                0.0299\n",
       "                \n",
       "                    &plusmn; 0.0893\n",
       "                \n",
       "            </td>\n",
       "            <td style=\"padding: 0 0.5em 0 0.5em; text-align: left; border: none;\">\n",
       "                PAY_5_2\n",
       "            </td>\n",
       "        </tr>\n",
       "    \n",
       "        <tr style=\"background-color: hsl(120, 100.00%, 92.17%); border: none;\">\n",
       "            <td style=\"padding: 0 1em 0 0.5em; text-align: right; border: none;\">\n",
       "                0.0270\n",
       "                \n",
       "                    &plusmn; 0.0183\n",
       "                \n",
       "            </td>\n",
       "            <td style=\"padding: 0 0.5em 0 0.5em; text-align: left; border: none;\">\n",
       "                AGE\n",
       "            </td>\n",
       "        </tr>\n",
       "    \n",
       "    \n",
       "        \n",
       "            <tr style=\"background-color: hsl(120, 100.00%, 92.17%); border: none;\">\n",
       "                <td colspan=\"2\" style=\"padding: 0 0.5em 0 0.5em; text-align: center; border: none; white-space: nowrap;\">\n",
       "                    <i>&hellip; 68 more &hellip;</i>\n",
       "                </td>\n",
       "            </tr>\n",
       "        \n",
       "    \n",
       "    </tbody>\n",
       "</table>\n",
       "    \n",
       "\n",
       "    \n",
       "\n",
       "\n",
       "    \n",
       "\n",
       "    \n",
       "\n",
       "    \n",
       "\n",
       "    \n",
       "\n",
       "    \n",
       "\n",
       "    \n",
       "\n",
       "\n",
       "\n"
      ],
      "text/plain": [
       "Explanation(estimator=\"RandomForestClassifier(bootstrap=False, class_weight='balanced',\\n                       criterion='log_loss', max_depth=10, n_estimators=500,\\n                       n_jobs=-1, random_state=69)\", description='\\nRandom forest feature importances; values are numbers 0 <= x <= 1;\\nall values sum to 1.\\n', error=None, method='feature importances', is_regression=False, targets=None, feature_importances=FeatureImportances(importances=[FeatureWeight(feature='PAY_1_2', weight=0.10313089894043068, std=0.08254484235568435, value=None), FeatureWeight(feature='PAY_2_2', weight=0.06102696057588205, std=0.07220583371453597, value=None), FeatureWeight(feature='PAY_AMT1', weight=0.049803463193042144, std=0.02451139044523816, value=None), FeatureWeight(feature='LIMIT_BAL', weight=0.04800428112452539, std=0.02215581734745242, value=None), FeatureWeight(feature='PAY_1_0', weight=0.046110615739734864, std=0.04704620042656952, value=None), FeatureWeight(feature='PAY_AMT2', weight=0.04054743372610238, std=0.018739567758670108, value=None), FeatureWeight(feature='PAY_3_2', weight=0.040257319043531706, std=0.06076148678011761, value=None), FeatureWeight(feature='PAY_AMT3', weight=0.039403947743081855, std=0.019969598290346592, value=None), FeatureWeight(feature='PAY_4_2', weight=0.03751478009094382, std=0.0516190833854915, value=None), FeatureWeight(feature='BILL_AMT1', weight=0.03724734926476064, std=0.015435311522698138, value=None), FeatureWeight(feature='BILL_AMT2', weight=0.03515211364286974, std=0.014155191194979594, value=None), FeatureWeight(feature='PAY_AMT6', weight=0.03463807239462233, std=0.016735791798848345, value=None), FeatureWeight(feature='PAY_AMT5', weight=0.03347528294961895, std=0.014943799276826755, value=None), FeatureWeight(feature='BILL_AMT3', weight=0.03229189139355679, std=0.014943935009937778, value=None), FeatureWeight(feature='BILL_AMT5', weight=0.032052609450403946, std=0.01349259479647999, value=None), FeatureWeight(feature='BILL_AMT5', weight=0.031668169066910674, std=0.014719128407530351, value=None), FeatureWeight(feature='BILL_AMT6', weight=0.031238378353059402, std=0.014122676959785497, value=None), FeatureWeight(feature='PAY_AMT4', weight=0.03121186157363332, std=0.015243081418756915, value=None), FeatureWeight(feature='PAY_5_2', weight=0.02991510025444977, std=0.044672267327077235, value=None), FeatureWeight(feature='AGE', weight=0.02699525024897421, std=0.009170738740403401, value=None)], remaining=68), decision_tree=None, highlight_spaces=None, transition_features=None, image=None)"
      ]
     },
     "execution_count": 38,
     "metadata": {},
     "output_type": "execute_result"
    }
   ],
   "source": [
    "import eli5\n",
    "\n",
    "eli5.explain_weights(pipe_rfc_opt.named_steps[\"randomforestclassifier\"], feature_names=column_names)"
   ]
  },
  {
   "cell_type": "markdown",
   "metadata": {},
   "source": [
    "From the graph above, we can see that `PAY_1_2` and `PAY_2_2` has the highest weight in the random forest classifier. "
   ]
  },
  {
   "cell_type": "markdown",
   "metadata": {},
   "source": [
    "<!-- END QUESTION -->\n",
    "\n",
    "<!-- BEGIN QUESTION -->\n",
    "\n",
    "<div class=\"alert alert-info\">\n",
    "\n",
    "## 12. Results on the test set <a name=\"12\"></a>\n",
    "rubric={accuracy,reasoning}\n",
    "\n",
    "**Your tasks:**\n",
    "\n",
    "1. Try your best performing model on the test data and report test scores. \n",
    "2. Do the test scores agree with the validation scores from before? To what extent do you trust your results? Do you think you've had issues with optimization bias? \n",
    "3. Take one or two test predictions and explain them with SHAP force plots.  \n",
    "    \n",
    "</div>\n",
    "\n",
    "_Points:_ 6"
   ]
  },
  {
   "cell_type": "markdown",
   "metadata": {},
   "source": [
    "The test scores are consistent with the cross-validation scores. It implies that the model is with good generalizability."
   ]
  },
  {
   "cell_type": "code",
   "execution_count": 39,
   "metadata": {
    "tags": []
   },
   "outputs": [
    {
     "name": "stdout",
     "output_type": "stream",
     "text": [
      "Test accuracy is 0.76.\n",
      "Test precision is 0.46.\n",
      "Test recall is 0.61.\n",
      "Test f1 score is 0.53.\n"
     ]
    }
   ],
   "source": [
    "from sklearn.metrics import accuracy_score, precision_score, recall_score, f1_score\n",
    "pipe_lr_opt.fit( X_train, y_train)\n",
    "y_hat = pipe_lr_opt.predict( X_test)\n",
    "print( f'Test accuracy is { accuracy_score( y_test, y_hat):.2f}.')\n",
    "print( f'Test precision is { precision_score( y_test, y_hat):.2f}.')\n",
    "print( f'Test recall is { recall_score( y_test, y_hat):.2f}.')\n",
    "print( f'Test f1 score is { f1_score( y_test, y_hat):.2f}.')"
   ]
  },
  {
   "cell_type": "markdown",
   "metadata": {},
   "source": [
    "<!-- END QUESTION -->\n",
    "\n",
    "<!-- BEGIN QUESTION -->\n",
    "\n",
    "<div class=\"alert alert-info\">\n",
    "\n",
    "## 13. Summary of results <a name=\"13\"></a>\n",
    "rubric={reasoning}\n",
    "\n",
    "Imagine that you want to present the summary of these results to your boss and co-workers. \n",
    "\n",
    "**Your tasks:**\n",
    "\n",
    "1. Create a table summarizing important results. \n",
    "2. Write concluding remarks.\n",
    "3. Discuss other ideas that you did not try but could potentially improve the performance/interpretability . \n",
    "3. Report your final test score along with the metric you used at the top of this notebook.\n",
    "    \n",
    "</div>\n",
    "\n",
    "_Points:_ 8"
   ]
  },
  {
   "cell_type": "markdown",
   "metadata": {},
   "source": [
    "In conclusion, the logistic regression model is the best model to be employed. It has good prediction performane and interpretability. The model achieves a test f1 score of 0.53, a test precision of 0.46, and a test recall of 0.61. It suggests the model can identify around 61% of all defaulting clients, while having 54% as false alarms.\n",
    "\n",
    "What we have not done includes tuning the threshold for the decision boundary and evaluating whether the predicted probability output can be realiably used in risk assessment."
   ]
  },
  {
   "cell_type": "code",
   "execution_count": 47,
   "metadata": {
    "tags": []
   },
   "outputs": [],
   "source": [
    "cv_train_scores = result_dict_opt[ 'LogReg'].loc[\n",
    "    [ 'train_accuracy', 'train_precision', 'train_recall', 'train_f1'], 'mean'\n",
    "    ].reset_index( drop = True)\n",
    "cv_test_scores = result_dict_opt[ 'LogReg'].loc[\n",
    "    [ 'test_accuracy', 'test_precision', 'test_recall', 'test_f1'], 'mean'\n",
    "    ].reset_index( drop = True)"
   ]
  },
  {
   "cell_type": "code",
   "execution_count": 53,
   "metadata": {},
   "outputs": [
    {
     "data": {
      "text/html": [
       "<div>\n",
       "<style scoped>\n",
       "    .dataframe tbody tr th:only-of-type {\n",
       "        vertical-align: middle;\n",
       "    }\n",
       "\n",
       "    .dataframe tbody tr th {\n",
       "        vertical-align: top;\n",
       "    }\n",
       "\n",
       "    .dataframe thead th {\n",
       "        text-align: right;\n",
       "    }\n",
       "</style>\n",
       "<table border=\"1\" class=\"dataframe\">\n",
       "  <thead>\n",
       "    <tr style=\"text-align: right;\">\n",
       "      <th></th>\n",
       "      <th>CV - Train</th>\n",
       "      <th>Validation</th>\n",
       "      <th>Test</th>\n",
       "    </tr>\n",
       "    <tr>\n",
       "      <th>Scores</th>\n",
       "      <th></th>\n",
       "      <th></th>\n",
       "      <th></th>\n",
       "    </tr>\n",
       "  </thead>\n",
       "  <tbody>\n",
       "    <tr>\n",
       "      <th>accuracy</th>\n",
       "      <td>0.764458</td>\n",
       "      <td>0.763000</td>\n",
       "      <td>0.756667</td>\n",
       "    </tr>\n",
       "    <tr>\n",
       "      <th>precision</th>\n",
       "      <td>0.466728</td>\n",
       "      <td>0.464589</td>\n",
       "      <td>0.464616</td>\n",
       "    </tr>\n",
       "    <tr>\n",
       "      <th>recall</th>\n",
       "      <td>0.650810</td>\n",
       "      <td>0.641130</td>\n",
       "      <td>0.610706</td>\n",
       "    </tr>\n",
       "    <tr>\n",
       "      <th>f1</th>\n",
       "      <td>0.543577</td>\n",
       "      <td>0.538582</td>\n",
       "      <td>0.527737</td>\n",
       "    </tr>\n",
       "  </tbody>\n",
       "</table>\n",
       "</div>"
      ],
      "text/plain": [
       "           CV - Train  Validation      Test\n",
       "Scores                                     \n",
       "accuracy     0.764458    0.763000  0.756667\n",
       "precision    0.466728    0.464589  0.464616\n",
       "recall       0.650810    0.641130  0.610706\n",
       "f1           0.543577    0.538582  0.527737"
      ]
     },
     "execution_count": 53,
     "metadata": {},
     "output_type": "execute_result"
    }
   ],
   "source": [
    "pd.DataFrame({\n",
    "    'Scores': [ 'accuracy', 'precision', 'recall', 'f1'], 'CV - Train': cv_train_scores, 'Validation': cv_test_scores,\n",
    "    'Test': [ accuracy_score( y_test, y_hat), precision_score( y_test, y_hat), recall_score( y_test, y_hat), f1_score( y_test, y_hat)]\n",
    "}).set_index( 'Scores')"
   ]
  },
  {
   "cell_type": "markdown",
   "metadata": {},
   "source": [
    "<!-- END QUESTION -->\n",
    "\n",
    "<!-- BEGIN QUESTION -->\n",
    "\n",
    "<div class=\"alert alert-warning\">\n",
    "\n",
    "## 14. Creating a data analysis pipeline (Challenging)\n",
    "rubric={reasoning}\n",
    "\n",
    "**Your tasks:**\n",
    "- In 522 you learned how build a reproducible data analysis pipeline. Convert this notebook into scripts and create a reproducible data analysis pipeline with appropriate documentation. Submit your project folder in addition to this notebook on GitHub and briefly comment on your organization in the text box below.\n",
    "    \n",
    "</div>\n",
    "\n",
    "_Points:_ 2"
   ]
  },
  {
   "cell_type": "markdown",
   "metadata": {},
   "source": [
    "_Type your answer here, replacing this text._"
   ]
  },
  {
   "cell_type": "markdown",
   "metadata": {},
   "source": [
    "<!-- END QUESTION -->\n",
    "\n",
    "<!-- BEGIN QUESTION -->\n",
    "\n",
    "<div class=\"alert alert-warning\">\n",
    "\n",
    "## 15. Your takeaway from the course (Challenging)\n",
    "rubric={reasoning}\n",
    "\n",
    "**Your tasks:**\n",
    "\n",
    "What is your biggest takeaway from this course? \n",
    "    \n",
    "</div>\n",
    "\n",
    "_Points:_ 0.25"
   ]
  },
  {
   "cell_type": "markdown",
   "metadata": {},
   "source": [
    "Data science and machine learning is not blindly plugging models to the data. Most effort should be put on feature engineering and interpretability."
   ]
  },
  {
   "cell_type": "markdown",
   "metadata": {},
   "source": [
    "<!-- END QUESTION -->\n",
    "\n",
    "<div class=\"alert alert-danger\" style=\"color:black\">\n",
    "    \n",
    "**Restart, run all and export a PDF before submitting**\n",
    "    \n",
    "Before submitting,\n",
    "don't forget to run all cells in your notebook\n",
    "to make sure there are no errors\n",
    "and so that the TAs can see your plots on Gradescope.\n",
    "You can do this by clicking the ▶▶ button\n",
    "or going to `Kernel -> Restart Kernel and Run All Cells...` in the menu.\n",
    "This is not only important for MDS,\n",
    "but a good habit you should get into before ever committing a notebook to GitHub,\n",
    "so that your collaborators can run it from top to bottom\n",
    "without issues.\n",
    "    \n",
    "After running all the cells,\n",
    "export a PDF of the notebook (preferably the WebPDF export)\n",
    "and upload this PDF together with the ipynb file to Gradescope\n",
    "(you can select two files when uploading to Gradescope)\n",
    "</div>"
   ]
  },
  {
   "cell_type": "markdown",
   "metadata": {
    "tags": [
     "feedback"
    ]
   },
   "source": [
    "---\n",
    "\n",
    "## Help us improve the labs\n",
    "\n",
    "The MDS program is continually looking to improve our courses, including lab questions and content. The following optional questions will not affect your grade in any way nor will they be used for anything other than program improvement:\n",
    "\n",
    "1. Approximately how many hours did you spend working or thinking about this assignment (including lab time)?\n",
    "\n",
    "#Ans: 5. Hyperparameter tuning takes a lot of time.\n",
    "\n",
    "2. Do you have any feedback on the lab you be willing to share? For example, any part or question that you particularly liked or disliked?\n",
    "\n",
    "#Ans:"
   ]
  },
  {
   "cell_type": "code",
   "execution_count": null,
   "metadata": {},
   "outputs": [],
   "source": []
  }
 ],
 "metadata": {
  "kernelspec": {
   "display_name": "Python [conda env:573]",
   "language": "python",
   "name": "conda-env-573-py"
  },
  "language_info": {
   "codemirror_mode": {
    "name": "ipython",
    "version": 3
   },
   "file_extension": ".py",
   "mimetype": "text/x-python",
   "name": "python",
   "nbconvert_exporter": "python",
   "pygments_lexer": "ipython3",
   "version": "3.10.6"
  },
  "otter": {
   "OK_FORMAT": true,
   "tests": {}
  }
 },
 "nbformat": 4,
 "nbformat_minor": 4
}
